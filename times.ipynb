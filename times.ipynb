{
 "cells": [
  {
   "cell_type": "markdown",
   "metadata": {},
   "source": [
    "##Source: https://www.kaggle.com/datasets/r1chardson/the-world-university-rankings-2011-2023/data\n",
    "\n",
    "In this notebook, I've Selected Times Higher Education University Ranking 2024. \n",
    "\n",
    "At first I've loaded the necessary libraries."
   ]
  },
  {
   "cell_type": "code",
   "execution_count": 1,
   "metadata": {},
   "outputs": [],
   "source": [
    "import pandas as pd\n",
    "import numpy as np\n",
    "import matplotlib.pyplot as plt\n",
    "import seaborn as sns\n",
    "import plotly.express as px"
   ]
  },
  {
   "cell_type": "markdown",
   "metadata": {},
   "source": [
    "Reading Database from the source as 'pyarrow' backend."
   ]
  },
  {
   "cell_type": "code",
   "execution_count": 2,
   "metadata": {},
   "outputs": [
    {
     "data": {
      "text/html": [
       "<div>\n",
       "<style scoped>\n",
       "    .dataframe tbody tr th:only-of-type {\n",
       "        vertical-align: middle;\n",
       "    }\n",
       "\n",
       "    .dataframe tbody tr th {\n",
       "        vertical-align: top;\n",
       "    }\n",
       "\n",
       "    .dataframe thead th {\n",
       "        text-align: right;\n",
       "    }\n",
       "</style>\n",
       "<table border=\"1\" class=\"dataframe\">\n",
       "  <thead>\n",
       "    <tr style=\"text-align: right;\">\n",
       "      <th></th>\n",
       "      <th>rank_order</th>\n",
       "      <th>rank</th>\n",
       "      <th>name</th>\n",
       "      <th>scores_overall</th>\n",
       "      <th>scores_overall_rank</th>\n",
       "      <th>scores_teaching</th>\n",
       "      <th>scores_teaching_rank</th>\n",
       "      <th>scores_research</th>\n",
       "      <th>scores_research_rank</th>\n",
       "      <th>scores_citations</th>\n",
       "      <th>...</th>\n",
       "      <th>location</th>\n",
       "      <th>stats_number_students</th>\n",
       "      <th>stats_student_staff_ratio</th>\n",
       "      <th>stats_pc_intl_students</th>\n",
       "      <th>stats_female_male_ratio</th>\n",
       "      <th>stats_proportion_of_isr</th>\n",
       "      <th>aliases</th>\n",
       "      <th>subjects_offered</th>\n",
       "      <th>closed</th>\n",
       "      <th>unaccredited</th>\n",
       "    </tr>\n",
       "  </thead>\n",
       "  <tbody>\n",
       "    <tr>\n",
       "      <th>0</th>\n",
       "      <td>10</td>\n",
       "      <td>1</td>\n",
       "      <td>University of Oxford</td>\n",
       "      <td>98.5</td>\n",
       "      <td>10</td>\n",
       "      <td>96.6</td>\n",
       "      <td>5</td>\n",
       "      <td>100.0</td>\n",
       "      <td>2</td>\n",
       "      <td>99.0</td>\n",
       "      <td>...</td>\n",
       "      <td>United Kingdom</td>\n",
       "      <td>21,750</td>\n",
       "      <td>10.9</td>\n",
       "      <td>42%</td>\n",
       "      <td>49 : 51</td>\n",
       "      <td>23%</td>\n",
       "      <td>University of Oxford</td>\n",
       "      <td>Geography,Chemistry,Chemical Engineering,Biolo...</td>\n",
       "      <td>False</td>\n",
       "      <td>False</td>\n",
       "    </tr>\n",
       "    <tr>\n",
       "      <th>1</th>\n",
       "      <td>20</td>\n",
       "      <td>2</td>\n",
       "      <td>Stanford University</td>\n",
       "      <td>98.0</td>\n",
       "      <td>20</td>\n",
       "      <td>99.0</td>\n",
       "      <td>1</td>\n",
       "      <td>97.8</td>\n",
       "      <td>8</td>\n",
       "      <td>99.6</td>\n",
       "      <td>...</td>\n",
       "      <td>United States</td>\n",
       "      <td>14,517</td>\n",
       "      <td>6.4</td>\n",
       "      <td>23%</td>\n",
       "      <td>47 : 53</td>\n",
       "      <td>22%</td>\n",
       "      <td>Stanford University</td>\n",
       "      <td>Computer Science,Communication &amp; Media Studies...</td>\n",
       "      <td>False</td>\n",
       "      <td>False</td>\n",
       "    </tr>\n",
       "    <tr>\n",
       "      <th>2</th>\n",
       "      <td>30</td>\n",
       "      <td>3</td>\n",
       "      <td>Massachusetts Institute of Technology</td>\n",
       "      <td>97.9</td>\n",
       "      <td>30</td>\n",
       "      <td>98.6</td>\n",
       "      <td>2</td>\n",
       "      <td>96.2</td>\n",
       "      <td>11</td>\n",
       "      <td>99.7</td>\n",
       "      <td>...</td>\n",
       "      <td>United States</td>\n",
       "      <td>11,085</td>\n",
       "      <td>8.0</td>\n",
       "      <td>33%</td>\n",
       "      <td>41 : 59</td>\n",
       "      <td>40%</td>\n",
       "      <td>Massachusetts Institute of Technology</td>\n",
       "      <td>Architecture,Economics &amp; Econometrics,Archaeol...</td>\n",
       "      <td>False</td>\n",
       "      <td>False</td>\n",
       "    </tr>\n",
       "    <tr>\n",
       "      <th>3</th>\n",
       "      <td>40</td>\n",
       "      <td>4</td>\n",
       "      <td>Harvard University</td>\n",
       "      <td>97.8</td>\n",
       "      <td>40</td>\n",
       "      <td>97.7</td>\n",
       "      <td>3</td>\n",
       "      <td>99.9</td>\n",
       "      <td>3</td>\n",
       "      <td>99.4</td>\n",
       "      <td>...</td>\n",
       "      <td>United States</td>\n",
       "      <td>20,050</td>\n",
       "      <td>9.0</td>\n",
       "      <td>25%</td>\n",
       "      <td>51 : 49</td>\n",
       "      <td>12%</td>\n",
       "      <td>Harvard University</td>\n",
       "      <td>Sociology,Architecture,Physics &amp; Astronomy,Psy...</td>\n",
       "      <td>False</td>\n",
       "      <td>False</td>\n",
       "    </tr>\n",
       "    <tr>\n",
       "      <th>4</th>\n",
       "      <td>50</td>\n",
       "      <td>5</td>\n",
       "      <td>University of Cambridge</td>\n",
       "      <td>97.5</td>\n",
       "      <td>50</td>\n",
       "      <td>95.8</td>\n",
       "      <td>7</td>\n",
       "      <td>100.0</td>\n",
       "      <td>1</td>\n",
       "      <td>98.0</td>\n",
       "      <td>...</td>\n",
       "      <td>United Kingdom</td>\n",
       "      <td>20,565</td>\n",
       "      <td>11.5</td>\n",
       "      <td>38%</td>\n",
       "      <td>48 : 52</td>\n",
       "      <td>27%</td>\n",
       "      <td>University of Cambridge</td>\n",
       "      <td>Politics &amp; International Studies (incl Develop...</td>\n",
       "      <td>False</td>\n",
       "      <td>False</td>\n",
       "    </tr>\n",
       "  </tbody>\n",
       "</table>\n",
       "<p>5 rows × 25 columns</p>\n",
       "</div>"
      ],
      "text/plain": [
       "   rank_order rank                                   name scores_overall  \\\n",
       "0          10    1                   University of Oxford           98.5   \n",
       "1          20    2                    Stanford University           98.0   \n",
       "2          30    3  Massachusetts Institute of Technology           97.9   \n",
       "3          40    4                     Harvard University           97.8   \n",
       "4          50    5                University of Cambridge           97.5   \n",
       "\n",
       "   scores_overall_rank  scores_teaching  scores_teaching_rank  \\\n",
       "0                   10             96.6                     5   \n",
       "1                   20             99.0                     1   \n",
       "2                   30             98.6                     2   \n",
       "3                   40             97.7                     3   \n",
       "4                   50             95.8                     7   \n",
       "\n",
       "   scores_research  scores_research_rank  scores_citations  ...  \\\n",
       "0            100.0                     2              99.0  ...   \n",
       "1             97.8                     8              99.6  ...   \n",
       "2             96.2                    11              99.7  ...   \n",
       "3             99.9                     3              99.4  ...   \n",
       "4            100.0                     1              98.0  ...   \n",
       "\n",
       "         location  stats_number_students  stats_student_staff_ratio  \\\n",
       "0  United Kingdom                 21,750                       10.9   \n",
       "1   United States                 14,517                        6.4   \n",
       "2   United States                 11,085                        8.0   \n",
       "3   United States                 20,050                        9.0   \n",
       "4  United Kingdom                 20,565                       11.5   \n",
       "\n",
       "   stats_pc_intl_students  stats_female_male_ratio stats_proportion_of_isr  \\\n",
       "0                     42%                  49 : 51                     23%   \n",
       "1                     23%                  47 : 53                     22%   \n",
       "2                     33%                  41 : 59                     40%   \n",
       "3                     25%                  51 : 49                     12%   \n",
       "4                     38%                  48 : 52                     27%   \n",
       "\n",
       "                                 aliases  \\\n",
       "0                   University of Oxford   \n",
       "1                    Stanford University   \n",
       "2  Massachusetts Institute of Technology   \n",
       "3                     Harvard University   \n",
       "4                University of Cambridge   \n",
       "\n",
       "                                    subjects_offered closed unaccredited  \n",
       "0  Geography,Chemistry,Chemical Engineering,Biolo...  False        False  \n",
       "1  Computer Science,Communication & Media Studies...  False        False  \n",
       "2  Architecture,Economics & Econometrics,Archaeol...  False        False  \n",
       "3  Sociology,Architecture,Physics & Astronomy,Psy...  False        False  \n",
       "4  Politics & International Studies (incl Develop...  False        False  \n",
       "\n",
       "[5 rows x 25 columns]"
      ]
     },
     "execution_count": 2,
     "metadata": {},
     "output_type": "execute_result"
    }
   ],
   "source": [
    "df = pd.read_csv('2024_rankings.csv', dtype_backend='pyarrow')\n",
    "df.head()"
   ]
  },
  {
   "cell_type": "code",
   "execution_count": 3,
   "metadata": {},
   "outputs": [
    {
     "data": {
      "text/html": [
       "<div>\n",
       "<style scoped>\n",
       "    .dataframe tbody tr th:only-of-type {\n",
       "        vertical-align: middle;\n",
       "    }\n",
       "\n",
       "    .dataframe tbody tr th {\n",
       "        vertical-align: top;\n",
       "    }\n",
       "\n",
       "    .dataframe thead th {\n",
       "        text-align: right;\n",
       "    }\n",
       "</style>\n",
       "<table border=\"1\" class=\"dataframe\">\n",
       "  <thead>\n",
       "    <tr style=\"text-align: right;\">\n",
       "      <th></th>\n",
       "      <th>rank_order</th>\n",
       "      <th>rank</th>\n",
       "      <th>name</th>\n",
       "      <th>scores_overall</th>\n",
       "      <th>scores_overall_rank</th>\n",
       "      <th>scores_teaching</th>\n",
       "      <th>scores_teaching_rank</th>\n",
       "      <th>scores_research</th>\n",
       "      <th>scores_research_rank</th>\n",
       "      <th>scores_citations</th>\n",
       "      <th>...</th>\n",
       "      <th>location</th>\n",
       "      <th>stats_number_students</th>\n",
       "      <th>stats_student_staff_ratio</th>\n",
       "      <th>stats_pc_intl_students</th>\n",
       "      <th>stats_female_male_ratio</th>\n",
       "      <th>stats_proportion_of_isr</th>\n",
       "      <th>aliases</th>\n",
       "      <th>subjects_offered</th>\n",
       "      <th>closed</th>\n",
       "      <th>unaccredited</th>\n",
       "    </tr>\n",
       "  </thead>\n",
       "  <tbody>\n",
       "    <tr>\n",
       "      <th>2666</th>\n",
       "      <td>1000762</td>\n",
       "      <td>Reporter</td>\n",
       "      <td>Zarqa University</td>\n",
       "      <td>&lt;NA&gt;</td>\n",
       "      <td>1000762</td>\n",
       "      <td>&lt;NA&gt;</td>\n",
       "      <td>0</td>\n",
       "      <td>&lt;NA&gt;</td>\n",
       "      <td>0</td>\n",
       "      <td>&lt;NA&gt;</td>\n",
       "      <td>...</td>\n",
       "      <td>Jordan</td>\n",
       "      <td>5,881</td>\n",
       "      <td>17.0</td>\n",
       "      <td>35%</td>\n",
       "      <td>60 : 40</td>\n",
       "      <td>30%</td>\n",
       "      <td>Zarqa University</td>\n",
       "      <td>General Engineering,Civil Engineering,Electric...</td>\n",
       "      <td>False</td>\n",
       "      <td>False</td>\n",
       "    </tr>\n",
       "    <tr>\n",
       "      <th>2667</th>\n",
       "      <td>1000763</td>\n",
       "      <td>Reporter</td>\n",
       "      <td>Zhetysu University</td>\n",
       "      <td>&lt;NA&gt;</td>\n",
       "      <td>1000763</td>\n",
       "      <td>&lt;NA&gt;</td>\n",
       "      <td>0</td>\n",
       "      <td>&lt;NA&gt;</td>\n",
       "      <td>0</td>\n",
       "      <td>&lt;NA&gt;</td>\n",
       "      <td>...</td>\n",
       "      <td>Kazakhstan</td>\n",
       "      <td>4,872</td>\n",
       "      <td>18.2</td>\n",
       "      <td>0%</td>\n",
       "      <td>66 : 34</td>\n",
       "      <td>16%</td>\n",
       "      <td>Zhetysu University</td>\n",
       "      <td>History, Philosophy &amp; Theology,Psychology,Lang...</td>\n",
       "      <td>False</td>\n",
       "      <td>False</td>\n",
       "    </tr>\n",
       "    <tr>\n",
       "      <th>2668</th>\n",
       "      <td>1000764</td>\n",
       "      <td>Reporter</td>\n",
       "      <td>Zhytomyr Polytechnic State University</td>\n",
       "      <td>&lt;NA&gt;</td>\n",
       "      <td>1000764</td>\n",
       "      <td>&lt;NA&gt;</td>\n",
       "      <td>0</td>\n",
       "      <td>&lt;NA&gt;</td>\n",
       "      <td>0</td>\n",
       "      <td>&lt;NA&gt;</td>\n",
       "      <td>...</td>\n",
       "      <td>Ukraine</td>\n",
       "      <td>4,454</td>\n",
       "      <td>16.1</td>\n",
       "      <td>1%</td>\n",
       "      <td>40 : 60</td>\n",
       "      <td>35%</td>\n",
       "      <td>Zhytomyr Polytechnic State University</td>\n",
       "      <td>Law,Economics &amp; Econometrics,Politics &amp; Intern...</td>\n",
       "      <td>False</td>\n",
       "      <td>False</td>\n",
       "    </tr>\n",
       "    <tr>\n",
       "      <th>2669</th>\n",
       "      <td>1000765</td>\n",
       "      <td>Reporter</td>\n",
       "      <td>Ziane Achour University of Djelfa</td>\n",
       "      <td>&lt;NA&gt;</td>\n",
       "      <td>1000765</td>\n",
       "      <td>&lt;NA&gt;</td>\n",
       "      <td>0</td>\n",
       "      <td>&lt;NA&gt;</td>\n",
       "      <td>0</td>\n",
       "      <td>&lt;NA&gt;</td>\n",
       "      <td>...</td>\n",
       "      <td>Algeria</td>\n",
       "      <td>31,103</td>\n",
       "      <td>28.5</td>\n",
       "      <td>0%</td>\n",
       "      <td>55 : 45</td>\n",
       "      <td>35%</td>\n",
       "      <td>Ziane Achour University of Djelfa</td>\n",
       "      <td>Architecture,Agriculture &amp; Forestry,Biological...</td>\n",
       "      <td>False</td>\n",
       "      <td>False</td>\n",
       "    </tr>\n",
       "    <tr>\n",
       "      <th>2670</th>\n",
       "      <td>1000766</td>\n",
       "      <td>Reporter</td>\n",
       "      <td>Ziauddin University</td>\n",
       "      <td>&lt;NA&gt;</td>\n",
       "      <td>1000766</td>\n",
       "      <td>&lt;NA&gt;</td>\n",
       "      <td>0</td>\n",
       "      <td>&lt;NA&gt;</td>\n",
       "      <td>0</td>\n",
       "      <td>&lt;NA&gt;</td>\n",
       "      <td>...</td>\n",
       "      <td>Pakistan</td>\n",
       "      <td>5,672</td>\n",
       "      <td>9.2</td>\n",
       "      <td>0%</td>\n",
       "      <td>58 : 42</td>\n",
       "      <td>5%</td>\n",
       "      <td>Ziauddin University</td>\n",
       "      <td>Medicine &amp; Dentistry,Other Health</td>\n",
       "      <td>False</td>\n",
       "      <td>False</td>\n",
       "    </tr>\n",
       "  </tbody>\n",
       "</table>\n",
       "<p>5 rows × 25 columns</p>\n",
       "</div>"
      ],
      "text/plain": [
       "      rank_order      rank                                   name  \\\n",
       "2666     1000762  Reporter                       Zarqa University   \n",
       "2667     1000763  Reporter                     Zhetysu University   \n",
       "2668     1000764  Reporter  Zhytomyr Polytechnic State University   \n",
       "2669     1000765  Reporter      Ziane Achour University of Djelfa   \n",
       "2670     1000766  Reporter                    Ziauddin University   \n",
       "\n",
       "     scores_overall  scores_overall_rank  scores_teaching  \\\n",
       "2666           <NA>              1000762             <NA>   \n",
       "2667           <NA>              1000763             <NA>   \n",
       "2668           <NA>              1000764             <NA>   \n",
       "2669           <NA>              1000765             <NA>   \n",
       "2670           <NA>              1000766             <NA>   \n",
       "\n",
       "      scores_teaching_rank  scores_research  scores_research_rank  \\\n",
       "2666                     0             <NA>                     0   \n",
       "2667                     0             <NA>                     0   \n",
       "2668                     0             <NA>                     0   \n",
       "2669                     0             <NA>                     0   \n",
       "2670                     0             <NA>                     0   \n",
       "\n",
       "      scores_citations  ...    location  stats_number_students  \\\n",
       "2666              <NA>  ...      Jordan                  5,881   \n",
       "2667              <NA>  ...  Kazakhstan                  4,872   \n",
       "2668              <NA>  ...     Ukraine                  4,454   \n",
       "2669              <NA>  ...     Algeria                 31,103   \n",
       "2670              <NA>  ...    Pakistan                  5,672   \n",
       "\n",
       "      stats_student_staff_ratio  stats_pc_intl_students  \\\n",
       "2666                       17.0                     35%   \n",
       "2667                       18.2                      0%   \n",
       "2668                       16.1                      1%   \n",
       "2669                       28.5                      0%   \n",
       "2670                        9.2                      0%   \n",
       "\n",
       "      stats_female_male_ratio stats_proportion_of_isr  \\\n",
       "2666                  60 : 40                     30%   \n",
       "2667                  66 : 34                     16%   \n",
       "2668                  40 : 60                     35%   \n",
       "2669                  55 : 45                     35%   \n",
       "2670                  58 : 42                      5%   \n",
       "\n",
       "                                    aliases  \\\n",
       "2666                       Zarqa University   \n",
       "2667                     Zhetysu University   \n",
       "2668  Zhytomyr Polytechnic State University   \n",
       "2669      Ziane Achour University of Djelfa   \n",
       "2670                    Ziauddin University   \n",
       "\n",
       "                                       subjects_offered closed unaccredited  \n",
       "2666  General Engineering,Civil Engineering,Electric...  False        False  \n",
       "2667  History, Philosophy & Theology,Psychology,Lang...  False        False  \n",
       "2668  Law,Economics & Econometrics,Politics & Intern...  False        False  \n",
       "2669  Architecture,Agriculture & Forestry,Biological...  False        False  \n",
       "2670                  Medicine & Dentistry,Other Health  False        False  \n",
       "\n",
       "[5 rows x 25 columns]"
      ]
     },
     "execution_count": 3,
     "metadata": {},
     "output_type": "execute_result"
    }
   ],
   "source": [
    "df.tail()"
   ]
  },
  {
   "cell_type": "code",
   "execution_count": 4,
   "metadata": {},
   "outputs": [
    {
     "name": "stdout",
     "output_type": "stream",
     "text": [
      "<class 'pandas.core.frame.DataFrame'>\n",
      "RangeIndex: 2671 entries, 0 to 2670\n",
      "Data columns (total 25 columns):\n",
      " #   Column                             Non-Null Count  Dtype          \n",
      "---  ------                             --------------  -----          \n",
      " 0   rank_order                         2671 non-null   int64[pyarrow] \n",
      " 1   rank                               2671 non-null   string[pyarrow]\n",
      " 2   name                               2671 non-null   string[pyarrow]\n",
      " 3   scores_overall                     1906 non-null   string[pyarrow]\n",
      " 4   scores_overall_rank                2671 non-null   int64[pyarrow] \n",
      " 5   scores_teaching                    1906 non-null   double[pyarrow]\n",
      " 6   scores_teaching_rank               2671 non-null   int64[pyarrow] \n",
      " 7   scores_research                    1906 non-null   double[pyarrow]\n",
      " 8   scores_research_rank               2671 non-null   int64[pyarrow] \n",
      " 9   scores_citations                   1906 non-null   double[pyarrow]\n",
      " 10  scores_citations_rank              2671 non-null   int64[pyarrow] \n",
      " 11  scores_industry_income             1906 non-null   double[pyarrow]\n",
      " 12  scores_industry_income_rank        2671 non-null   int64[pyarrow] \n",
      " 13  scores_international_outlook       1906 non-null   double[pyarrow]\n",
      " 14  scores_international_outlook_rank  2671 non-null   int64[pyarrow] \n",
      " 15  location                           2670 non-null   string[pyarrow]\n",
      " 16  stats_number_students              2671 non-null   string[pyarrow]\n",
      " 17  stats_student_staff_ratio          2671 non-null   double[pyarrow]\n",
      " 18  stats_pc_intl_students             2671 non-null   string[pyarrow]\n",
      " 19  stats_female_male_ratio            2578 non-null   string[pyarrow]\n",
      " 20  stats_proportion_of_isr            2454 non-null   string[pyarrow]\n",
      " 21  aliases                            2671 non-null   string[pyarrow]\n",
      " 22  subjects_offered                   2667 non-null   string[pyarrow]\n",
      " 23  closed                             2671 non-null   bool[pyarrow]  \n",
      " 24  unaccredited                       2671 non-null   bool[pyarrow]  \n",
      "dtypes: bool[pyarrow](2), double[pyarrow](6), int64[pyarrow](7), string[pyarrow](10)\n",
      "memory usage: 1.7 MB\n"
     ]
    }
   ],
   "source": [
    "df.info()"
   ]
  },
  {
   "cell_type": "code",
   "execution_count": 5,
   "metadata": {},
   "outputs": [
    {
     "data": {
      "text/plain": [
       "(2671, 25)"
      ]
     },
     "execution_count": 5,
     "metadata": {},
     "output_type": "execute_result"
    }
   ],
   "source": [
    "df.shape"
   ]
  },
  {
   "cell_type": "code",
   "execution_count": 6,
   "metadata": {},
   "outputs": [
    {
     "data": {
      "text/plain": [
       "location\n",
       "United States           106\n",
       "United Kingdom           55\n",
       "Germany                  41\n",
       "Australia                32\n",
       "China                    31\n",
       "Italy                    26\n",
       "Canada                   20\n",
       "France                   16\n",
       "South Korea              13\n",
       "Netherlands              12\n",
       "Switzerland              11\n",
       "Japan                    10\n",
       "Sweden                   10\n",
       "Belgium                   8\n",
       "Finland                   8\n",
       "Ireland                   8\n",
       "Austria                   7\n",
       "Taiwan                    7\n",
       "Hong Kong                 6\n",
       "Russian Federation        6\n",
       "Denmark                   6\n",
       "Malaysia                  6\n",
       "New Zealand               5\n",
       "Spain                     5\n",
       "Saudi Arabia              5\n",
       "South Africa              4\n",
       "United Arab Emirates      4\n",
       "Iran                      4\n",
       "Norway                    3\n",
       "Israel                    3\n",
       "Turkey                    3\n",
       "Portugal                  3\n",
       "Singapore                 2\n",
       "Macao                     2\n",
       "Brazil                    2\n",
       "India                     1\n",
       "Luxembourg                1\n",
       "Qatar                     1\n",
       "Hungary                   1\n",
       "Estonia                   1\n",
       "Brunei Darussalam         1\n",
       "Czech Republic            1\n",
       "Chile                     1\n",
       "Pakistan                  1\n",
       "Ukraine                   1\n",
       "Name: count, dtype: int64[pyarrow]"
      ]
     },
     "execution_count": 6,
     "metadata": {},
     "output_type": "execute_result"
    }
   ],
   "source": [
    "df['location'][:500].value_counts()"
   ]
  },
  {
   "cell_type": "markdown",
   "metadata": {},
   "source": [
    "Finding null values, should be cleaned "
   ]
  },
  {
   "cell_type": "code",
   "execution_count": 7,
   "metadata": {},
   "outputs": [
    {
     "data": {
      "text/plain": [
       "rank_order                             0\n",
       "rank                                   0\n",
       "name                                   0\n",
       "scores_overall                       765\n",
       "scores_overall_rank                    0\n",
       "scores_teaching                      765\n",
       "scores_teaching_rank                   0\n",
       "scores_research                      765\n",
       "scores_research_rank                   0\n",
       "scores_citations                     765\n",
       "scores_citations_rank                  0\n",
       "scores_industry_income               765\n",
       "scores_industry_income_rank            0\n",
       "scores_international_outlook         765\n",
       "scores_international_outlook_rank      0\n",
       "location                               1\n",
       "stats_number_students                  0\n",
       "stats_student_staff_ratio              0\n",
       "stats_pc_intl_students                 0\n",
       "stats_female_male_ratio               93\n",
       "stats_proportion_of_isr              217\n",
       "aliases                                0\n",
       "subjects_offered                       4\n",
       "closed                                 0\n",
       "unaccredited                           0\n",
       "dtype: int64"
      ]
     },
     "execution_count": 7,
     "metadata": {},
     "output_type": "execute_result"
    }
   ],
   "source": [
    "df.isnull().sum()"
   ]
  },
  {
   "cell_type": "code",
   "execution_count": 8,
   "metadata": {},
   "outputs": [
    {
     "name": "stdout",
     "output_type": "stream",
     "text": [
      "Columns with null values: ['scores_overall', 'scores_teaching', 'scores_research', 'scores_citations', 'scores_industry_income', 'scores_international_outlook', 'location', 'stats_female_male_ratio', 'stats_proportion_of_isr', 'subjects_offered']\n"
     ]
    }
   ],
   "source": [
    "null_columns = df.columns[df.isnull().any()]\n",
    "\n",
    "print(\"Columns with null values:\", null_columns.tolist())"
   ]
  },
  {
   "cell_type": "markdown",
   "metadata": {},
   "source": [
    "Filling null value columns with forward fill"
   ]
  },
  {
   "cell_type": "code",
   "execution_count": 9,
   "metadata": {},
   "outputs": [],
   "source": [
    "for col in null_columns.tolist():\n",
    "    df[col] = df[col].ffill()"
   ]
  },
  {
   "cell_type": "code",
   "execution_count": 10,
   "metadata": {},
   "outputs": [
    {
     "data": {
      "text/html": [
       "<div>\n",
       "<style scoped>\n",
       "    .dataframe tbody tr th:only-of-type {\n",
       "        vertical-align: middle;\n",
       "    }\n",
       "\n",
       "    .dataframe tbody tr th {\n",
       "        vertical-align: top;\n",
       "    }\n",
       "\n",
       "    .dataframe thead th {\n",
       "        text-align: right;\n",
       "    }\n",
       "</style>\n",
       "<table border=\"1\" class=\"dataframe\">\n",
       "  <thead>\n",
       "    <tr style=\"text-align: right;\">\n",
       "      <th></th>\n",
       "      <th>rank_order</th>\n",
       "      <th>rank</th>\n",
       "      <th>name</th>\n",
       "      <th>scores_overall</th>\n",
       "      <th>scores_overall_rank</th>\n",
       "      <th>scores_teaching</th>\n",
       "      <th>scores_teaching_rank</th>\n",
       "      <th>scores_research</th>\n",
       "      <th>scores_research_rank</th>\n",
       "      <th>scores_citations</th>\n",
       "      <th>...</th>\n",
       "      <th>location</th>\n",
       "      <th>stats_number_students</th>\n",
       "      <th>stats_student_staff_ratio</th>\n",
       "      <th>stats_pc_intl_students</th>\n",
       "      <th>stats_female_male_ratio</th>\n",
       "      <th>stats_proportion_of_isr</th>\n",
       "      <th>aliases</th>\n",
       "      <th>subjects_offered</th>\n",
       "      <th>closed</th>\n",
       "      <th>unaccredited</th>\n",
       "    </tr>\n",
       "  </thead>\n",
       "  <tbody>\n",
       "    <tr>\n",
       "      <th>0</th>\n",
       "      <td>10</td>\n",
       "      <td>1</td>\n",
       "      <td>University of Oxford</td>\n",
       "      <td>98.5</td>\n",
       "      <td>10</td>\n",
       "      <td>96.6</td>\n",
       "      <td>5</td>\n",
       "      <td>100.0</td>\n",
       "      <td>2</td>\n",
       "      <td>99.0</td>\n",
       "      <td>...</td>\n",
       "      <td>United Kingdom</td>\n",
       "      <td>21,750</td>\n",
       "      <td>10.9</td>\n",
       "      <td>42%</td>\n",
       "      <td>49 : 51</td>\n",
       "      <td>23%</td>\n",
       "      <td>University of Oxford</td>\n",
       "      <td>Geography,Chemistry,Chemical Engineering,Biolo...</td>\n",
       "      <td>False</td>\n",
       "      <td>False</td>\n",
       "    </tr>\n",
       "    <tr>\n",
       "      <th>1</th>\n",
       "      <td>20</td>\n",
       "      <td>2</td>\n",
       "      <td>Stanford University</td>\n",
       "      <td>98.0</td>\n",
       "      <td>20</td>\n",
       "      <td>99.0</td>\n",
       "      <td>1</td>\n",
       "      <td>97.8</td>\n",
       "      <td>8</td>\n",
       "      <td>99.6</td>\n",
       "      <td>...</td>\n",
       "      <td>United States</td>\n",
       "      <td>14,517</td>\n",
       "      <td>6.4</td>\n",
       "      <td>23%</td>\n",
       "      <td>47 : 53</td>\n",
       "      <td>22%</td>\n",
       "      <td>Stanford University</td>\n",
       "      <td>Computer Science,Communication &amp; Media Studies...</td>\n",
       "      <td>False</td>\n",
       "      <td>False</td>\n",
       "    </tr>\n",
       "    <tr>\n",
       "      <th>2</th>\n",
       "      <td>30</td>\n",
       "      <td>3</td>\n",
       "      <td>Massachusetts Institute of Technology</td>\n",
       "      <td>97.9</td>\n",
       "      <td>30</td>\n",
       "      <td>98.6</td>\n",
       "      <td>2</td>\n",
       "      <td>96.2</td>\n",
       "      <td>11</td>\n",
       "      <td>99.7</td>\n",
       "      <td>...</td>\n",
       "      <td>United States</td>\n",
       "      <td>11,085</td>\n",
       "      <td>8.0</td>\n",
       "      <td>33%</td>\n",
       "      <td>41 : 59</td>\n",
       "      <td>40%</td>\n",
       "      <td>Massachusetts Institute of Technology</td>\n",
       "      <td>Architecture,Economics &amp; Econometrics,Archaeol...</td>\n",
       "      <td>False</td>\n",
       "      <td>False</td>\n",
       "    </tr>\n",
       "    <tr>\n",
       "      <th>3</th>\n",
       "      <td>40</td>\n",
       "      <td>4</td>\n",
       "      <td>Harvard University</td>\n",
       "      <td>97.8</td>\n",
       "      <td>40</td>\n",
       "      <td>97.7</td>\n",
       "      <td>3</td>\n",
       "      <td>99.9</td>\n",
       "      <td>3</td>\n",
       "      <td>99.4</td>\n",
       "      <td>...</td>\n",
       "      <td>United States</td>\n",
       "      <td>20,050</td>\n",
       "      <td>9.0</td>\n",
       "      <td>25%</td>\n",
       "      <td>51 : 49</td>\n",
       "      <td>12%</td>\n",
       "      <td>Harvard University</td>\n",
       "      <td>Sociology,Architecture,Physics &amp; Astronomy,Psy...</td>\n",
       "      <td>False</td>\n",
       "      <td>False</td>\n",
       "    </tr>\n",
       "    <tr>\n",
       "      <th>4</th>\n",
       "      <td>50</td>\n",
       "      <td>5</td>\n",
       "      <td>University of Cambridge</td>\n",
       "      <td>97.5</td>\n",
       "      <td>50</td>\n",
       "      <td>95.8</td>\n",
       "      <td>7</td>\n",
       "      <td>100.0</td>\n",
       "      <td>1</td>\n",
       "      <td>98.0</td>\n",
       "      <td>...</td>\n",
       "      <td>United Kingdom</td>\n",
       "      <td>20,565</td>\n",
       "      <td>11.5</td>\n",
       "      <td>38%</td>\n",
       "      <td>48 : 52</td>\n",
       "      <td>27%</td>\n",
       "      <td>University of Cambridge</td>\n",
       "      <td>Politics &amp; International Studies (incl Develop...</td>\n",
       "      <td>False</td>\n",
       "      <td>False</td>\n",
       "    </tr>\n",
       "  </tbody>\n",
       "</table>\n",
       "<p>5 rows × 25 columns</p>\n",
       "</div>"
      ],
      "text/plain": [
       "   rank_order rank                                   name scores_overall  \\\n",
       "0          10    1                   University of Oxford           98.5   \n",
       "1          20    2                    Stanford University           98.0   \n",
       "2          30    3  Massachusetts Institute of Technology           97.9   \n",
       "3          40    4                     Harvard University           97.8   \n",
       "4          50    5                University of Cambridge           97.5   \n",
       "\n",
       "   scores_overall_rank  scores_teaching  scores_teaching_rank  \\\n",
       "0                   10             96.6                     5   \n",
       "1                   20             99.0                     1   \n",
       "2                   30             98.6                     2   \n",
       "3                   40             97.7                     3   \n",
       "4                   50             95.8                     7   \n",
       "\n",
       "   scores_research  scores_research_rank  scores_citations  ...  \\\n",
       "0            100.0                     2              99.0  ...   \n",
       "1             97.8                     8              99.6  ...   \n",
       "2             96.2                    11              99.7  ...   \n",
       "3             99.9                     3              99.4  ...   \n",
       "4            100.0                     1              98.0  ...   \n",
       "\n",
       "         location  stats_number_students  stats_student_staff_ratio  \\\n",
       "0  United Kingdom                 21,750                       10.9   \n",
       "1   United States                 14,517                        6.4   \n",
       "2   United States                 11,085                        8.0   \n",
       "3   United States                 20,050                        9.0   \n",
       "4  United Kingdom                 20,565                       11.5   \n",
       "\n",
       "   stats_pc_intl_students  stats_female_male_ratio stats_proportion_of_isr  \\\n",
       "0                     42%                  49 : 51                     23%   \n",
       "1                     23%                  47 : 53                     22%   \n",
       "2                     33%                  41 : 59                     40%   \n",
       "3                     25%                  51 : 49                     12%   \n",
       "4                     38%                  48 : 52                     27%   \n",
       "\n",
       "                                 aliases  \\\n",
       "0                   University of Oxford   \n",
       "1                    Stanford University   \n",
       "2  Massachusetts Institute of Technology   \n",
       "3                     Harvard University   \n",
       "4                University of Cambridge   \n",
       "\n",
       "                                    subjects_offered closed unaccredited  \n",
       "0  Geography,Chemistry,Chemical Engineering,Biolo...  False        False  \n",
       "1  Computer Science,Communication & Media Studies...  False        False  \n",
       "2  Architecture,Economics & Econometrics,Archaeol...  False        False  \n",
       "3  Sociology,Architecture,Physics & Astronomy,Psy...  False        False  \n",
       "4  Politics & International Studies (incl Develop...  False        False  \n",
       "\n",
       "[5 rows x 25 columns]"
      ]
     },
     "execution_count": 10,
     "metadata": {},
     "output_type": "execute_result"
    }
   ],
   "source": [
    "df.head()"
   ]
  },
  {
   "cell_type": "markdown",
   "metadata": {},
   "source": [
    "Looking for BD Universities in the Rankings"
   ]
  },
  {
   "cell_type": "code",
   "execution_count": 11,
   "metadata": {},
   "outputs": [
    {
     "data": {
      "text/html": [
       "<div>\n",
       "<style scoped>\n",
       "    .dataframe tbody tr th:only-of-type {\n",
       "        vertical-align: middle;\n",
       "    }\n",
       "\n",
       "    .dataframe tbody tr th {\n",
       "        vertical-align: top;\n",
       "    }\n",
       "\n",
       "    .dataframe thead th {\n",
       "        text-align: right;\n",
       "    }\n",
       "</style>\n",
       "<table border=\"1\" class=\"dataframe\">\n",
       "  <thead>\n",
       "    <tr style=\"text-align: right;\">\n",
       "      <th></th>\n",
       "      <th>rank</th>\n",
       "      <th>name</th>\n",
       "      <th>scores_overall</th>\n",
       "      <th>scores_teaching</th>\n",
       "      <th>stats_pc_intl_students</th>\n",
       "    </tr>\n",
       "  </thead>\n",
       "  <tbody>\n",
       "    <tr>\n",
       "      <th>825</th>\n",
       "      <td>801–1000</td>\n",
       "      <td>BRAC University</td>\n",
       "      <td>32.7–36.9</td>\n",
       "      <td>14.8</td>\n",
       "      <td>1%</td>\n",
       "    </tr>\n",
       "    <tr>\n",
       "      <th>855</th>\n",
       "      <td>801–1000</td>\n",
       "      <td>University of Dhaka</td>\n",
       "      <td>32.7–36.9</td>\n",
       "      <td>17.5</td>\n",
       "      <td>3%</td>\n",
       "    </tr>\n",
       "    <tr>\n",
       "      <th>886</th>\n",
       "      <td>801–1000</td>\n",
       "      <td>Jahangirnagar University</td>\n",
       "      <td>32.7–36.9</td>\n",
       "      <td>24.1</td>\n",
       "      <td>0%</td>\n",
       "    </tr>\n",
       "    <tr>\n",
       "      <th>939</th>\n",
       "      <td>801–1000</td>\n",
       "      <td>North South University</td>\n",
       "      <td>32.7–36.9</td>\n",
       "      <td>12.9</td>\n",
       "      <td>0%</td>\n",
       "    </tr>\n",
       "    <tr>\n",
       "      <th>1018</th>\n",
       "      <td>1001–1200</td>\n",
       "      <td>Bangladesh Agricultural University (BAU)</td>\n",
       "      <td>28.3–32.6</td>\n",
       "      <td>29.5</td>\n",
       "      <td>1%</td>\n",
       "    </tr>\n",
       "    <tr>\n",
       "      <th>1019</th>\n",
       "      <td>1001–1200</td>\n",
       "      <td>Bangladesh University of Engineering and Techn...</td>\n",
       "      <td>28.3–32.6</td>\n",
       "      <td>21.7</td>\n",
       "      <td>0%</td>\n",
       "    </tr>\n",
       "    <tr>\n",
       "      <th>1146</th>\n",
       "      <td>1001–1200</td>\n",
       "      <td>University of Rajshahi</td>\n",
       "      <td>28.3–32.6</td>\n",
       "      <td>15.9</td>\n",
       "      <td>0%</td>\n",
       "    </tr>\n",
       "    <tr>\n",
       "      <th>1331</th>\n",
       "      <td>1201–1500</td>\n",
       "      <td>Khulna University</td>\n",
       "      <td>22.8–28.2</td>\n",
       "      <td>17.0</td>\n",
       "      <td>0%</td>\n",
       "    </tr>\n",
       "    <tr>\n",
       "      <th>1421</th>\n",
       "      <td>1201–1500</td>\n",
       "      <td>Shahjalal University of Science and Technology</td>\n",
       "      <td>22.8–28.2</td>\n",
       "      <td>13.2</td>\n",
       "      <td>0%</td>\n",
       "    </tr>\n",
       "    <tr>\n",
       "      <th>1970</th>\n",
       "      <td>Reporter</td>\n",
       "      <td>American International University – Bangladesh</td>\n",
       "      <td>9.7–22.7</td>\n",
       "      <td>12.5</td>\n",
       "      <td>0%</td>\n",
       "    </tr>\n",
       "    <tr>\n",
       "      <th>2014</th>\n",
       "      <td>Reporter</td>\n",
       "      <td>Bangabandhu Sheikh Mujibur Rahman Agricultural...</td>\n",
       "      <td>9.7–22.7</td>\n",
       "      <td>12.5</td>\n",
       "      <td>3%</td>\n",
       "    </tr>\n",
       "    <tr>\n",
       "      <th>2088</th>\n",
       "      <td>Reporter</td>\n",
       "      <td>Daffodil International University (DIU)</td>\n",
       "      <td>9.7–22.7</td>\n",
       "      <td>12.5</td>\n",
       "      <td>5%</td>\n",
       "    </tr>\n",
       "    <tr>\n",
       "      <th>2095</th>\n",
       "      <td>Reporter</td>\n",
       "      <td>Dhaka International University</td>\n",
       "      <td>9.7–22.7</td>\n",
       "      <td>12.5</td>\n",
       "      <td>8%</td>\n",
       "    </tr>\n",
       "    <tr>\n",
       "      <th>2224</th>\n",
       "      <td>Reporter</td>\n",
       "      <td>Independent University, Bangladesh</td>\n",
       "      <td>9.7–22.7</td>\n",
       "      <td>12.5</td>\n",
       "      <td>0%</td>\n",
       "    </tr>\n",
       "    <tr>\n",
       "      <th>2251</th>\n",
       "      <td>Reporter</td>\n",
       "      <td>IUBAT – International University of Business A...</td>\n",
       "      <td>9.7–22.7</td>\n",
       "      <td>12.5</td>\n",
       "      <td>1%</td>\n",
       "    </tr>\n",
       "    <tr>\n",
       "      <th>2258</th>\n",
       "      <td>Reporter</td>\n",
       "      <td>Jashore University of Science and Technology</td>\n",
       "      <td>9.7–22.7</td>\n",
       "      <td>12.5</td>\n",
       "      <td>0%</td>\n",
       "    </tr>\n",
       "    <tr>\n",
       "      <th>2282</th>\n",
       "      <td>Reporter</td>\n",
       "      <td>Khulna University of Engineering and Technolog...</td>\n",
       "      <td>9.7–22.7</td>\n",
       "      <td>12.5</td>\n",
       "      <td>0%</td>\n",
       "    </tr>\n",
       "    <tr>\n",
       "      <th>2323</th>\n",
       "      <td>Reporter</td>\n",
       "      <td>University of Liberal Arts Bangladesh</td>\n",
       "      <td>9.7–22.7</td>\n",
       "      <td>12.5</td>\n",
       "      <td>0%</td>\n",
       "    </tr>\n",
       "    <tr>\n",
       "      <th>2622</th>\n",
       "      <td>Reporter</td>\n",
       "      <td>United International University</td>\n",
       "      <td>9.7–22.7</td>\n",
       "      <td>12.5</td>\n",
       "      <td>1%</td>\n",
       "    </tr>\n",
       "    <tr>\n",
       "      <th>2634</th>\n",
       "      <td>Reporter</td>\n",
       "      <td>Varendra University</td>\n",
       "      <td>9.7–22.7</td>\n",
       "      <td>12.5</td>\n",
       "      <td>0%</td>\n",
       "    </tr>\n",
       "    <tr>\n",
       "      <th>2655</th>\n",
       "      <td>Reporter</td>\n",
       "      <td>World University of Bangladesh (WUB)</td>\n",
       "      <td>9.7–22.7</td>\n",
       "      <td>12.5</td>\n",
       "      <td>0%</td>\n",
       "    </tr>\n",
       "  </tbody>\n",
       "</table>\n",
       "</div>"
      ],
      "text/plain": [
       "           rank                                               name  \\\n",
       "825    801–1000                                    BRAC University   \n",
       "855    801–1000                                University of Dhaka   \n",
       "886    801–1000                           Jahangirnagar University   \n",
       "939    801–1000                             North South University   \n",
       "1018  1001–1200           Bangladesh Agricultural University (BAU)   \n",
       "1019  1001–1200  Bangladesh University of Engineering and Techn...   \n",
       "1146  1001–1200                             University of Rajshahi   \n",
       "1331  1201–1500                                  Khulna University   \n",
       "1421  1201–1500     Shahjalal University of Science and Technology   \n",
       "1970   Reporter     American International University – Bangladesh   \n",
       "2014   Reporter  Bangabandhu Sheikh Mujibur Rahman Agricultural...   \n",
       "2088   Reporter            Daffodil International University (DIU)   \n",
       "2095   Reporter                     Dhaka International University   \n",
       "2224   Reporter                 Independent University, Bangladesh   \n",
       "2251   Reporter  IUBAT – International University of Business A...   \n",
       "2258   Reporter       Jashore University of Science and Technology   \n",
       "2282   Reporter  Khulna University of Engineering and Technolog...   \n",
       "2323   Reporter              University of Liberal Arts Bangladesh   \n",
       "2622   Reporter                    United International University   \n",
       "2634   Reporter                                Varendra University   \n",
       "2655   Reporter               World University of Bangladesh (WUB)   \n",
       "\n",
       "     scores_overall  scores_teaching stats_pc_intl_students  \n",
       "825       32.7–36.9             14.8                     1%  \n",
       "855       32.7–36.9             17.5                     3%  \n",
       "886       32.7–36.9             24.1                     0%  \n",
       "939       32.7–36.9             12.9                     0%  \n",
       "1018      28.3–32.6             29.5                     1%  \n",
       "1019      28.3–32.6             21.7                     0%  \n",
       "1146      28.3–32.6             15.9                     0%  \n",
       "1331      22.8–28.2             17.0                     0%  \n",
       "1421      22.8–28.2             13.2                     0%  \n",
       "1970       9.7–22.7             12.5                     0%  \n",
       "2014       9.7–22.7             12.5                     3%  \n",
       "2088       9.7–22.7             12.5                     5%  \n",
       "2095       9.7–22.7             12.5                     8%  \n",
       "2224       9.7–22.7             12.5                     0%  \n",
       "2251       9.7–22.7             12.5                     1%  \n",
       "2258       9.7–22.7             12.5                     0%  \n",
       "2282       9.7–22.7             12.5                     0%  \n",
       "2323       9.7–22.7             12.5                     0%  \n",
       "2622       9.7–22.7             12.5                     1%  \n",
       "2634       9.7–22.7             12.5                     0%  \n",
       "2655       9.7–22.7             12.5                     0%  "
      ]
     },
     "execution_count": 11,
     "metadata": {},
     "output_type": "execute_result"
    }
   ],
   "source": [
    "df_bd = df.loc[df['location'] == 'Bangladesh']\n",
    "df_bd[['rank', 'name','scores_overall', 'scores_teaching','stats_pc_intl_students']]"
   ]
  },
  {
   "cell_type": "code",
   "execution_count": 12,
   "metadata": {},
   "outputs": [
    {
     "data": {
      "text/html": [
       "<div>\n",
       "<style scoped>\n",
       "    .dataframe tbody tr th:only-of-type {\n",
       "        vertical-align: middle;\n",
       "    }\n",
       "\n",
       "    .dataframe tbody tr th {\n",
       "        vertical-align: top;\n",
       "    }\n",
       "\n",
       "    .dataframe thead th {\n",
       "        text-align: right;\n",
       "    }\n",
       "</style>\n",
       "<table border=\"1\" class=\"dataframe\">\n",
       "  <thead>\n",
       "    <tr style=\"text-align: right;\">\n",
       "      <th></th>\n",
       "      <th>rank_order</th>\n",
       "      <th>rank</th>\n",
       "      <th>name</th>\n",
       "      <th>scores_overall</th>\n",
       "      <th>scores_overall_rank</th>\n",
       "      <th>scores_teaching</th>\n",
       "      <th>scores_teaching_rank</th>\n",
       "      <th>scores_research</th>\n",
       "      <th>scores_research_rank</th>\n",
       "      <th>scores_citations</th>\n",
       "      <th>...</th>\n",
       "      <th>location</th>\n",
       "      <th>stats_number_students</th>\n",
       "      <th>stats_student_staff_ratio</th>\n",
       "      <th>stats_pc_intl_students</th>\n",
       "      <th>stats_female_male_ratio</th>\n",
       "      <th>stats_proportion_of_isr</th>\n",
       "      <th>aliases</th>\n",
       "      <th>subjects_offered</th>\n",
       "      <th>closed</th>\n",
       "      <th>unaccredited</th>\n",
       "    </tr>\n",
       "  </thead>\n",
       "  <tbody>\n",
       "    <tr>\n",
       "      <th>1019</th>\n",
       "      <td>10200</td>\n",
       "      <td>1001–1200</td>\n",
       "      <td>Bangladesh University of Engineering and Techn...</td>\n",
       "      <td>28.3–32.6</td>\n",
       "      <td>10200</td>\n",
       "      <td>21.7</td>\n",
       "      <td>1252</td>\n",
       "      <td>15.8</td>\n",
       "      <td>1060</td>\n",
       "      <td>50.7</td>\n",
       "      <td>...</td>\n",
       "      <td>Bangladesh</td>\n",
       "      <td>6,237</td>\n",
       "      <td>13.2</td>\n",
       "      <td>0%</td>\n",
       "      <td>22 : 78</td>\n",
       "      <td>44%</td>\n",
       "      <td>Bangladesh University of Engineering and Techn...</td>\n",
       "      <td>Chemical Engineering,Civil Engineering,Physics...</td>\n",
       "      <td>False</td>\n",
       "      <td>False</td>\n",
       "    </tr>\n",
       "  </tbody>\n",
       "</table>\n",
       "<p>1 rows × 25 columns</p>\n",
       "</div>"
      ],
      "text/plain": [
       "      rank_order       rank  \\\n",
       "1019       10200  1001–1200   \n",
       "\n",
       "                                                   name scores_overall  \\\n",
       "1019  Bangladesh University of Engineering and Techn...      28.3–32.6   \n",
       "\n",
       "      scores_overall_rank  scores_teaching  scores_teaching_rank  \\\n",
       "1019                10200             21.7                  1252   \n",
       "\n",
       "      scores_research  scores_research_rank  scores_citations  ...  \\\n",
       "1019             15.8                  1060              50.7  ...   \n",
       "\n",
       "        location  stats_number_students  stats_student_staff_ratio  \\\n",
       "1019  Bangladesh                  6,237                       13.2   \n",
       "\n",
       "      stats_pc_intl_students  stats_female_male_ratio stats_proportion_of_isr  \\\n",
       "1019                      0%                  22 : 78                     44%   \n",
       "\n",
       "                                                aliases  \\\n",
       "1019  Bangladesh University of Engineering and Techn...   \n",
       "\n",
       "                                       subjects_offered closed unaccredited  \n",
       "1019  Chemical Engineering,Civil Engineering,Physics...  False        False  \n",
       "\n",
       "[1 rows x 25 columns]"
      ]
     },
     "execution_count": 12,
     "metadata": {},
     "output_type": "execute_result"
    }
   ],
   "source": [
    "df_buet = df.loc[df['name'] == 'Bangladesh University of Engineering and Technology']\n",
    "df_buet"
   ]
  },
  {
   "cell_type": "markdown",
   "metadata": {},
   "source": [
    "Making a continent column"
   ]
  },
  {
   "cell_type": "code",
   "execution_count": 13,
   "metadata": {},
   "outputs": [],
   "source": [
    "df['Continent'] = np.nan"
   ]
  },
  {
   "cell_type": "code",
   "execution_count": 14,
   "metadata": {},
   "outputs": [
    {
     "data": {
      "text/html": [
       "<div>\n",
       "<style scoped>\n",
       "    .dataframe tbody tr th:only-of-type {\n",
       "        vertical-align: middle;\n",
       "    }\n",
       "\n",
       "    .dataframe tbody tr th {\n",
       "        vertical-align: top;\n",
       "    }\n",
       "\n",
       "    .dataframe thead th {\n",
       "        text-align: right;\n",
       "    }\n",
       "</style>\n",
       "<table border=\"1\" class=\"dataframe\">\n",
       "  <thead>\n",
       "    <tr style=\"text-align: right;\">\n",
       "      <th></th>\n",
       "      <th>rank_order</th>\n",
       "      <th>rank</th>\n",
       "      <th>name</th>\n",
       "      <th>scores_overall</th>\n",
       "      <th>scores_overall_rank</th>\n",
       "      <th>scores_teaching</th>\n",
       "      <th>scores_teaching_rank</th>\n",
       "      <th>scores_research</th>\n",
       "      <th>scores_research_rank</th>\n",
       "      <th>scores_citations</th>\n",
       "      <th>...</th>\n",
       "      <th>stats_number_students</th>\n",
       "      <th>stats_student_staff_ratio</th>\n",
       "      <th>stats_pc_intl_students</th>\n",
       "      <th>stats_female_male_ratio</th>\n",
       "      <th>stats_proportion_of_isr</th>\n",
       "      <th>aliases</th>\n",
       "      <th>subjects_offered</th>\n",
       "      <th>closed</th>\n",
       "      <th>unaccredited</th>\n",
       "      <th>Continent</th>\n",
       "    </tr>\n",
       "  </thead>\n",
       "  <tbody>\n",
       "    <tr>\n",
       "      <th>0</th>\n",
       "      <td>10</td>\n",
       "      <td>1</td>\n",
       "      <td>University of Oxford</td>\n",
       "      <td>98.5</td>\n",
       "      <td>10</td>\n",
       "      <td>96.6</td>\n",
       "      <td>5</td>\n",
       "      <td>100.0</td>\n",
       "      <td>2</td>\n",
       "      <td>99.0</td>\n",
       "      <td>...</td>\n",
       "      <td>21,750</td>\n",
       "      <td>10.9</td>\n",
       "      <td>42%</td>\n",
       "      <td>49 : 51</td>\n",
       "      <td>23%</td>\n",
       "      <td>University of Oxford</td>\n",
       "      <td>Geography,Chemistry,Chemical Engineering,Biolo...</td>\n",
       "      <td>False</td>\n",
       "      <td>False</td>\n",
       "      <td>Europe</td>\n",
       "    </tr>\n",
       "    <tr>\n",
       "      <th>1</th>\n",
       "      <td>20</td>\n",
       "      <td>2</td>\n",
       "      <td>Stanford University</td>\n",
       "      <td>98.0</td>\n",
       "      <td>20</td>\n",
       "      <td>99.0</td>\n",
       "      <td>1</td>\n",
       "      <td>97.8</td>\n",
       "      <td>8</td>\n",
       "      <td>99.6</td>\n",
       "      <td>...</td>\n",
       "      <td>14,517</td>\n",
       "      <td>6.4</td>\n",
       "      <td>23%</td>\n",
       "      <td>47 : 53</td>\n",
       "      <td>22%</td>\n",
       "      <td>Stanford University</td>\n",
       "      <td>Computer Science,Communication &amp; Media Studies...</td>\n",
       "      <td>False</td>\n",
       "      <td>False</td>\n",
       "      <td>North America</td>\n",
       "    </tr>\n",
       "    <tr>\n",
       "      <th>2</th>\n",
       "      <td>30</td>\n",
       "      <td>3</td>\n",
       "      <td>Massachusetts Institute of Technology</td>\n",
       "      <td>97.9</td>\n",
       "      <td>30</td>\n",
       "      <td>98.6</td>\n",
       "      <td>2</td>\n",
       "      <td>96.2</td>\n",
       "      <td>11</td>\n",
       "      <td>99.7</td>\n",
       "      <td>...</td>\n",
       "      <td>11,085</td>\n",
       "      <td>8.0</td>\n",
       "      <td>33%</td>\n",
       "      <td>41 : 59</td>\n",
       "      <td>40%</td>\n",
       "      <td>Massachusetts Institute of Technology</td>\n",
       "      <td>Architecture,Economics &amp; Econometrics,Archaeol...</td>\n",
       "      <td>False</td>\n",
       "      <td>False</td>\n",
       "      <td>North America</td>\n",
       "    </tr>\n",
       "    <tr>\n",
       "      <th>3</th>\n",
       "      <td>40</td>\n",
       "      <td>4</td>\n",
       "      <td>Harvard University</td>\n",
       "      <td>97.8</td>\n",
       "      <td>40</td>\n",
       "      <td>97.7</td>\n",
       "      <td>3</td>\n",
       "      <td>99.9</td>\n",
       "      <td>3</td>\n",
       "      <td>99.4</td>\n",
       "      <td>...</td>\n",
       "      <td>20,050</td>\n",
       "      <td>9.0</td>\n",
       "      <td>25%</td>\n",
       "      <td>51 : 49</td>\n",
       "      <td>12%</td>\n",
       "      <td>Harvard University</td>\n",
       "      <td>Sociology,Architecture,Physics &amp; Astronomy,Psy...</td>\n",
       "      <td>False</td>\n",
       "      <td>False</td>\n",
       "      <td>North America</td>\n",
       "    </tr>\n",
       "    <tr>\n",
       "      <th>4</th>\n",
       "      <td>50</td>\n",
       "      <td>5</td>\n",
       "      <td>University of Cambridge</td>\n",
       "      <td>97.5</td>\n",
       "      <td>50</td>\n",
       "      <td>95.8</td>\n",
       "      <td>7</td>\n",
       "      <td>100.0</td>\n",
       "      <td>1</td>\n",
       "      <td>98.0</td>\n",
       "      <td>...</td>\n",
       "      <td>20,565</td>\n",
       "      <td>11.5</td>\n",
       "      <td>38%</td>\n",
       "      <td>48 : 52</td>\n",
       "      <td>27%</td>\n",
       "      <td>University of Cambridge</td>\n",
       "      <td>Politics &amp; International Studies (incl Develop...</td>\n",
       "      <td>False</td>\n",
       "      <td>False</td>\n",
       "      <td>Europe</td>\n",
       "    </tr>\n",
       "  </tbody>\n",
       "</table>\n",
       "<p>5 rows × 26 columns</p>\n",
       "</div>"
      ],
      "text/plain": [
       "   rank_order rank                                   name scores_overall  \\\n",
       "0          10    1                   University of Oxford           98.5   \n",
       "1          20    2                    Stanford University           98.0   \n",
       "2          30    3  Massachusetts Institute of Technology           97.9   \n",
       "3          40    4                     Harvard University           97.8   \n",
       "4          50    5                University of Cambridge           97.5   \n",
       "\n",
       "   scores_overall_rank  scores_teaching  scores_teaching_rank  \\\n",
       "0                   10             96.6                     5   \n",
       "1                   20             99.0                     1   \n",
       "2                   30             98.6                     2   \n",
       "3                   40             97.7                     3   \n",
       "4                   50             95.8                     7   \n",
       "\n",
       "   scores_research  scores_research_rank  scores_citations  ...  \\\n",
       "0            100.0                     2              99.0  ...   \n",
       "1             97.8                     8              99.6  ...   \n",
       "2             96.2                    11              99.7  ...   \n",
       "3             99.9                     3              99.4  ...   \n",
       "4            100.0                     1              98.0  ...   \n",
       "\n",
       "   stats_number_students  stats_student_staff_ratio  stats_pc_intl_students  \\\n",
       "0                 21,750                       10.9                     42%   \n",
       "1                 14,517                        6.4                     23%   \n",
       "2                 11,085                        8.0                     33%   \n",
       "3                 20,050                        9.0                     25%   \n",
       "4                 20,565                       11.5                     38%   \n",
       "\n",
       "   stats_female_male_ratio  stats_proportion_of_isr  \\\n",
       "0                  49 : 51                      23%   \n",
       "1                  47 : 53                      22%   \n",
       "2                  41 : 59                      40%   \n",
       "3                  51 : 49                      12%   \n",
       "4                  48 : 52                      27%   \n",
       "\n",
       "                                 aliases  \\\n",
       "0                   University of Oxford   \n",
       "1                    Stanford University   \n",
       "2  Massachusetts Institute of Technology   \n",
       "3                     Harvard University   \n",
       "4                University of Cambridge   \n",
       "\n",
       "                                    subjects_offered  closed unaccredited  \\\n",
       "0  Geography,Chemistry,Chemical Engineering,Biolo...   False        False   \n",
       "1  Computer Science,Communication & Media Studies...   False        False   \n",
       "2  Architecture,Economics & Econometrics,Archaeol...   False        False   \n",
       "3  Sociology,Architecture,Physics & Astronomy,Psy...   False        False   \n",
       "4  Politics & International Studies (incl Develop...   False        False   \n",
       "\n",
       "       Continent  \n",
       "0         Europe  \n",
       "1  North America  \n",
       "2  North America  \n",
       "3  North America  \n",
       "4         Europe  \n",
       "\n",
       "[5 rows x 26 columns]"
      ]
     },
     "execution_count": 14,
     "metadata": {},
     "output_type": "execute_result"
    }
   ],
   "source": [
    "from pycountry_convert import country_name_to_country_alpha2, country_alpha2_to_continent_code\n",
    "\n",
    "def get_continent(country_name):\n",
    "    try:\n",
    "        alpha2 = country_name_to_country_alpha2(country_name)\n",
    "        continent_code = country_alpha2_to_continent_code(alpha2)\n",
    "        continents = {\n",
    "            \"AF\": \"Africa\",\n",
    "            \"AS\": \"Asia\",\n",
    "            \"EU\": \"Europe\",\n",
    "            \"NA\": \"North America\",\n",
    "            \"SA\": \"South America\",\n",
    "            \"OC\": \"Oceania\",\n",
    "            \"AN\": \"Antarctica\",\n",
    "        }\n",
    "        return continents[continent_code]\n",
    "    except KeyError:\n",
    "        return \"Unknown\"  \n",
    "\n",
    "\n",
    "df[\"Continent\"] = df[\"location\"].apply(get_continent)\n",
    "\n",
    "df.head()"
   ]
  },
  {
   "cell_type": "code",
   "execution_count": 15,
   "metadata": {},
   "outputs": [
    {
     "data": {
      "application/vnd.plotly.v1+json": {
       "config": {
        "plotlyServerURL": "https://plot.ly"
       },
       "data": [
        {
         "domain": {
          "x": [
           0,
           1
          ],
          "y": [
           0,
           1
          ]
         },
         "hole": 0.25,
         "hovertemplate": "Continent=%{label}<extra></extra>",
         "labels": [
          "Europe",
          "North America",
          "North America",
          "North America",
          "Europe",
          "North America",
          "North America",
          "Europe",
          "North America",
          "North America",
          "Europe",
          "Asia",
          "North America",
          "Asia",
          "North America",
          "North America",
          "North America",
          "North America",
          "Asia",
          "North America",
          "North America",
          "Europe",
          "North America",
          "North America",
          "North America",
          "North America",
          "North America",
          "North America",
          "Asia",
          "Europe",
          "Europe",
          "Asia",
          "Europe",
          "North America",
          "Asia",
          "North America",
          "Oceania",
          "Europe",
          "Europe",
          "Europe",
          "North America",
          "North America",
          "Asia",
          "Asia",
          "Europe",
          "Europe",
          "Europe",
          "Europe",
          "North America",
          "Europe",
          "Europe",
          "North America",
          "Asia",
          "Oceania",
          "Asia",
          "Asia",
          "Asia",
          "Europe",
          "North America",
          "Oceania",
          "Europe",
          "Asia",
          "North America",
          "North America",
          "Asia",
          "Europe",
          "Oceania",
          "North America",
          "North America",
          "Oceania",
          "Europe",
          "North America",
          "Asia",
          "North America",
          "Europe",
          "Asia",
          "Europe",
          "North America",
          "Europe",
          "Europe",
          "Europe",
          "Asia",
          "Asia",
          "Oceania",
          "North America",
          "North America",
          "Europe",
          "Asia",
          "Europe",
          "Europe",
          "Europe",
          "North America",
          "North America",
          "Europe",
          "Europe",
          "Europe",
          "Europe",
          "Europe",
          "Europe",
          "North America",
          "Europe",
          "Europe",
          "Europe",
          "North America",
          "Europe",
          "North America",
          "Europe",
          "Europe",
          "Europe",
          "North America",
          "Oceania",
          "Europe",
          "North America",
          "North America",
          "Europe",
          "Europe",
          "North America",
          "North America",
          "North America",
          "Europe",
          "Europe",
          "North America",
          "Europe",
          "North America",
          "Europe",
          "Europe",
          "Europe",
          "Europe",
          "Europe",
          "Europe",
          "Asia",
          "North America",
          "North America",
          "Europe",
          "Europe",
          "Europe",
          "Europe",
          "North America",
          "Europe",
          "Europe",
          "Europe",
          "Europe",
          "Europe",
          "Oceania",
          "North America",
          "Asia",
          "Europe",
          "Oceania",
          "Asia",
          "Oceania",
          "Asia",
          "Europe",
          "Asia",
          "Europe",
          "North America",
          "Europe",
          "Europe",
          "Asia",
          "North America",
          "Europe",
          "Europe",
          "North America",
          "Europe",
          "North America",
          "Asia",
          "North America",
          "Africa",
          "Europe",
          "Europe",
          "Asia",
          "Europe",
          "Europe",
          "Europe",
          "Europe",
          "Asia",
          "Europe",
          "Asia",
          "Europe",
          "North America",
          "Oceania",
          "Europe",
          "North America",
          "Europe",
          "Europe",
          "Europe",
          "Asia",
          "North America",
          "Europe",
          "Europe",
          "Europe",
          "Asia",
          "North America",
          "Europe",
          "Asia",
          "Europe",
          "Europe",
          "Europe",
          "North America",
          "North America",
          "Oceania",
          "Asia",
          "Europe",
          "Europe",
          "Europe",
          "Europe",
          "North America",
          "North America",
          "Oceania",
          "Europe",
          "North America",
          "Europe",
          "Europe",
          "North America",
          "North America",
          "Asia",
          "North America",
          "Asia",
          "Asia",
          "Europe",
          "Europe",
          "Europe",
          "Europe",
          "Europe",
          "North America",
          "Europe",
          "Asia",
          "Oceania",
          "North America",
          "Europe",
          "Europe",
          "Europe",
          "Europe",
          "Europe",
          "Europe",
          "North America",
          "Europe",
          "South America",
          "Asia",
          "Asia",
          "Europe",
          "Oceania",
          "Asia",
          "Asia",
          "Europe",
          "Europe",
          "North America",
          "Europe",
          "North America",
          "Oceania",
          "Asia",
          "Europe",
          "Asia",
          "Europe",
          "North America",
          "North America",
          "North America",
          "Oceania",
          "Europe",
          "Europe",
          "North America",
          "Oceania",
          "Europe",
          "Europe",
          "Europe",
          "Europe",
          "Asia",
          "Asia",
          "Europe",
          "Asia",
          "Europe",
          "Oceania",
          "North America",
          "Europe",
          "Europe",
          "Asia",
          "Asia",
          "Europe",
          "Asia",
          "North America",
          "Europe",
          "Asia",
          "North America",
          "Europe",
          "Oceania",
          "Europe",
          "Asia",
          "Europe",
          "North America",
          "Asia",
          "Europe",
          "North America",
          "North America",
          "Europe",
          "Europe",
          "Europe",
          "Europe",
          "Oceania",
          "Europe",
          "Europe",
          "North America",
          "Europe",
          "Asia",
          "Asia",
          "Europe",
          "Europe",
          "North America",
          "Europe",
          "Asia",
          "Europe",
          "North America",
          "North America",
          "Europe",
          "Asia",
          "Europe",
          "Oceania",
          "Europe",
          "Europe",
          "Asia",
          "Asia",
          "Asia",
          "Europe",
          "Europe",
          "Asia",
          "Europe",
          "Europe",
          "Europe",
          "Asia",
          "Europe",
          "North America",
          "Oceania",
          "Europe",
          "Europe",
          "Europe",
          "Europe",
          "Asia",
          "Oceania",
          "Asia",
          "Africa",
          "Europe",
          "Europe",
          "Europe",
          "Europe",
          "Asia",
          "North America",
          "Europe",
          "Asia",
          "Europe",
          "North America",
          "Oceania",
          "Africa",
          "Asia",
          "Europe",
          "Asia",
          "Europe",
          "Europe",
          "Europe",
          "Europe",
          "South America",
          "Oceania",
          "Asia",
          "Europe",
          "North America",
          "North America",
          "Asia",
          "Oceania",
          "Asia",
          "Europe",
          "Europe",
          "North America",
          "Europe",
          "Europe",
          "Asia",
          "Asia",
          "North America",
          "North America",
          "Oceania",
          "Europe",
          "North America",
          "Asia",
          "Europe",
          "North America",
          "Asia",
          "Europe",
          "Europe",
          "Oceania",
          "Europe",
          "Europe",
          "Asia",
          "Europe",
          "North America",
          "Asia",
          "Asia",
          "Asia",
          "Oceania",
          "Asia",
          "North America",
          "North America",
          "Europe",
          "Asia",
          "North America",
          "North America",
          "Asia",
          "Europe",
          "Oceania",
          "Oceania",
          "Europe",
          "Europe",
          "Oceania",
          "Europe",
          "Europe",
          "Asia",
          "North America",
          "Europe",
          "Europe",
          "Europe",
          "North America",
          "Oceania",
          "Europe",
          "Asia",
          "Europe",
          "Europe",
          "North America",
          "Europe",
          "Asia",
          "North America",
          "Europe",
          "Europe",
          "North America",
          "Europe",
          "Europe",
          "North America",
          "North America",
          "Europe",
          "Europe",
          "North America",
          "Asia",
          "Europe",
          "Europe",
          "Asia",
          "Europe",
          "Europe",
          "Asia",
          "Africa",
          "Europe",
          "Europe",
          "Asia",
          "Europe",
          "North America",
          "Asia",
          "Europe",
          "Oceania",
          "Europe",
          "Europe",
          "Europe",
          "North America",
          "North America",
          "Europe",
          "Europe",
          "Asia",
          "Asia",
          "Asia",
          "North America",
          "Europe",
          "North America",
          "North America",
          "Europe",
          "Europe",
          "Europe",
          "Europe",
          "South America",
          "Europe",
          "Europe",
          "Asia",
          "Asia",
          "North America",
          "North America",
          "Europe",
          "Asia",
          "North America",
          "Europe",
          "North America",
          "North America",
          "Europe",
          "Europe",
          "North America",
          "Asia",
          "Asia",
          "Asia",
          "Asia",
          "Europe",
          "Europe",
          "North America",
          "Europe",
          "Europe",
          "Asia",
          "Europe",
          "Europe",
          "Oceania",
          "Oceania",
          "North America",
          "Oceania",
          "North America",
          "Asia",
          "Europe",
          "Europe",
          "Asia",
          "North America",
          "Asia",
          "Asia",
          "Europe",
          "Asia",
          "Europe",
          "North America",
          "Asia",
          "Asia",
          "Asia",
          "Asia",
          "Europe",
          "Europe",
          "Europe",
          "Europe",
          "Oceania",
          "North America",
          "Oceania",
          "Asia",
          "Europe",
          "North America",
          "Europe",
          "Europe",
          "Asia",
          "North America",
          "Asia",
          "Europe",
          "Europe",
          "Europe",
          "Europe",
          "Europe",
          "Europe",
          "Europe",
          "Europe",
          "Europe",
          "North America",
          "Europe",
          "Europe",
          "Asia",
          "Asia",
          "Asia",
          "Europe",
          "Asia",
          "Europe",
          "Africa",
          "Asia",
          "Asia",
          "Europe",
          "Europe",
          "Europe",
          "Asia",
          "Europe",
          "Oceania",
          "North America",
          "Europe",
          "Europe",
          "Europe",
          "Europe",
          "Asia",
          "Europe",
          "Asia",
          "Asia",
          "Asia",
          "North America",
          "Asia",
          "Europe",
          "Europe",
          "Europe",
          "Europe",
          "Africa",
          "Asia",
          "Asia",
          "Europe",
          "North America",
          "Europe",
          "Europe",
          "Asia",
          "Asia",
          "Asia",
          "Europe",
          "Asia",
          "Oceania",
          "Oceania",
          "Asia",
          "Asia",
          "Asia",
          "North America",
          "Europe",
          "Europe",
          "Europe",
          "North America",
          "Europe",
          "Asia",
          "Europe",
          "North America",
          "Europe",
          "North America",
          "Europe",
          "Asia",
          "Asia",
          "Asia",
          "Asia",
          "North America",
          "Asia",
          "Asia",
          "Europe",
          "North America",
          "Asia",
          "North America",
          "Europe",
          "Asia",
          "Asia",
          "Europe",
          "Europe",
          "North America",
          "Europe",
          "Asia",
          "Asia",
          "Europe",
          "Asia",
          "Europe",
          "Asia",
          "Africa",
          "Asia",
          "Asia",
          "North America",
          "Asia",
          "Asia",
          "Asia",
          "North America",
          "Asia",
          "Europe",
          "Europe",
          "Asia",
          "Europe",
          "Europe",
          "Europe",
          "Asia",
          "Asia",
          "Asia",
          "Europe",
          "Europe",
          "Europe",
          "Africa",
          "Asia",
          "South America",
          "Asia",
          "South America",
          "South America",
          "Oceania",
          "Europe",
          "Europe",
          "Europe",
          "Asia",
          "Asia",
          "Asia",
          "Asia",
          "Asia",
          "Europe",
          "Europe",
          "Asia",
          "Asia",
          "Asia",
          "Asia",
          "Asia",
          "Asia",
          "Europe",
          "Asia",
          "Asia",
          "Europe",
          "Asia",
          "Europe",
          "Europe",
          "Asia",
          "Asia",
          "Asia",
          "Europe",
          "Asia",
          "Asia",
          "Asia",
          "Europe",
          "North America",
          "Asia",
          "Asia",
          "Asia",
          "Asia",
          "Asia",
          "Asia",
          "Asia",
          "Asia",
          "North America",
          "Europe",
          "Europe",
          "Europe",
          "North America",
          "Europe",
          "Asia",
          "Asia",
          "Asia",
          "Asia",
          "Europe",
          "North America",
          "Europe",
          "Asia",
          "Asia",
          "Europe",
          "North America",
          "North America",
          "Europe",
          "Asia",
          "Asia",
          "Asia",
          "Europe",
          "Asia",
          "Europe",
          "Asia",
          "Europe",
          "Asia",
          "Asia",
          "Asia",
          "North America",
          "North America",
          "North America",
          "Asia",
          "North America",
          "Africa",
          "Europe",
          "Europe",
          "North America",
          "North America",
          "North America",
          "North America",
          "Europe",
          "Europe",
          "Europe",
          "Europe",
          "Europe",
          "Europe",
          "Asia",
          "Europe",
          "Europe",
          "Asia",
          "Europe",
          "Europe",
          "Asia",
          "Asia",
          "Asia",
          "Asia",
          "Europe",
          "Europe",
          "North America",
          "Europe",
          "Europe",
          "Europe",
          "Europe",
          "Europe",
          "Europe",
          "Europe",
          "Europe",
          "Asia",
          "Asia",
          "Europe",
          "Asia",
          "Europe",
          "Europe",
          "Europe",
          "Asia",
          "Asia",
          "North America",
          "Europe",
          "Asia",
          "Asia",
          "North America",
          "North America",
          "Asia",
          "North America",
          "Asia",
          "North America",
          "Europe",
          "Europe",
          "Europe",
          "Asia",
          "Europe",
          "Asia",
          "Asia",
          "Europe",
          "Africa",
          "Europe",
          "North America",
          "Europe",
          "North America",
          "Europe",
          "North America",
          "Asia",
          "Asia",
          "Asia",
          "Asia",
          "Asia",
          "Europe",
          "Asia",
          "Africa",
          "Europe",
          "Africa",
          "Europe",
          "Africa",
          "Asia",
          "Asia",
          "South America",
          "Asia",
          "Europe",
          "Europe",
          "Africa",
          "Europe",
          "Asia",
          "Asia",
          "Europe",
          "Europe",
          "Europe",
          "Asia",
          "Asia",
          "Europe",
          "Europe",
          "Europe",
          "Africa",
          "Europe",
          "Europe",
          "Europe",
          "Europe",
          "Asia",
          "North America",
          "Oceania",
          "Asia",
          "Asia",
          "Asia",
          "Asia",
          "South America",
          "Asia",
          "Asia",
          "Asia",
          "North America",
          "Europe",
          "South America",
          "Africa",
          "Europe",
          "Europe",
          "Africa",
          "Asia",
          "Asia",
          "Europe",
          "Asia",
          "Europe",
          "South America",
          "South America",
          "South America",
          "Asia",
          "North America",
          "North America",
          "Africa",
          "Asia",
          "Europe",
          "Europe",
          "Asia",
          "Asia",
          "Asia",
          "Asia",
          "Asia",
          "Asia",
          "North America",
          "Africa",
          "Asia",
          "Asia",
          "Asia",
          "Asia",
          "Asia",
          "Asia",
          "Europe",
          "Asia",
          "Asia",
          "Asia",
          "Europe",
          "Asia",
          "Europe",
          "Asia",
          "Asia",
          "Asia",
          "Asia",
          "Asia",
          "Asia",
          "Asia",
          "Africa",
          "Asia",
          "Asia",
          "Europe",
          "Asia",
          "Asia",
          "Europe",
          "Asia",
          "Europe",
          "Asia",
          "Asia",
          "Asia",
          "Asia",
          "Asia",
          "North America",
          "Asia",
          "Europe",
          "Europe",
          "Europe",
          "Europe",
          "Asia",
          "Africa",
          "Asia",
          "Europe",
          "Asia",
          "Africa",
          "North America",
          "Europe",
          "Europe",
          "North America",
          "Asia",
          "North America",
          "Europe",
          "Asia",
          "Asia",
          "Asia",
          "North America",
          "Asia",
          "Asia",
          "North America",
          "North America",
          "Asia",
          "Asia",
          "North America",
          "Asia",
          "North America",
          "Asia",
          "Europe",
          "Asia",
          "Europe",
          "Europe",
          "Europe",
          "Europe",
          "Asia",
          "Europe",
          "South America",
          "North America",
          "Asia",
          "Asia",
          "Asia",
          "North America",
          "Asia",
          "Europe",
          "Europe",
          "North America",
          "Europe",
          "Europe",
          "Europe",
          "North America",
          "Asia",
          "Europe",
          "Asia",
          "Europe",
          "Asia",
          "Asia",
          "Europe",
          "Asia",
          "Asia",
          "Asia",
          "Asia",
          "Asia",
          "Asia",
          "Asia",
          "Europe",
          "Asia",
          "North America",
          "Asia",
          "Asia",
          "Europe",
          "Europe",
          "Europe",
          "Africa",
          "Asia",
          "Asia",
          "Europe",
          "Europe",
          "Europe",
          "Asia",
          "Asia",
          "Asia",
          "Europe",
          "Asia",
          "Asia",
          "Africa",
          "Europe",
          "Europe",
          "Asia",
          "Europe",
          "Europe",
          "Europe",
          "Asia",
          "Africa",
          "Asia",
          "Asia",
          "Europe",
          "Europe",
          "Asia",
          "Europe",
          "Asia",
          "South America",
          "Asia",
          "Europe",
          "Asia",
          "Asia",
          "Asia",
          "Asia",
          "Europe",
          "Africa",
          "Africa",
          "North America",
          "Europe",
          "Europe",
          "Europe",
          "Asia",
          "Europe",
          "Europe",
          "North America",
          "Europe",
          "Asia",
          "Asia",
          "Asia",
          "Europe",
          "Europe",
          "Europe",
          "South America",
          "South America",
          "Africa",
          "Europe",
          "Asia",
          "Africa",
          "Europe",
          "Europe",
          "Asia",
          "Asia",
          "Europe",
          "Europe",
          "Africa",
          "South America",
          "Africa",
          "Europe",
          "Asia",
          "North America",
          "Europe",
          "Asia",
          "Asia",
          "Asia",
          "Asia",
          "Europe",
          "Africa",
          "Asia",
          "Asia",
          "Asia",
          "Asia",
          "Asia",
          "Asia",
          "Asia",
          "South America",
          "Europe",
          "Europe",
          "Asia",
          "Asia",
          "Asia",
          "Europe",
          "Asia",
          "Asia",
          "Asia",
          "Asia",
          "Europe",
          "Asia",
          "Asia",
          "Africa",
          "Asia",
          "Asia",
          "Europe",
          "Asia",
          "Asia",
          "Europe",
          "Asia",
          "Asia",
          "Europe",
          "Asia",
          "Asia",
          "Africa",
          "Africa",
          "Europe",
          "Europe",
          "Europe",
          "Europe",
          "Asia",
          "Asia",
          "Asia",
          "Europe",
          "Asia",
          "Asia",
          "Asia",
          "Europe",
          "Europe",
          "Europe",
          "Asia",
          "Europe",
          "Asia",
          "Africa",
          "Asia",
          "Europe",
          "Africa",
          "Asia",
          "Asia",
          "Asia",
          "Asia",
          "Asia",
          "Asia",
          "Asia",
          "Asia",
          "Europe",
          "Asia",
          "Africa",
          "Asia",
          "Asia",
          "North America",
          "Europe",
          "Asia",
          "Europe",
          "Asia",
          "South America",
          "Asia",
          "Europe",
          "Asia",
          "Asia",
          "South America",
          "Europe",
          "Europe",
          "Asia",
          "Asia",
          "Europe",
          "Asia",
          "North America",
          "Asia",
          "South America",
          "Asia",
          "Asia",
          "Africa",
          "Asia",
          "Asia",
          "Asia",
          "Asia",
          "Asia",
          "Europe",
          "Africa",
          "Asia",
          "Africa",
          "Europe",
          "North America",
          "Oceania",
          "Europe",
          "Europe",
          "Africa",
          "Africa",
          "Europe",
          "Asia",
          "Europe",
          "Asia",
          "Europe",
          "Africa",
          "Europe",
          "Europe",
          "Europe",
          "Europe",
          "North America",
          "Asia",
          "Asia",
          "Asia",
          "Asia",
          "Asia",
          "Asia",
          "Europe",
          "Europe",
          "Asia",
          "Europe",
          "Asia",
          "North America",
          "North America",
          "Europe",
          "Europe",
          "Europe",
          "Asia",
          "Europe",
          "Africa",
          "Asia",
          "Europe",
          "Asia",
          "South America",
          "Asia",
          "Asia",
          "Asia",
          "Asia",
          "Asia",
          "Asia",
          "Asia",
          "South America",
          "South America",
          "South America",
          "Africa",
          "Asia",
          "Africa",
          "Asia",
          "Asia",
          "South America",
          "North America",
          "Asia",
          "Asia",
          "Asia",
          "Africa",
          "Europe",
          "Asia",
          "Asia",
          "Africa",
          "Africa",
          "Europe",
          "South America",
          "Africa",
          "Asia",
          "Asia",
          "Europe",
          "Europe",
          "Europe",
          "South America",
          "Africa",
          "Europe",
          "Asia",
          "Europe",
          "Asia",
          "Asia",
          "Asia",
          "Asia",
          "Asia",
          "South America",
          "North America",
          "Asia",
          "South America",
          "Asia",
          "Asia",
          "Asia",
          "Asia",
          "Africa",
          "Asia",
          "Asia",
          "Asia",
          "Asia",
          "Asia",
          "South America",
          "South America",
          "Europe",
          "South America",
          "South America",
          "South America",
          "South America",
          "South America",
          "South America",
          "South America",
          "South America",
          "South America",
          "South America",
          "South America",
          "South America",
          "South America",
          "Asia",
          "Africa",
          "South America",
          "Asia",
          "Asia",
          "Europe",
          "Asia",
          "Europe",
          "North America",
          "Asia",
          "Asia",
          "Asia",
          "Asia",
          "Asia",
          "Asia",
          "Asia",
          "Europe",
          "Asia",
          "Africa",
          "Europe",
          "Africa",
          "Asia",
          "Europe",
          "Europe",
          "Asia",
          "Africa",
          "Asia",
          "Asia",
          "Africa",
          "Europe",
          "Asia",
          "Asia",
          "Asia",
          "Asia",
          "Asia",
          "Asia",
          "Europe",
          "Asia",
          "Asia",
          "Asia",
          "Asia",
          "Europe",
          "Asia",
          "Asia",
          "Asia",
          "Asia",
          "Asia",
          "Europe",
          "Asia",
          "Europe",
          "Asia",
          "Asia",
          "Asia",
          "Asia",
          "Asia",
          "Asia",
          "Asia",
          "North America",
          "Europe",
          "Europe",
          "Europe",
          "Europe",
          "Asia",
          "Asia",
          "Africa",
          "Europe",
          "Africa",
          "Africa",
          "Europe",
          "Europe",
          "Europe",
          "Europe",
          "Europe",
          "North America",
          "Asia",
          "Africa",
          "Africa",
          "North America",
          "Europe",
          "Europe",
          "Asia",
          "Asia",
          "Asia",
          "Asia",
          "Asia",
          "Africa",
          "Africa",
          "Asia",
          "Asia",
          "Asia",
          "South America",
          "Europe",
          "Asia",
          "Asia",
          "Asia",
          "Europe",
          "Asia",
          "Europe",
          "Europe",
          "Africa",
          "Asia",
          "Europe",
          "Europe",
          "Europe",
          "Asia",
          "Asia",
          "Europe",
          "Europe",
          "Europe",
          "Asia",
          "Asia",
          "Europe",
          "Europe",
          "South America",
          "South America",
          "South America",
          "South America",
          "Africa",
          "Europe",
          "Europe",
          "Asia",
          "North America",
          "Asia",
          "Asia",
          "Europe",
          "Asia",
          "Asia",
          "Asia",
          "Asia",
          "Asia",
          "Europe",
          "Asia",
          "Asia",
          "Asia",
          "Asia",
          "Asia",
          "Asia",
          "Asia",
          "South America",
          "Asia",
          "Asia",
          "Asia",
          "Asia",
          "Asia",
          "Asia",
          "Asia",
          "Europe",
          "Africa",
          "Europe",
          "Africa",
          "Asia",
          "Asia",
          "Europe",
          "Africa",
          "Asia",
          "Europe",
          "Africa",
          "Asia",
          "Europe",
          "Asia",
          "Asia",
          "Europe",
          "Asia",
          "Europe",
          "Asia",
          "Europe",
          "Asia",
          "Asia",
          "South America",
          "Asia",
          "South America",
          "Europe",
          "Europe",
          "Europe",
          "Europe",
          "Europe",
          "Asia",
          "Asia",
          "North America",
          "Asia",
          "Asia",
          "Asia",
          "Asia",
          "Asia",
          "Asia",
          "Asia",
          "Asia",
          "Europe",
          "Asia",
          "Europe",
          "Asia",
          "Asia",
          "Africa",
          "Asia",
          "Europe",
          "South America",
          "Asia",
          "Europe",
          "Asia",
          "Africa",
          "Asia",
          "Europe",
          "Asia",
          "Europe",
          "Europe",
          "Europe",
          "Europe",
          "Asia",
          "Europe",
          "Europe",
          "Europe",
          "Europe",
          "Europe",
          "Europe",
          "Europe",
          "Asia",
          "Asia",
          "Asia",
          "Asia",
          "Asia",
          "Asia",
          "Asia",
          "Asia",
          "Asia",
          "Asia",
          "Europe",
          "Africa",
          "Asia",
          "Asia",
          "Asia",
          "Africa",
          "Africa",
          "Africa",
          "Africa",
          "Africa",
          "Asia",
          "North America",
          "Africa",
          "Asia",
          "Asia",
          "Europe",
          "Europe",
          "Asia",
          "Asia",
          "Asia",
          "South America",
          "Asia",
          "South America",
          "Asia",
          "Asia",
          "Asia",
          "South America",
          "Asia",
          "Asia",
          "North America",
          "North America",
          "North America",
          "North America",
          "North America",
          "North America",
          "North America",
          "North America",
          "North America",
          "Africa",
          "Asia",
          "Asia",
          "Asia",
          "Asia",
          "Africa",
          "Africa",
          "Europe",
          "North America",
          "Africa",
          "South America",
          "Asia",
          "Asia",
          "Europe",
          "Asia",
          "South America",
          "Asia",
          "Africa",
          "Africa",
          "Asia",
          "Asia",
          "Asia",
          "Asia",
          "Asia",
          "Asia",
          "South America",
          "Asia",
          "South America",
          "South America",
          "South America",
          "South America",
          "South America",
          "South America",
          "Asia",
          "South America",
          "South America",
          "Asia",
          "North America",
          "Europe",
          "Asia",
          "Asia",
          "Africa",
          "Asia",
          "Asia",
          "North America",
          "Europe",
          "Asia",
          "Europe",
          "Europe",
          "Asia",
          "Africa",
          "Asia",
          "Africa",
          "Asia",
          "Asia",
          "Asia",
          "Asia",
          "Asia",
          "Europe",
          "South America",
          "South America",
          "Asia",
          "South America",
          "Asia",
          "South America",
          "South America",
          "South America",
          "South America",
          "Africa",
          "South America",
          "South America",
          "South America",
          "South America",
          "South America",
          "South America",
          "South America",
          "South America",
          "South America",
          "South America",
          "South America",
          "South America",
          "Africa",
          "South America",
          "Asia",
          "Asia",
          "Africa",
          "Asia",
          "Asia",
          "Africa",
          "Europe",
          "Asia",
          "Asia",
          "Europe",
          "North America",
          "North America",
          "Europe",
          "Asia",
          "Asia",
          "Africa",
          "Africa",
          "North America",
          "Europe",
          "Europe",
          "Asia",
          "Asia",
          "Asia",
          "Asia",
          "Asia",
          "Asia",
          "South America",
          "Europe",
          "Asia",
          "North America",
          "Europe",
          "Europe",
          "Europe",
          "Asia",
          "Asia",
          "Asia",
          "Asia",
          "Europe",
          "Asia",
          "Asia",
          "Europe",
          "Europe",
          "Europe",
          "Asia",
          "Asia",
          "Africa",
          "Asia",
          "Asia",
          "Asia",
          "Asia",
          "Asia",
          "Africa",
          "Asia",
          "Asia",
          "Europe",
          "Europe",
          "Europe",
          "Asia",
          "Europe",
          "Asia",
          "Asia",
          "Asia",
          "Asia",
          "Asia",
          "Asia",
          "Asia",
          "Asia",
          "Asia",
          "Asia",
          "Asia",
          "Asia",
          "Asia",
          "Africa",
          "Africa",
          "Africa",
          "Asia",
          "Asia",
          "Europe",
          "Europe",
          "Asia",
          "Europe",
          "Europe",
          "South America",
          "South America",
          "Europe",
          "Asia",
          "Europe",
          "South America",
          "Asia",
          "Asia",
          "Europe",
          "Asia",
          "Africa",
          "Europe",
          "South America",
          "Asia",
          "Asia",
          "Europe",
          "Africa",
          "Asia",
          "Asia",
          "Europe",
          "Europe",
          "Asia",
          "Africa",
          "Africa",
          "Europe",
          "Europe",
          "Europe",
          "Asia",
          "Africa",
          "Africa",
          "Asia",
          "Asia",
          "Asia",
          "South America",
          "Asia",
          "Asia",
          "Europe",
          "Asia",
          "Asia",
          "South America",
          "North America",
          "Asia",
          "Asia",
          "Asia",
          "Europe",
          "Asia",
          "Europe",
          "South America",
          "Asia",
          "Asia",
          "Asia",
          "Asia",
          "Asia",
          "Europe",
          "Africa",
          "Europe",
          "South America",
          "Europe",
          "Europe",
          "Europe",
          "Europe",
          "South America",
          "Europe",
          "Europe",
          "South America",
          "Africa",
          "Europe",
          "Asia",
          "Asia",
          "Europe",
          "Asia",
          "Africa",
          "Asia",
          "Asia",
          "Asia",
          "Europe",
          "Europe",
          "Asia",
          "Asia",
          "North America",
          "Europe",
          "Europe",
          "Europe",
          "Asia",
          "South America",
          "Europe",
          "Asia",
          "Europe",
          "Europe",
          "Europe",
          "South America",
          "South America",
          "Asia",
          "South America",
          "Europe",
          "Europe",
          "South America",
          "South America",
          "South America",
          "Africa",
          "Europe",
          "Europe",
          "Unknown",
          "Europe",
          "Asia",
          "Asia",
          "Asia",
          "Europe",
          "Europe",
          "Europe",
          "Europe",
          "Asia",
          "Asia",
          "Asia",
          "Europe",
          "South America",
          "Asia",
          "Asia",
          "Europe",
          "South America",
          "South America",
          "Asia",
          "Europe",
          "Europe",
          "Asia",
          "Africa",
          "Africa",
          "Europe",
          "Asia",
          "Asia",
          "Asia",
          "Asia",
          "Europe",
          "Europe",
          "Asia",
          "Europe",
          "Asia",
          "Asia",
          "Asia",
          "Europe",
          "Europe",
          "North America",
          "Asia",
          "Europe",
          "Asia",
          "Asia",
          "Asia",
          "Europe",
          "South America",
          "Asia",
          "South America",
          "South America",
          "Asia",
          "Africa",
          "Asia",
          "Europe",
          "Asia",
          "Europe",
          "Europe",
          "South America",
          "South America",
          "South America",
          "Asia",
          "Asia",
          "Asia",
          "South America",
          "Asia",
          "Asia",
          "Asia",
          "Asia",
          "Europe",
          "Asia",
          "Asia",
          "Asia",
          "Europe",
          "Europe",
          "Europe",
          "Asia",
          "Asia",
          "Asia",
          "Europe",
          "South America",
          "South America",
          "Asia",
          "Europe",
          "Asia",
          "Asia",
          "Europe",
          "Europe",
          "Europe",
          "Europe",
          "Europe",
          "Europe",
          "Asia",
          "Asia",
          "Asia",
          "Asia",
          "Asia",
          "Africa",
          "Asia",
          "Africa",
          "Asia",
          "Europe",
          "Africa",
          "Africa",
          "Asia",
          "Africa",
          "Europe",
          "Africa",
          "Europe",
          "Asia",
          "Africa",
          "Asia",
          "Africa",
          "Asia",
          "Asia",
          "Asia",
          "Asia",
          "Africa",
          "Africa",
          "Asia",
          "Asia",
          "Africa",
          "Asia",
          "Asia",
          "Asia",
          "Asia",
          "Asia",
          "Asia",
          "Africa",
          "Asia",
          "Asia",
          "Africa",
          "Africa",
          "Africa",
          "Asia",
          "Asia",
          "Asia",
          "Asia",
          "Asia",
          "Asia",
          "Asia",
          "Asia",
          "Asia",
          "Asia",
          "Asia",
          "Europe",
          "Asia",
          "Asia",
          "Asia",
          "Asia",
          "Asia",
          "Asia",
          "Asia",
          "Asia",
          "Asia",
          "Asia",
          "Asia",
          "Asia",
          "Asia",
          "Asia",
          "Asia",
          "Asia",
          "Asia",
          "Asia",
          "Asia",
          "Asia",
          "Asia",
          "Asia",
          "Asia",
          "North America",
          "Asia",
          "Asia",
          "Asia",
          "Asia",
          "South America",
          "Europe",
          "Asia",
          "Asia",
          "Asia",
          "Asia",
          "Asia",
          "Asia",
          "Asia",
          "Europe",
          "Europe",
          "Europe",
          "South America",
          "Asia",
          "Asia",
          "Asia",
          "Asia",
          "Asia",
          "Europe",
          "South America",
          "North America",
          "Asia",
          "Asia",
          "Africa",
          "Asia",
          "Africa",
          "Asia",
          "Asia",
          "Asia",
          "Asia",
          "Asia",
          "Asia",
          "Africa",
          "Europe",
          "Europe",
          "Africa",
          "Asia",
          "Africa",
          "Europe",
          "Europe",
          "Africa",
          "Africa",
          "Africa",
          "Asia",
          "Asia",
          "Europe",
          "Asia",
          "Asia",
          "Europe",
          "South America",
          "Europe",
          "Europe",
          "Asia",
          "Europe",
          "Asia",
          "Asia",
          "Asia",
          "Asia",
          "Asia",
          "Asia",
          "Europe",
          "Africa",
          "South America",
          "Europe",
          "Asia",
          "South America",
          "South America",
          "South America",
          "Asia",
          "Europe",
          "Asia",
          "Asia",
          "North America",
          "Africa",
          "Africa",
          "Africa",
          "Africa",
          "Europe",
          "Asia",
          "Asia",
          "North America",
          "South America",
          "Asia",
          "South America",
          "North America",
          "North America",
          "Europe",
          "Asia",
          "Europe",
          "Africa",
          "Asia",
          "South America",
          "Asia",
          "Asia",
          "Asia",
          "Asia",
          "Europe",
          "Europe",
          "Africa",
          "Europe",
          "Europe",
          "Europe",
          "Europe",
          "Asia",
          "Asia",
          "Asia",
          "Asia",
          "Asia",
          "Africa",
          "Africa",
          "Africa",
          "Asia",
          "Asia",
          "Asia",
          "Asia",
          "Africa",
          "Asia",
          "Europe",
          "Asia",
          "Asia",
          "Asia",
          "Asia",
          "Asia",
          "Asia",
          "Asia",
          "Europe",
          "South America",
          "Asia",
          "Africa",
          "Africa",
          "Africa",
          "Africa",
          "Africa",
          "Africa",
          "Africa",
          "Africa",
          "Africa",
          "Africa",
          "Africa",
          "Africa",
          "Africa",
          "Africa",
          "Africa",
          "Africa",
          "Africa",
          "Africa",
          "Africa",
          "Africa",
          "Africa",
          "Africa",
          "Europe",
          "Africa",
          "Africa",
          "Asia",
          "Africa",
          "Africa",
          "Africa",
          "Africa",
          "Africa",
          "Asia",
          "Europe",
          "South America",
          "Europe",
          "Asia",
          "South America",
          "South America",
          "Asia",
          "Asia",
          "Asia",
          "Africa",
          "Africa",
          "Europe",
          "Africa",
          "South America",
          "South America",
          "Africa",
          "Africa",
          "Africa",
          "Asia",
          "Asia",
          "Asia",
          "South America",
          "Asia",
          "Africa",
          "South America",
          "Europe",
          "Asia",
          "Africa",
          "Africa",
          "Asia",
          "Asia",
          "Asia",
          "Africa",
          "Asia",
          "Europe",
          "Europe",
          "Asia",
          "Asia",
          "Asia",
          "Asia",
          "Europe",
          "Asia",
          "Asia",
          "Asia",
          "Asia",
          "Asia",
          "Asia",
          "Asia",
          "Europe",
          "Asia",
          "Europe",
          "Europe",
          "Asia",
          "Asia",
          "Asia",
          "Africa",
          "Africa",
          "Africa",
          "Africa",
          "Africa",
          "Europe",
          "Asia",
          "Asia",
          "Asia",
          "Asia",
          "Asia",
          "Asia",
          "Asia",
          "Asia",
          "Asia",
          "Africa",
          "Europe",
          "Asia",
          "North America",
          "Asia",
          "Africa",
          "Asia",
          "Asia",
          "Asia",
          "Asia",
          "Europe",
          "Asia",
          "Asia",
          "Asia",
          "Europe",
          "Europe",
          "South America",
          "North America",
          "Asia",
          "Asia",
          "Asia",
          "Asia",
          "Africa",
          "Asia",
          "Africa",
          "Europe",
          "Europe",
          "Asia",
          "Asia",
          "Asia",
          "Asia",
          "Asia",
          "Asia",
          "South America",
          "Asia",
          "Asia",
          "Asia",
          "Asia",
          "Asia",
          "Europe",
          "Europe",
          "Asia",
          "Asia",
          "Asia",
          "Asia",
          "Asia",
          "Africa",
          "Asia",
          "Asia",
          "Europe",
          "Africa",
          "Europe",
          "Africa",
          "Asia",
          "Europe",
          "Asia",
          "Asia",
          "Asia",
          "Asia",
          "Asia",
          "Asia",
          "Asia",
          "Asia",
          "Europe",
          "Asia",
          "Europe",
          "Europe",
          "Europe",
          "Asia",
          "Asia",
          "Asia",
          "Asia",
          "Asia",
          "Asia",
          "Europe",
          "Asia",
          "Asia",
          "Asia",
          "Asia",
          "Asia",
          "Asia",
          "Asia",
          "Asia",
          "Asia",
          "Asia",
          "Asia",
          "Asia",
          "Asia",
          "Asia",
          "Africa",
          "Europe",
          "Asia",
          "Asia",
          "Asia",
          "Europe",
          "Asia",
          "Asia",
          "Asia",
          "Asia",
          "Asia",
          "Asia",
          "Africa",
          "Africa",
          "South America",
          "South America",
          "Europe",
          "Europe",
          "Europe",
          "Europe",
          "Asia",
          "Asia",
          "Asia",
          "Africa",
          "Europe",
          "Europe",
          "Europe",
          "Europe",
          "Asia",
          "Europe",
          "Europe",
          "Europe",
          "Europe",
          "Europe",
          "South America",
          "South America",
          "Africa",
          "Asia",
          "Africa",
          "Asia",
          "Asia",
          "South America",
          "Asia",
          "Asia",
          "Asia",
          "Europe",
          "Asia",
          "Asia",
          "South America",
          "Africa",
          "South America",
          "Europe",
          "Asia",
          "Asia",
          "Asia",
          "Asia",
          "Asia",
          "Asia",
          "Africa",
          "Asia",
          "Asia",
          "Asia",
          "Asia",
          "Africa",
          "Africa",
          "North America",
          "North America",
          "Europe",
          "Europe",
          "Europe",
          "Europe",
          "Asia",
          "Asia",
          "Asia",
          "Africa",
          "Asia",
          "South America",
          "South America",
          "South America",
          "South America",
          "South America",
          "Asia",
          "Asia",
          "Asia",
          "Asia",
          "Asia",
          "Asia",
          "Asia",
          "Asia",
          "Africa",
          "South America",
          "Europe",
          "Europe",
          "Europe",
          "Europe",
          "Asia",
          "South America",
          "Africa",
          "Asia",
          "Africa",
          "Asia",
          "Europe",
          "Europe",
          "Europe",
          "Asia",
          "Asia",
          "Africa",
          "Asia",
          "Asia",
          "Asia",
          "Asia",
          "Asia",
          "Europe",
          "North America",
          "Asia",
          "Asia",
          "Europe",
          "Africa",
          "Europe",
          "Europe",
          "Asia",
          "South America",
          "Africa",
          "Africa",
          "Europe",
          "Asia",
          "Asia",
          "Europe",
          "Africa",
          "Asia",
          "Africa",
          "Africa",
          "Europe",
          "Europe",
          "South America",
          "Asia",
          "Europe",
          "Europe",
          "Africa",
          "South America",
          "South America",
          "Asia",
          "Asia",
          "South America",
          "Europe",
          "Europe",
          "Europe",
          "Asia",
          "Asia",
          "Asia",
          "Europe",
          "Africa",
          "Asia",
          "Africa",
          "Europe",
          "Europe",
          "Europe",
          "South America",
          "Asia",
          "North America",
          "Asia",
          "Africa",
          "Asia",
          "Asia",
          "Africa",
          "Europe",
          "Europe",
          "South America",
          "Asia",
          "Asia",
          "Asia",
          "Europe",
          "Africa",
          "Asia",
          "Asia",
          "Asia",
          "Europe",
          "Asia",
          "Europe",
          "Europe",
          "Europe",
          "Europe",
          "Europe",
          "Europe",
          "Europe",
          "Europe",
          "Europe",
          "Europe",
          "Europe",
          "Europe",
          "Europe",
          "Europe",
          "Africa",
          "Africa",
          "Asia",
          "Europe",
          "South America",
          "Asia",
          "Asia",
          "Europe",
          "Asia",
          "Asia",
          "Asia",
          "Asia",
          "South America",
          "South America",
          "South America",
          "South America",
          "Asia",
          "Asia",
          "Asia",
          "Europe",
          "Asia",
          "Asia",
          "Africa",
          "Africa",
          "Asia",
          "Asia",
          "Asia",
          "Asia",
          "Asia",
          "Asia",
          "Asia",
          "Asia",
          "Asia",
          "Europe",
          "Africa",
          "South America",
          "South America",
          "Asia",
          "Europe",
          "Asia",
          "Europe",
          "Asia",
          "Europe",
          "Africa",
          "Asia",
          "Asia",
          "Asia",
          "Asia",
          "Asia",
          "Europe",
          "Asia",
          "Europe",
          "Europe",
          "Europe",
          "Europe",
          "Asia",
          "Asia",
          "Asia",
          "Asia",
          "Asia",
          "Asia",
          "Asia",
          "Asia",
          "Africa",
          "Asia",
          "Asia",
          "Asia",
          "Asia",
          "Asia",
          "Asia",
          "Asia",
          "Asia",
          "Asia",
          "Asia",
          "Asia",
          "Asia",
          "Asia",
          "Asia",
          "Asia",
          "Asia",
          "Asia",
          "Asia",
          "Asia",
          "Asia",
          "Africa",
          "Europe",
          "Asia",
          "South America",
          "South America",
          "North America",
          "North America",
          "South America",
          "Asia",
          "Asia",
          "Asia",
          "Asia",
          "Asia",
          "Asia",
          "Asia",
          "Asia",
          "Asia",
          "Asia",
          "Asia",
          "Asia",
          "Africa",
          "Asia",
          "Asia",
          "Africa",
          "Asia",
          "Asia",
          "Asia",
          "Europe",
          "Asia",
          "Europe",
          "Africa",
          "Asia",
          "Asia",
          "Asia",
          "Asia",
          "Europe",
          "Asia",
          "Asia",
          "South America",
          "Asia",
          "Europe",
          "Europe",
          "South America",
          "South America",
          "Asia",
          "Africa",
          "Europe",
          "Europe",
          "Asia",
          "Asia",
          "South America",
          "Asia",
          "Asia",
          "Asia",
          "Europe",
          "South America",
          "Asia",
          "Europe",
          "Europe",
          "Africa",
          "Europe",
          "South America",
          "Asia",
          "Asia",
          "Asia",
          "Europe",
          "Europe",
          "Asia",
          "Asia",
          "North America",
          "Asia",
          "Europe",
          "North America",
          "Europe",
          "Asia",
          "Asia",
          "Europe",
          "Asia",
          "Asia",
          "Europe",
          "Europe",
          "Europe",
          "Asia",
          "Asia",
          "Europe",
          "Asia",
          "Europe",
          "Africa",
          "Asia",
          "Asia",
          "Europe",
          "Africa",
          "Asia"
         ],
         "legendgroup": "",
         "name": "",
         "showlegend": true,
         "type": "pie"
        }
       ],
       "layout": {
        "legend": {
         "tracegroupgap": 0
        },
        "template": {
         "data": {
          "bar": [
           {
            "error_x": {
             "color": "#2a3f5f"
            },
            "error_y": {
             "color": "#2a3f5f"
            },
            "marker": {
             "line": {
              "color": "#E5ECF6",
              "width": 0.5
             },
             "pattern": {
              "fillmode": "overlay",
              "size": 10,
              "solidity": 0.2
             }
            },
            "type": "bar"
           }
          ],
          "barpolar": [
           {
            "marker": {
             "line": {
              "color": "#E5ECF6",
              "width": 0.5
             },
             "pattern": {
              "fillmode": "overlay",
              "size": 10,
              "solidity": 0.2
             }
            },
            "type": "barpolar"
           }
          ],
          "carpet": [
           {
            "aaxis": {
             "endlinecolor": "#2a3f5f",
             "gridcolor": "white",
             "linecolor": "white",
             "minorgridcolor": "white",
             "startlinecolor": "#2a3f5f"
            },
            "baxis": {
             "endlinecolor": "#2a3f5f",
             "gridcolor": "white",
             "linecolor": "white",
             "minorgridcolor": "white",
             "startlinecolor": "#2a3f5f"
            },
            "type": "carpet"
           }
          ],
          "choropleth": [
           {
            "colorbar": {
             "outlinewidth": 0,
             "ticks": ""
            },
            "type": "choropleth"
           }
          ],
          "contour": [
           {
            "colorbar": {
             "outlinewidth": 0,
             "ticks": ""
            },
            "colorscale": [
             [
              0,
              "#0d0887"
             ],
             [
              0.1111111111111111,
              "#46039f"
             ],
             [
              0.2222222222222222,
              "#7201a8"
             ],
             [
              0.3333333333333333,
              "#9c179e"
             ],
             [
              0.4444444444444444,
              "#bd3786"
             ],
             [
              0.5555555555555556,
              "#d8576b"
             ],
             [
              0.6666666666666666,
              "#ed7953"
             ],
             [
              0.7777777777777778,
              "#fb9f3a"
             ],
             [
              0.8888888888888888,
              "#fdca26"
             ],
             [
              1,
              "#f0f921"
             ]
            ],
            "type": "contour"
           }
          ],
          "contourcarpet": [
           {
            "colorbar": {
             "outlinewidth": 0,
             "ticks": ""
            },
            "type": "contourcarpet"
           }
          ],
          "heatmap": [
           {
            "colorbar": {
             "outlinewidth": 0,
             "ticks": ""
            },
            "colorscale": [
             [
              0,
              "#0d0887"
             ],
             [
              0.1111111111111111,
              "#46039f"
             ],
             [
              0.2222222222222222,
              "#7201a8"
             ],
             [
              0.3333333333333333,
              "#9c179e"
             ],
             [
              0.4444444444444444,
              "#bd3786"
             ],
             [
              0.5555555555555556,
              "#d8576b"
             ],
             [
              0.6666666666666666,
              "#ed7953"
             ],
             [
              0.7777777777777778,
              "#fb9f3a"
             ],
             [
              0.8888888888888888,
              "#fdca26"
             ],
             [
              1,
              "#f0f921"
             ]
            ],
            "type": "heatmap"
           }
          ],
          "heatmapgl": [
           {
            "colorbar": {
             "outlinewidth": 0,
             "ticks": ""
            },
            "colorscale": [
             [
              0,
              "#0d0887"
             ],
             [
              0.1111111111111111,
              "#46039f"
             ],
             [
              0.2222222222222222,
              "#7201a8"
             ],
             [
              0.3333333333333333,
              "#9c179e"
             ],
             [
              0.4444444444444444,
              "#bd3786"
             ],
             [
              0.5555555555555556,
              "#d8576b"
             ],
             [
              0.6666666666666666,
              "#ed7953"
             ],
             [
              0.7777777777777778,
              "#fb9f3a"
             ],
             [
              0.8888888888888888,
              "#fdca26"
             ],
             [
              1,
              "#f0f921"
             ]
            ],
            "type": "heatmapgl"
           }
          ],
          "histogram": [
           {
            "marker": {
             "pattern": {
              "fillmode": "overlay",
              "size": 10,
              "solidity": 0.2
             }
            },
            "type": "histogram"
           }
          ],
          "histogram2d": [
           {
            "colorbar": {
             "outlinewidth": 0,
             "ticks": ""
            },
            "colorscale": [
             [
              0,
              "#0d0887"
             ],
             [
              0.1111111111111111,
              "#46039f"
             ],
             [
              0.2222222222222222,
              "#7201a8"
             ],
             [
              0.3333333333333333,
              "#9c179e"
             ],
             [
              0.4444444444444444,
              "#bd3786"
             ],
             [
              0.5555555555555556,
              "#d8576b"
             ],
             [
              0.6666666666666666,
              "#ed7953"
             ],
             [
              0.7777777777777778,
              "#fb9f3a"
             ],
             [
              0.8888888888888888,
              "#fdca26"
             ],
             [
              1,
              "#f0f921"
             ]
            ],
            "type": "histogram2d"
           }
          ],
          "histogram2dcontour": [
           {
            "colorbar": {
             "outlinewidth": 0,
             "ticks": ""
            },
            "colorscale": [
             [
              0,
              "#0d0887"
             ],
             [
              0.1111111111111111,
              "#46039f"
             ],
             [
              0.2222222222222222,
              "#7201a8"
             ],
             [
              0.3333333333333333,
              "#9c179e"
             ],
             [
              0.4444444444444444,
              "#bd3786"
             ],
             [
              0.5555555555555556,
              "#d8576b"
             ],
             [
              0.6666666666666666,
              "#ed7953"
             ],
             [
              0.7777777777777778,
              "#fb9f3a"
             ],
             [
              0.8888888888888888,
              "#fdca26"
             ],
             [
              1,
              "#f0f921"
             ]
            ],
            "type": "histogram2dcontour"
           }
          ],
          "mesh3d": [
           {
            "colorbar": {
             "outlinewidth": 0,
             "ticks": ""
            },
            "type": "mesh3d"
           }
          ],
          "parcoords": [
           {
            "line": {
             "colorbar": {
              "outlinewidth": 0,
              "ticks": ""
             }
            },
            "type": "parcoords"
           }
          ],
          "pie": [
           {
            "automargin": true,
            "type": "pie"
           }
          ],
          "scatter": [
           {
            "fillpattern": {
             "fillmode": "overlay",
             "size": 10,
             "solidity": 0.2
            },
            "type": "scatter"
           }
          ],
          "scatter3d": [
           {
            "line": {
             "colorbar": {
              "outlinewidth": 0,
              "ticks": ""
             }
            },
            "marker": {
             "colorbar": {
              "outlinewidth": 0,
              "ticks": ""
             }
            },
            "type": "scatter3d"
           }
          ],
          "scattercarpet": [
           {
            "marker": {
             "colorbar": {
              "outlinewidth": 0,
              "ticks": ""
             }
            },
            "type": "scattercarpet"
           }
          ],
          "scattergeo": [
           {
            "marker": {
             "colorbar": {
              "outlinewidth": 0,
              "ticks": ""
             }
            },
            "type": "scattergeo"
           }
          ],
          "scattergl": [
           {
            "marker": {
             "colorbar": {
              "outlinewidth": 0,
              "ticks": ""
             }
            },
            "type": "scattergl"
           }
          ],
          "scattermapbox": [
           {
            "marker": {
             "colorbar": {
              "outlinewidth": 0,
              "ticks": ""
             }
            },
            "type": "scattermapbox"
           }
          ],
          "scatterpolar": [
           {
            "marker": {
             "colorbar": {
              "outlinewidth": 0,
              "ticks": ""
             }
            },
            "type": "scatterpolar"
           }
          ],
          "scatterpolargl": [
           {
            "marker": {
             "colorbar": {
              "outlinewidth": 0,
              "ticks": ""
             }
            },
            "type": "scatterpolargl"
           }
          ],
          "scatterternary": [
           {
            "marker": {
             "colorbar": {
              "outlinewidth": 0,
              "ticks": ""
             }
            },
            "type": "scatterternary"
           }
          ],
          "surface": [
           {
            "colorbar": {
             "outlinewidth": 0,
             "ticks": ""
            },
            "colorscale": [
             [
              0,
              "#0d0887"
             ],
             [
              0.1111111111111111,
              "#46039f"
             ],
             [
              0.2222222222222222,
              "#7201a8"
             ],
             [
              0.3333333333333333,
              "#9c179e"
             ],
             [
              0.4444444444444444,
              "#bd3786"
             ],
             [
              0.5555555555555556,
              "#d8576b"
             ],
             [
              0.6666666666666666,
              "#ed7953"
             ],
             [
              0.7777777777777778,
              "#fb9f3a"
             ],
             [
              0.8888888888888888,
              "#fdca26"
             ],
             [
              1,
              "#f0f921"
             ]
            ],
            "type": "surface"
           }
          ],
          "table": [
           {
            "cells": {
             "fill": {
              "color": "#EBF0F8"
             },
             "line": {
              "color": "white"
             }
            },
            "header": {
             "fill": {
              "color": "#C8D4E3"
             },
             "line": {
              "color": "white"
             }
            },
            "type": "table"
           }
          ]
         },
         "layout": {
          "annotationdefaults": {
           "arrowcolor": "#2a3f5f",
           "arrowhead": 0,
           "arrowwidth": 1
          },
          "autotypenumbers": "strict",
          "coloraxis": {
           "colorbar": {
            "outlinewidth": 0,
            "ticks": ""
           }
          },
          "colorscale": {
           "diverging": [
            [
             0,
             "#8e0152"
            ],
            [
             0.1,
             "#c51b7d"
            ],
            [
             0.2,
             "#de77ae"
            ],
            [
             0.3,
             "#f1b6da"
            ],
            [
             0.4,
             "#fde0ef"
            ],
            [
             0.5,
             "#f7f7f7"
            ],
            [
             0.6,
             "#e6f5d0"
            ],
            [
             0.7,
             "#b8e186"
            ],
            [
             0.8,
             "#7fbc41"
            ],
            [
             0.9,
             "#4d9221"
            ],
            [
             1,
             "#276419"
            ]
           ],
           "sequential": [
            [
             0,
             "#0d0887"
            ],
            [
             0.1111111111111111,
             "#46039f"
            ],
            [
             0.2222222222222222,
             "#7201a8"
            ],
            [
             0.3333333333333333,
             "#9c179e"
            ],
            [
             0.4444444444444444,
             "#bd3786"
            ],
            [
             0.5555555555555556,
             "#d8576b"
            ],
            [
             0.6666666666666666,
             "#ed7953"
            ],
            [
             0.7777777777777778,
             "#fb9f3a"
            ],
            [
             0.8888888888888888,
             "#fdca26"
            ],
            [
             1,
             "#f0f921"
            ]
           ],
           "sequentialminus": [
            [
             0,
             "#0d0887"
            ],
            [
             0.1111111111111111,
             "#46039f"
            ],
            [
             0.2222222222222222,
             "#7201a8"
            ],
            [
             0.3333333333333333,
             "#9c179e"
            ],
            [
             0.4444444444444444,
             "#bd3786"
            ],
            [
             0.5555555555555556,
             "#d8576b"
            ],
            [
             0.6666666666666666,
             "#ed7953"
            ],
            [
             0.7777777777777778,
             "#fb9f3a"
            ],
            [
             0.8888888888888888,
             "#fdca26"
            ],
            [
             1,
             "#f0f921"
            ]
           ]
          },
          "colorway": [
           "#636efa",
           "#EF553B",
           "#00cc96",
           "#ab63fa",
           "#FFA15A",
           "#19d3f3",
           "#FF6692",
           "#B6E880",
           "#FF97FF",
           "#FECB52"
          ],
          "font": {
           "color": "#2a3f5f"
          },
          "geo": {
           "bgcolor": "white",
           "lakecolor": "white",
           "landcolor": "#E5ECF6",
           "showlakes": true,
           "showland": true,
           "subunitcolor": "white"
          },
          "hoverlabel": {
           "align": "left"
          },
          "hovermode": "closest",
          "mapbox": {
           "style": "light"
          },
          "paper_bgcolor": "white",
          "plot_bgcolor": "#E5ECF6",
          "polar": {
           "angularaxis": {
            "gridcolor": "white",
            "linecolor": "white",
            "ticks": ""
           },
           "bgcolor": "#E5ECF6",
           "radialaxis": {
            "gridcolor": "white",
            "linecolor": "white",
            "ticks": ""
           }
          },
          "scene": {
           "xaxis": {
            "backgroundcolor": "#E5ECF6",
            "gridcolor": "white",
            "gridwidth": 2,
            "linecolor": "white",
            "showbackground": true,
            "ticks": "",
            "zerolinecolor": "white"
           },
           "yaxis": {
            "backgroundcolor": "#E5ECF6",
            "gridcolor": "white",
            "gridwidth": 2,
            "linecolor": "white",
            "showbackground": true,
            "ticks": "",
            "zerolinecolor": "white"
           },
           "zaxis": {
            "backgroundcolor": "#E5ECF6",
            "gridcolor": "white",
            "gridwidth": 2,
            "linecolor": "white",
            "showbackground": true,
            "ticks": "",
            "zerolinecolor": "white"
           }
          },
          "shapedefaults": {
           "line": {
            "color": "#2a3f5f"
           }
          },
          "ternary": {
           "aaxis": {
            "gridcolor": "white",
            "linecolor": "white",
            "ticks": ""
           },
           "baxis": {
            "gridcolor": "white",
            "linecolor": "white",
            "ticks": ""
           },
           "bgcolor": "#E5ECF6",
           "caxis": {
            "gridcolor": "white",
            "linecolor": "white",
            "ticks": ""
           }
          },
          "title": {
           "x": 0.05
          },
          "xaxis": {
           "automargin": true,
           "gridcolor": "white",
           "linecolor": "white",
           "ticks": "",
           "title": {
            "standoff": 15
           },
           "zerolinecolor": "white",
           "zerolinewidth": 2
          },
          "yaxis": {
           "automargin": true,
           "gridcolor": "white",
           "linecolor": "white",
           "ticks": "",
           "title": {
            "standoff": 15
           },
           "zerolinecolor": "white",
           "zerolinewidth": 2
          }
         }
        },
        "title": {
         "text": "Number of Universities by Continent"
        }
       }
      }
     },
     "metadata": {},
     "output_type": "display_data"
    }
   ],
   "source": [
    "fig = px.pie(df, names='Continent', \n",
    "             title='Number of Universities by Continent', \n",
    "             hole=0.25)\n",
    "fig.show()"
   ]
  },
  {
   "cell_type": "markdown",
   "metadata": {},
   "source": [
    "Number of universities by continents"
   ]
  },
  {
   "cell_type": "code",
   "execution_count": 16,
   "metadata": {},
   "outputs": [
    {
     "data": {
      "image/png": "[encoded data removed]",
      "text/plain": [
       "<Figure size 1500x1000 with 1 Axes>"
      ]
     },
     "metadata": {},
     "output_type": "display_data"
    }
   ],
   "source": [
    "plt.figure(figsize= (15 , 10))\n",
    "\n",
    "plt.title('University Count by Continent')\n",
    "\n",
    "ax = sns.countplot(data = df , x= \"Continent\")\n",
    "\n",
    "plt.xticks(rotation=0)\n",
    "\n",
    "plt.grid()\n",
    "\n",
    "for p in ax.patches:\n",
    "\n",
    "        ax.annotate('{:.1f}'.format(p.get_height()), (p.get_x()+0.3, p.get_height()+5))"
   ]
  },
  {
   "cell_type": "markdown",
   "metadata": {},
   "source": [
    "In this Ranking, specific ranking of all 2675 universities is not mentioned, therefore I've recalculated the rankings.\n",
    "\n",
    "At first, Total_Score is calculated using the factor formula of Times Higher Education."
   ]
  },
  {
   "cell_type": "code",
   "execution_count": 17,
   "metadata": {},
   "outputs": [
    {
     "data": {
      "text/html": [
       "<div>\n",
       "<style scoped>\n",
       "    .dataframe tbody tr th:only-of-type {\n",
       "        vertical-align: middle;\n",
       "    }\n",
       "\n",
       "    .dataframe tbody tr th {\n",
       "        vertical-align: top;\n",
       "    }\n",
       "\n",
       "    .dataframe thead th {\n",
       "        text-align: right;\n",
       "    }\n",
       "</style>\n",
       "<table border=\"1\" class=\"dataframe\">\n",
       "  <thead>\n",
       "    <tr style=\"text-align: right;\">\n",
       "      <th></th>\n",
       "      <th>rank_order</th>\n",
       "      <th>rank</th>\n",
       "      <th>name</th>\n",
       "      <th>scores_overall</th>\n",
       "      <th>scores_overall_rank</th>\n",
       "      <th>scores_teaching</th>\n",
       "      <th>scores_teaching_rank</th>\n",
       "      <th>scores_research</th>\n",
       "      <th>scores_research_rank</th>\n",
       "      <th>scores_citations</th>\n",
       "      <th>...</th>\n",
       "      <th>stats_student_staff_ratio</th>\n",
       "      <th>stats_pc_intl_students</th>\n",
       "      <th>stats_female_male_ratio</th>\n",
       "      <th>stats_proportion_of_isr</th>\n",
       "      <th>aliases</th>\n",
       "      <th>subjects_offered</th>\n",
       "      <th>closed</th>\n",
       "      <th>unaccredited</th>\n",
       "      <th>Continent</th>\n",
       "      <th>Total_Score</th>\n",
       "    </tr>\n",
       "  </thead>\n",
       "  <tbody>\n",
       "    <tr>\n",
       "      <th>0</th>\n",
       "      <td>10</td>\n",
       "      <td>1</td>\n",
       "      <td>University of Oxford</td>\n",
       "      <td>98.5</td>\n",
       "      <td>10</td>\n",
       "      <td>96.6</td>\n",
       "      <td>5</td>\n",
       "      <td>100.0</td>\n",
       "      <td>2</td>\n",
       "      <td>99.0</td>\n",
       "      <td>...</td>\n",
       "      <td>10.9</td>\n",
       "      <td>42%</td>\n",
       "      <td>49 : 51</td>\n",
       "      <td>23%</td>\n",
       "      <td>University of Oxford</td>\n",
       "      <td>Geography,Chemistry,Chemical Engineering,Biolo...</td>\n",
       "      <td>False</td>\n",
       "      <td>False</td>\n",
       "      <td>Europe</td>\n",
       "      <td>167.76</td>\n",
       "    </tr>\n",
       "    <tr>\n",
       "      <th>1</th>\n",
       "      <td>20</td>\n",
       "      <td>2</td>\n",
       "      <td>Stanford University</td>\n",
       "      <td>98.0</td>\n",
       "      <td>20</td>\n",
       "      <td>99.0</td>\n",
       "      <td>1</td>\n",
       "      <td>97.8</td>\n",
       "      <td>8</td>\n",
       "      <td>99.6</td>\n",
       "      <td>...</td>\n",
       "      <td>6.4</td>\n",
       "      <td>23%</td>\n",
       "      <td>47 : 53</td>\n",
       "      <td>22%</td>\n",
       "      <td>Stanford University</td>\n",
       "      <td>Computer Science,Communication &amp; Media Studies...</td>\n",
       "      <td>False</td>\n",
       "      <td>False</td>\n",
       "      <td>North America</td>\n",
       "      <td>167.665</td>\n",
       "    </tr>\n",
       "    <tr>\n",
       "      <th>2</th>\n",
       "      <td>30</td>\n",
       "      <td>3</td>\n",
       "      <td>Massachusetts Institute of Technology</td>\n",
       "      <td>97.9</td>\n",
       "      <td>30</td>\n",
       "      <td>98.6</td>\n",
       "      <td>2</td>\n",
       "      <td>96.2</td>\n",
       "      <td>11</td>\n",
       "      <td>99.7</td>\n",
       "      <td>...</td>\n",
       "      <td>8.0</td>\n",
       "      <td>33%</td>\n",
       "      <td>41 : 59</td>\n",
       "      <td>40%</td>\n",
       "      <td>Massachusetts Institute of Technology</td>\n",
       "      <td>Architecture,Economics &amp; Econometrics,Archaeol...</td>\n",
       "      <td>False</td>\n",
       "      <td>False</td>\n",
       "      <td>North America</td>\n",
       "      <td>167.675</td>\n",
       "    </tr>\n",
       "    <tr>\n",
       "      <th>3</th>\n",
       "      <td>40</td>\n",
       "      <td>4</td>\n",
       "      <td>Harvard University</td>\n",
       "      <td>97.8</td>\n",
       "      <td>40</td>\n",
       "      <td>97.7</td>\n",
       "      <td>3</td>\n",
       "      <td>99.9</td>\n",
       "      <td>3</td>\n",
       "      <td>99.4</td>\n",
       "      <td>...</td>\n",
       "      <td>9.0</td>\n",
       "      <td>25%</td>\n",
       "      <td>51 : 49</td>\n",
       "      <td>12%</td>\n",
       "      <td>Harvard University</td>\n",
       "      <td>Sociology,Architecture,Physics &amp; Astronomy,Psy...</td>\n",
       "      <td>False</td>\n",
       "      <td>False</td>\n",
       "      <td>North America</td>\n",
       "      <td>167.595</td>\n",
       "    </tr>\n",
       "    <tr>\n",
       "      <th>4</th>\n",
       "      <td>50</td>\n",
       "      <td>5</td>\n",
       "      <td>University of Cambridge</td>\n",
       "      <td>97.5</td>\n",
       "      <td>50</td>\n",
       "      <td>95.8</td>\n",
       "      <td>7</td>\n",
       "      <td>100.0</td>\n",
       "      <td>1</td>\n",
       "      <td>98.0</td>\n",
       "      <td>...</td>\n",
       "      <td>11.5</td>\n",
       "      <td>38%</td>\n",
       "      <td>48 : 52</td>\n",
       "      <td>27%</td>\n",
       "      <td>University of Cambridge</td>\n",
       "      <td>Politics &amp; International Studies (incl Develop...</td>\n",
       "      <td>False</td>\n",
       "      <td>False</td>\n",
       "      <td>Europe</td>\n",
       "      <td>166.2425</td>\n",
       "    </tr>\n",
       "  </tbody>\n",
       "</table>\n",
       "<p>5 rows × 27 columns</p>\n",
       "</div>"
      ],
      "text/plain": [
       "   rank_order rank                                   name scores_overall  \\\n",
       "0          10    1                   University of Oxford           98.5   \n",
       "1          20    2                    Stanford University           98.0   \n",
       "2          30    3  Massachusetts Institute of Technology           97.9   \n",
       "3          40    4                     Harvard University           97.8   \n",
       "4          50    5                University of Cambridge           97.5   \n",
       "\n",
       "   scores_overall_rank  scores_teaching  scores_teaching_rank  \\\n",
       "0                   10             96.6                     5   \n",
       "1                   20             99.0                     1   \n",
       "2                   30             98.6                     2   \n",
       "3                   40             97.7                     3   \n",
       "4                   50             95.8                     7   \n",
       "\n",
       "   scores_research  scores_research_rank  scores_citations  ...  \\\n",
       "0            100.0                     2              99.0  ...   \n",
       "1             97.8                     8              99.6  ...   \n",
       "2             96.2                    11              99.7  ...   \n",
       "3             99.9                     3              99.4  ...   \n",
       "4            100.0                     1              98.0  ...   \n",
       "\n",
       "   stats_student_staff_ratio  stats_pc_intl_students  stats_female_male_ratio  \\\n",
       "0                       10.9                     42%                  49 : 51   \n",
       "1                        6.4                     23%                  47 : 53   \n",
       "2                        8.0                     33%                  41 : 59   \n",
       "3                        9.0                     25%                  51 : 49   \n",
       "4                       11.5                     38%                  48 : 52   \n",
       "\n",
       "   stats_proportion_of_isr                                aliases  \\\n",
       "0                      23%                   University of Oxford   \n",
       "1                      22%                    Stanford University   \n",
       "2                      40%  Massachusetts Institute of Technology   \n",
       "3                      12%                     Harvard University   \n",
       "4                      27%                University of Cambridge   \n",
       "\n",
       "                                    subjects_offered closed  unaccredited  \\\n",
       "0  Geography,Chemistry,Chemical Engineering,Biolo...  False         False   \n",
       "1  Computer Science,Communication & Media Studies...  False         False   \n",
       "2  Architecture,Economics & Econometrics,Archaeol...  False         False   \n",
       "3  Sociology,Architecture,Physics & Astronomy,Psy...  False         False   \n",
       "4  Politics & International Studies (incl Develop...  False         False   \n",
       "\n",
       "       Continent Total_Score  \n",
       "0         Europe      167.76  \n",
       "1  North America     167.665  \n",
       "2  North America     167.675  \n",
       "3  North America     167.595  \n",
       "4         Europe    166.2425  \n",
       "\n",
       "[5 rows x 27 columns]"
      ]
     },
     "execution_count": 17,
     "metadata": {},
     "output_type": "execute_result"
    }
   ],
   "source": [
    "df['Total_Score'] = df['scores_teaching']*0.3 + df['scores_research']*0.3+ df['scores_citations']+df['scores_international_outlook']*.075+ df['scores_industry_income']*.025\n",
    "df.head()"
   ]
  },
  {
   "cell_type": "markdown",
   "metadata": {},
   "source": [
    "Calculated Total Subjects Offered from 'subjects_offered' column, I need it for final rank calculation"
   ]
  },
  {
   "cell_type": "code",
   "execution_count": 18,
   "metadata": {},
   "outputs": [],
   "source": [
    "df['tot_sub_offered'] = df['subjects_offered'].apply(lambda x: len(x.split(',')))"
   ]
  },
  {
   "cell_type": "markdown",
   "metadata": {},
   "source": [
    "The final ranking according to me, is considered using values from the following...."
   ]
  },
  {
   "cell_type": "code",
   "execution_count": 19,
   "metadata": {},
   "outputs": [
    {
     "data": {
      "text/html": [
       "<div>\n",
       "<style scoped>\n",
       "    .dataframe tbody tr th:only-of-type {\n",
       "        vertical-align: middle;\n",
       "    }\n",
       "\n",
       "    .dataframe tbody tr th {\n",
       "        vertical-align: top;\n",
       "    }\n",
       "\n",
       "    .dataframe thead th {\n",
       "        text-align: right;\n",
       "    }\n",
       "</style>\n",
       "<table border=\"1\" class=\"dataframe\">\n",
       "  <thead>\n",
       "    <tr style=\"text-align: right;\">\n",
       "      <th></th>\n",
       "      <th>rank_order</th>\n",
       "      <th>rank</th>\n",
       "      <th>name</th>\n",
       "      <th>scores_overall</th>\n",
       "      <th>scores_overall_rank</th>\n",
       "      <th>scores_teaching</th>\n",
       "      <th>scores_teaching_rank</th>\n",
       "      <th>scores_research</th>\n",
       "      <th>scores_research_rank</th>\n",
       "      <th>scores_citations</th>\n",
       "      <th>...</th>\n",
       "      <th>stats_female_male_ratio</th>\n",
       "      <th>stats_proportion_of_isr</th>\n",
       "      <th>aliases</th>\n",
       "      <th>subjects_offered</th>\n",
       "      <th>closed</th>\n",
       "      <th>unaccredited</th>\n",
       "      <th>Continent</th>\n",
       "      <th>Total_Score</th>\n",
       "      <th>tot_sub_offered</th>\n",
       "      <th>Final_Rank</th>\n",
       "    </tr>\n",
       "  </thead>\n",
       "  <tbody>\n",
       "    <tr>\n",
       "      <th>0</th>\n",
       "      <td>10</td>\n",
       "      <td>1</td>\n",
       "      <td>University of Oxford</td>\n",
       "      <td>98.5</td>\n",
       "      <td>10</td>\n",
       "      <td>96.6</td>\n",
       "      <td>5</td>\n",
       "      <td>100.0</td>\n",
       "      <td>2</td>\n",
       "      <td>99.0</td>\n",
       "      <td>...</td>\n",
       "      <td>49 : 51</td>\n",
       "      <td>23%</td>\n",
       "      <td>University of Oxford</td>\n",
       "      <td>Geography,Chemistry,Chemical Engineering,Biolo...</td>\n",
       "      <td>False</td>\n",
       "      <td>False</td>\n",
       "      <td>Europe</td>\n",
       "      <td>167.76</td>\n",
       "      <td>32</td>\n",
       "      <td>1</td>\n",
       "    </tr>\n",
       "    <tr>\n",
       "      <th>2</th>\n",
       "      <td>30</td>\n",
       "      <td>3</td>\n",
       "      <td>Massachusetts Institute of Technology</td>\n",
       "      <td>97.9</td>\n",
       "      <td>30</td>\n",
       "      <td>98.6</td>\n",
       "      <td>2</td>\n",
       "      <td>96.2</td>\n",
       "      <td>11</td>\n",
       "      <td>99.7</td>\n",
       "      <td>...</td>\n",
       "      <td>41 : 59</td>\n",
       "      <td>40%</td>\n",
       "      <td>Massachusetts Institute of Technology</td>\n",
       "      <td>Architecture,Economics &amp; Econometrics,Archaeol...</td>\n",
       "      <td>False</td>\n",
       "      <td>False</td>\n",
       "      <td>North America</td>\n",
       "      <td>167.675</td>\n",
       "      <td>28</td>\n",
       "      <td>2</td>\n",
       "    </tr>\n",
       "    <tr>\n",
       "      <th>1</th>\n",
       "      <td>20</td>\n",
       "      <td>2</td>\n",
       "      <td>Stanford University</td>\n",
       "      <td>98.0</td>\n",
       "      <td>20</td>\n",
       "      <td>99.0</td>\n",
       "      <td>1</td>\n",
       "      <td>97.8</td>\n",
       "      <td>8</td>\n",
       "      <td>99.6</td>\n",
       "      <td>...</td>\n",
       "      <td>47 : 53</td>\n",
       "      <td>22%</td>\n",
       "      <td>Stanford University</td>\n",
       "      <td>Computer Science,Communication &amp; Media Studies...</td>\n",
       "      <td>False</td>\n",
       "      <td>False</td>\n",
       "      <td>North America</td>\n",
       "      <td>167.665</td>\n",
       "      <td>33</td>\n",
       "      <td>3</td>\n",
       "    </tr>\n",
       "    <tr>\n",
       "      <th>3</th>\n",
       "      <td>40</td>\n",
       "      <td>4</td>\n",
       "      <td>Harvard University</td>\n",
       "      <td>97.8</td>\n",
       "      <td>40</td>\n",
       "      <td>97.7</td>\n",
       "      <td>3</td>\n",
       "      <td>99.9</td>\n",
       "      <td>3</td>\n",
       "      <td>99.4</td>\n",
       "      <td>...</td>\n",
       "      <td>51 : 49</td>\n",
       "      <td>12%</td>\n",
       "      <td>Harvard University</td>\n",
       "      <td>Sociology,Architecture,Physics &amp; Astronomy,Psy...</td>\n",
       "      <td>False</td>\n",
       "      <td>False</td>\n",
       "      <td>North America</td>\n",
       "      <td>167.595</td>\n",
       "      <td>33</td>\n",
       "      <td>4</td>\n",
       "    </tr>\n",
       "    <tr>\n",
       "      <th>4</th>\n",
       "      <td>50</td>\n",
       "      <td>5</td>\n",
       "      <td>University of Cambridge</td>\n",
       "      <td>97.5</td>\n",
       "      <td>50</td>\n",
       "      <td>95.8</td>\n",
       "      <td>7</td>\n",
       "      <td>100.0</td>\n",
       "      <td>1</td>\n",
       "      <td>98.0</td>\n",
       "      <td>...</td>\n",
       "      <td>48 : 52</td>\n",
       "      <td>27%</td>\n",
       "      <td>University of Cambridge</td>\n",
       "      <td>Politics &amp; International Studies (incl Develop...</td>\n",
       "      <td>False</td>\n",
       "      <td>False</td>\n",
       "      <td>Europe</td>\n",
       "      <td>166.2425</td>\n",
       "      <td>33</td>\n",
       "      <td>5</td>\n",
       "    </tr>\n",
       "  </tbody>\n",
       "</table>\n",
       "<p>5 rows × 29 columns</p>\n",
       "</div>"
      ],
      "text/plain": [
       "   rank_order rank                                   name scores_overall  \\\n",
       "0          10    1                   University of Oxford           98.5   \n",
       "2          30    3  Massachusetts Institute of Technology           97.9   \n",
       "1          20    2                    Stanford University           98.0   \n",
       "3          40    4                     Harvard University           97.8   \n",
       "4          50    5                University of Cambridge           97.5   \n",
       "\n",
       "   scores_overall_rank  scores_teaching  scores_teaching_rank  \\\n",
       "0                   10             96.6                     5   \n",
       "2                   30             98.6                     2   \n",
       "1                   20             99.0                     1   \n",
       "3                   40             97.7                     3   \n",
       "4                   50             95.8                     7   \n",
       "\n",
       "   scores_research  scores_research_rank  scores_citations  ...  \\\n",
       "0            100.0                     2              99.0  ...   \n",
       "2             96.2                    11              99.7  ...   \n",
       "1             97.8                     8              99.6  ...   \n",
       "3             99.9                     3              99.4  ...   \n",
       "4            100.0                     1              98.0  ...   \n",
       "\n",
       "   stats_female_male_ratio  stats_proportion_of_isr  \\\n",
       "0                  49 : 51                      23%   \n",
       "2                  41 : 59                      40%   \n",
       "1                  47 : 53                      22%   \n",
       "3                  51 : 49                      12%   \n",
       "4                  48 : 52                      27%   \n",
       "\n",
       "                                 aliases  \\\n",
       "0                   University of Oxford   \n",
       "2  Massachusetts Institute of Technology   \n",
       "1                    Stanford University   \n",
       "3                     Harvard University   \n",
       "4                University of Cambridge   \n",
       "\n",
       "                                    subjects_offered  closed unaccredited  \\\n",
       "0  Geography,Chemistry,Chemical Engineering,Biolo...   False        False   \n",
       "2  Architecture,Economics & Econometrics,Archaeol...   False        False   \n",
       "1  Computer Science,Communication & Media Studies...   False        False   \n",
       "3  Sociology,Architecture,Physics & Astronomy,Psy...   False        False   \n",
       "4  Politics & International Studies (incl Develop...   False        False   \n",
       "\n",
       "       Continent  Total_Score tot_sub_offered Final_Rank  \n",
       "0         Europe       167.76              32          1  \n",
       "2  North America      167.675              28          2  \n",
       "1  North America      167.665              33          3  \n",
       "3  North America      167.595              33          4  \n",
       "4         Europe     166.2425              33          5  \n",
       "\n",
       "[5 rows x 29 columns]"
      ]
     },
     "execution_count": 19,
     "metadata": {},
     "output_type": "execute_result"
    }
   ],
   "source": [
    "df['Final_Rank'] = df[['Total_Score','scores_teaching', 'scores_research', 'scores_citations', 'scores_international_outlook','scores_industry_income', 'stats_number_students', 'tot_sub_offered']].apply(tuple, axis=1).rank(method='min', ascending=False).astype(int)\n",
    "df.sort_values(by='Final_Rank').head()"
   ]
  },
  {
   "cell_type": "code",
   "execution_count": 20,
   "metadata": {},
   "outputs": [
    {
     "data": {
      "text/plain": [
       "2670"
      ]
     },
     "execution_count": 20,
     "metadata": {},
     "output_type": "execute_result"
    }
   ],
   "source": [
    "df['Final_Rank'].nunique()"
   ]
  },
  {
   "cell_type": "code",
   "execution_count": 21,
   "metadata": {},
   "outputs": [
    {
     "data": {
      "text/plain": [
       "(2671, 29)"
      ]
     },
     "execution_count": 21,
     "metadata": {},
     "output_type": "execute_result"
    }
   ],
   "source": [
    "df.shape"
   ]
  },
  {
   "cell_type": "markdown",
   "metadata": {},
   "source": [
    "Making a separate column with CS availability"
   ]
  },
  {
   "cell_type": "code",
   "execution_count": 22,
   "metadata": {},
   "outputs": [],
   "source": [
    "df['is_cs'] = df['subjects_offered'].str.contains('Computer Science')"
   ]
  },
  {
   "cell_type": "code",
   "execution_count": 32,
   "metadata": {},
   "outputs": [
    {
     "data": {
      "text/plain": [
       "is_cs\n",
       "True     2277\n",
       "False     394\n",
       "Name: count, dtype: int64[pyarrow]"
      ]
     },
     "execution_count": 32,
     "metadata": {},
     "output_type": "execute_result"
    }
   ],
   "source": [
    "df['is_cs'].value_counts()"
   ]
  },
  {
   "cell_type": "markdown",
   "metadata": {},
   "source": [
    "Overall Situation of BD Universities"
   ]
  },
  {
   "cell_type": "code",
   "execution_count": 33,
   "metadata": {},
   "outputs": [
    {
     "data": {
      "text/html": [
       "<div>\n",
       "<style scoped>\n",
       "    .dataframe tbody tr th:only-of-type {\n",
       "        vertical-align: middle;\n",
       "    }\n",
       "\n",
       "    .dataframe tbody tr th {\n",
       "        vertical-align: top;\n",
       "    }\n",
       "\n",
       "    .dataframe thead th {\n",
       "        text-align: right;\n",
       "    }\n",
       "</style>\n",
       "<table border=\"1\" class=\"dataframe\">\n",
       "  <thead>\n",
       "    <tr style=\"text-align: right;\">\n",
       "      <th></th>\n",
       "      <th>Final_Rank</th>\n",
       "      <th>name</th>\n",
       "      <th>Total_Score</th>\n",
       "      <th>tot_sub_offered</th>\n",
       "      <th>is_cs</th>\n",
       "      <th>stats_number_students</th>\n",
       "      <th>scores_teaching</th>\n",
       "      <th>scores_research</th>\n",
       "      <th>scores_citations</th>\n",
       "      <th>scores_industry_income</th>\n",
       "      <th>scores_international_outlook</th>\n",
       "      <th>stats_pc_intl_students</th>\n",
       "      <th>stats_female_male_ratio</th>\n",
       "    </tr>\n",
       "  </thead>\n",
       "  <tbody>\n",
       "    <tr>\n",
       "      <th>939</th>\n",
       "      <td>645</td>\n",
       "      <td>North South University</td>\n",
       "      <td>86.6125</td>\n",
       "      <td>20</td>\n",
       "      <td>True</td>\n",
       "      <td>18,681</td>\n",
       "      <td>12.9</td>\n",
       "      <td>10.0</td>\n",
       "      <td>76.1</td>\n",
       "      <td>15.8</td>\n",
       "      <td>43.3</td>\n",
       "      <td>0%</td>\n",
       "      <td>42 : 58</td>\n",
       "    </tr>\n",
       "    <tr>\n",
       "      <th>886</th>\n",
       "      <td>657</td>\n",
       "      <td>Jahangirnagar University</td>\n",
       "      <td>86.015</td>\n",
       "      <td>24</td>\n",
       "      <td>True</td>\n",
       "      <td>12,649</td>\n",
       "      <td>24.1</td>\n",
       "      <td>8.9</td>\n",
       "      <td>71.9</td>\n",
       "      <td>19.5</td>\n",
       "      <td>49.7</td>\n",
       "      <td>0%</td>\n",
       "      <td>49 : 51</td>\n",
       "    </tr>\n",
       "    <tr>\n",
       "      <th>825</th>\n",
       "      <td>723</td>\n",
       "      <td>BRAC University</td>\n",
       "      <td>82.7875</td>\n",
       "      <td>15</td>\n",
       "      <td>True</td>\n",
       "      <td>13,027</td>\n",
       "      <td>14.8</td>\n",
       "      <td>12.3</td>\n",
       "      <td>71.1</td>\n",
       "      <td>15.7</td>\n",
       "      <td>42.2</td>\n",
       "      <td>1%</td>\n",
       "      <td>43 : 57</td>\n",
       "    </tr>\n",
       "    <tr>\n",
       "      <th>855</th>\n",
       "      <td>761</td>\n",
       "      <td>University of Dhaka</td>\n",
       "      <td>81.14</td>\n",
       "      <td>27</td>\n",
       "      <td>True</td>\n",
       "      <td>216,258</td>\n",
       "      <td>17.5</td>\n",
       "      <td>10.0</td>\n",
       "      <td>68.8</td>\n",
       "      <td>18.1</td>\n",
       "      <td>48.5</td>\n",
       "      <td>3%</td>\n",
       "      <td>50 : 50</td>\n",
       "    </tr>\n",
       "    <tr>\n",
       "      <th>1146</th>\n",
       "      <td>954</td>\n",
       "      <td>University of Rajshahi</td>\n",
       "      <td>70.27</td>\n",
       "      <td>30</td>\n",
       "      <td>True</td>\n",
       "      <td>22,042</td>\n",
       "      <td>15.9</td>\n",
       "      <td>9.3</td>\n",
       "      <td>59.3</td>\n",
       "      <td>17.6</td>\n",
       "      <td>39.6</td>\n",
       "      <td>0%</td>\n",
       "      <td>34 : 66</td>\n",
       "    </tr>\n",
       "    <tr>\n",
       "      <th>1019</th>\n",
       "      <td>1058</td>\n",
       "      <td>Bangladesh University of Engineering and Techn...</td>\n",
       "      <td>65.065</td>\n",
       "      <td>10</td>\n",
       "      <td>True</td>\n",
       "      <td>6,237</td>\n",
       "      <td>21.7</td>\n",
       "      <td>15.8</td>\n",
       "      <td>50.7</td>\n",
       "      <td>35.2</td>\n",
       "      <td>29.8</td>\n",
       "      <td>0%</td>\n",
       "      <td>22 : 78</td>\n",
       "    </tr>\n",
       "    <tr>\n",
       "      <th>1018</th>\n",
       "      <td>1131</td>\n",
       "      <td>Bangladesh Agricultural University (BAU)</td>\n",
       "      <td>61.2975</td>\n",
       "      <td>16</td>\n",
       "      <td>True</td>\n",
       "      <td>6,810</td>\n",
       "      <td>29.5</td>\n",
       "      <td>9.9</td>\n",
       "      <td>45.2</td>\n",
       "      <td>22.6</td>\n",
       "      <td>49.5</td>\n",
       "      <td>1%</td>\n",
       "      <td>45 : 55</td>\n",
       "    </tr>\n",
       "    <tr>\n",
       "      <th>1331</th>\n",
       "      <td>1188</td>\n",
       "      <td>Khulna University</td>\n",
       "      <td>58.555</td>\n",
       "      <td>24</td>\n",
       "      <td>True</td>\n",
       "      <td>6,997</td>\n",
       "      <td>17.0</td>\n",
       "      <td>9.5</td>\n",
       "      <td>46.9</td>\n",
       "      <td>17.1</td>\n",
       "      <td>43.7</td>\n",
       "      <td>0%</td>\n",
       "      <td>43 : 57</td>\n",
       "    </tr>\n",
       "    <tr>\n",
       "      <th>1421</th>\n",
       "      <td>1275</td>\n",
       "      <td>Shahjalal University of Science and Technology</td>\n",
       "      <td>53.655</td>\n",
       "      <td>24</td>\n",
       "      <td>True</td>\n",
       "      <td>9,585</td>\n",
       "      <td>13.2</td>\n",
       "      <td>8.4</td>\n",
       "      <td>43.4</td>\n",
       "      <td>16.6</td>\n",
       "      <td>44.8</td>\n",
       "      <td>0%</td>\n",
       "      <td>31 : 69</td>\n",
       "    </tr>\n",
       "    <tr>\n",
       "      <th>2095</th>\n",
       "      <td>1769</td>\n",
       "      <td>Dhaka International University</td>\n",
       "      <td>31.8925</td>\n",
       "      <td>12</td>\n",
       "      <td>True</td>\n",
       "      <td>8,174</td>\n",
       "      <td>12.5</td>\n",
       "      <td>11.2</td>\n",
       "      <td>21.6</td>\n",
       "      <td>48.1</td>\n",
       "      <td>26.4</td>\n",
       "      <td>8%</td>\n",
       "      <td>18 : 82</td>\n",
       "    </tr>\n",
       "    <tr>\n",
       "      <th>2282</th>\n",
       "      <td>1860</td>\n",
       "      <td>Khulna University of Engineering and Technolog...</td>\n",
       "      <td>31.8925</td>\n",
       "      <td>5</td>\n",
       "      <td>False</td>\n",
       "      <td>6,170</td>\n",
       "      <td>12.5</td>\n",
       "      <td>11.2</td>\n",
       "      <td>21.6</td>\n",
       "      <td>48.1</td>\n",
       "      <td>26.4</td>\n",
       "      <td>0%</td>\n",
       "      <td>20 : 80</td>\n",
       "    </tr>\n",
       "    <tr>\n",
       "      <th>2655</th>\n",
       "      <td>1924</td>\n",
       "      <td>World University of Bangladesh (WUB)</td>\n",
       "      <td>31.8925</td>\n",
       "      <td>17</td>\n",
       "      <td>True</td>\n",
       "      <td>5,200</td>\n",
       "      <td>12.5</td>\n",
       "      <td>11.2</td>\n",
       "      <td>21.6</td>\n",
       "      <td>48.1</td>\n",
       "      <td>26.4</td>\n",
       "      <td>0%</td>\n",
       "      <td>21 : 79</td>\n",
       "    </tr>\n",
       "    <tr>\n",
       "      <th>2251</th>\n",
       "      <td>1933</td>\n",
       "      <td>IUBAT – International University of Business A...</td>\n",
       "      <td>31.8925</td>\n",
       "      <td>11</td>\n",
       "      <td>True</td>\n",
       "      <td>5,115</td>\n",
       "      <td>12.5</td>\n",
       "      <td>11.2</td>\n",
       "      <td>21.6</td>\n",
       "      <td>48.1</td>\n",
       "      <td>26.4</td>\n",
       "      <td>1%</td>\n",
       "      <td>30 : 70</td>\n",
       "    </tr>\n",
       "    <tr>\n",
       "      <th>2622</th>\n",
       "      <td>1976</td>\n",
       "      <td>United International University</td>\n",
       "      <td>31.8925</td>\n",
       "      <td>9</td>\n",
       "      <td>True</td>\n",
       "      <td>4,759</td>\n",
       "      <td>12.5</td>\n",
       "      <td>11.2</td>\n",
       "      <td>21.6</td>\n",
       "      <td>48.1</td>\n",
       "      <td>26.4</td>\n",
       "      <td>1%</td>\n",
       "      <td>28 : 72</td>\n",
       "    </tr>\n",
       "    <tr>\n",
       "      <th>2323</th>\n",
       "      <td>2022</td>\n",
       "      <td>University of Liberal Arts Bangladesh</td>\n",
       "      <td>31.8925</td>\n",
       "      <td>6</td>\n",
       "      <td>True</td>\n",
       "      <td>4,242</td>\n",
       "      <td>12.5</td>\n",
       "      <td>11.2</td>\n",
       "      <td>21.6</td>\n",
       "      <td>48.1</td>\n",
       "      <td>26.4</td>\n",
       "      <td>0%</td>\n",
       "      <td>49 : 51</td>\n",
       "    </tr>\n",
       "    <tr>\n",
       "      <th>2258</th>\n",
       "      <td>2062</td>\n",
       "      <td>Jashore University of Science and Technology</td>\n",
       "      <td>31.8925</td>\n",
       "      <td>19</td>\n",
       "      <td>True</td>\n",
       "      <td>3,815</td>\n",
       "      <td>12.5</td>\n",
       "      <td>11.2</td>\n",
       "      <td>21.6</td>\n",
       "      <td>48.1</td>\n",
       "      <td>26.4</td>\n",
       "      <td>0%</td>\n",
       "      <td>32 : 68</td>\n",
       "    </tr>\n",
       "    <tr>\n",
       "      <th>2634</th>\n",
       "      <td>2184</td>\n",
       "      <td>Varendra University</td>\n",
       "      <td>31.8925</td>\n",
       "      <td>15</td>\n",
       "      <td>True</td>\n",
       "      <td>2,876</td>\n",
       "      <td>12.5</td>\n",
       "      <td>11.2</td>\n",
       "      <td>21.6</td>\n",
       "      <td>48.1</td>\n",
       "      <td>26.4</td>\n",
       "      <td>0%</td>\n",
       "      <td>39 : 61</td>\n",
       "    </tr>\n",
       "    <tr>\n",
       "      <th>2088</th>\n",
       "      <td>2273</td>\n",
       "      <td>Daffodil International University (DIU)</td>\n",
       "      <td>31.8925</td>\n",
       "      <td>20</td>\n",
       "      <td>True</td>\n",
       "      <td>17,236</td>\n",
       "      <td>12.5</td>\n",
       "      <td>11.2</td>\n",
       "      <td>21.6</td>\n",
       "      <td>48.1</td>\n",
       "      <td>26.4</td>\n",
       "      <td>5%</td>\n",
       "      <td>37 : 63</td>\n",
       "    </tr>\n",
       "    <tr>\n",
       "      <th>2224</th>\n",
       "      <td>2369</td>\n",
       "      <td>Independent University, Bangladesh</td>\n",
       "      <td>31.8925</td>\n",
       "      <td>15</td>\n",
       "      <td>True</td>\n",
       "      <td>10,686</td>\n",
       "      <td>12.5</td>\n",
       "      <td>11.2</td>\n",
       "      <td>21.6</td>\n",
       "      <td>48.1</td>\n",
       "      <td>26.4</td>\n",
       "      <td>0%</td>\n",
       "      <td>40 : 60</td>\n",
       "    </tr>\n",
       "    <tr>\n",
       "      <th>1970</th>\n",
       "      <td>2372</td>\n",
       "      <td>American International University – Bangladesh</td>\n",
       "      <td>31.8925</td>\n",
       "      <td>13</td>\n",
       "      <td>True</td>\n",
       "      <td>10,386</td>\n",
       "      <td>12.5</td>\n",
       "      <td>11.2</td>\n",
       "      <td>21.6</td>\n",
       "      <td>48.1</td>\n",
       "      <td>26.4</td>\n",
       "      <td>0%</td>\n",
       "      <td>24 : 76</td>\n",
       "    </tr>\n",
       "    <tr>\n",
       "      <th>2014</th>\n",
       "      <td>2412</td>\n",
       "      <td>Bangabandhu Sheikh Mujibur Rahman Agricultural...</td>\n",
       "      <td>31.8925</td>\n",
       "      <td>5</td>\n",
       "      <td>True</td>\n",
       "      <td>1,743</td>\n",
       "      <td>12.5</td>\n",
       "      <td>11.2</td>\n",
       "      <td>21.6</td>\n",
       "      <td>48.1</td>\n",
       "      <td>26.4</td>\n",
       "      <td>3%</td>\n",
       "      <td>55 : 45</td>\n",
       "    </tr>\n",
       "  </tbody>\n",
       "</table>\n",
       "</div>"
      ],
      "text/plain": [
       "      Final_Rank                                               name  \\\n",
       "939          645                             North South University   \n",
       "886          657                           Jahangirnagar University   \n",
       "825          723                                    BRAC University   \n",
       "855          761                                University of Dhaka   \n",
       "1146         954                             University of Rajshahi   \n",
       "1019        1058  Bangladesh University of Engineering and Techn...   \n",
       "1018        1131           Bangladesh Agricultural University (BAU)   \n",
       "1331        1188                                  Khulna University   \n",
       "1421        1275     Shahjalal University of Science and Technology   \n",
       "2095        1769                     Dhaka International University   \n",
       "2282        1860  Khulna University of Engineering and Technolog...   \n",
       "2655        1924               World University of Bangladesh (WUB)   \n",
       "2251        1933  IUBAT – International University of Business A...   \n",
       "2622        1976                    United International University   \n",
       "2323        2022              University of Liberal Arts Bangladesh   \n",
       "2258        2062       Jashore University of Science and Technology   \n",
       "2634        2184                                Varendra University   \n",
       "2088        2273            Daffodil International University (DIU)   \n",
       "2224        2369                 Independent University, Bangladesh   \n",
       "1970        2372     American International University – Bangladesh   \n",
       "2014        2412  Bangabandhu Sheikh Mujibur Rahman Agricultural...   \n",
       "\n",
       "      Total_Score  tot_sub_offered  is_cs stats_number_students  \\\n",
       "939       86.6125               20   True                18,681   \n",
       "886        86.015               24   True                12,649   \n",
       "825       82.7875               15   True                13,027   \n",
       "855         81.14               27   True               216,258   \n",
       "1146        70.27               30   True                22,042   \n",
       "1019       65.065               10   True                 6,237   \n",
       "1018      61.2975               16   True                 6,810   \n",
       "1331       58.555               24   True                 6,997   \n",
       "1421       53.655               24   True                 9,585   \n",
       "2095      31.8925               12   True                 8,174   \n",
       "2282      31.8925                5  False                 6,170   \n",
       "2655      31.8925               17   True                 5,200   \n",
       "2251      31.8925               11   True                 5,115   \n",
       "2622      31.8925                9   True                 4,759   \n",
       "2323      31.8925                6   True                 4,242   \n",
       "2258      31.8925               19   True                 3,815   \n",
       "2634      31.8925               15   True                 2,876   \n",
       "2088      31.8925               20   True                17,236   \n",
       "2224      31.8925               15   True                10,686   \n",
       "1970      31.8925               13   True                10,386   \n",
       "2014      31.8925                5   True                 1,743   \n",
       "\n",
       "      scores_teaching  scores_research  scores_citations  \\\n",
       "939              12.9             10.0              76.1   \n",
       "886              24.1              8.9              71.9   \n",
       "825              14.8             12.3              71.1   \n",
       "855              17.5             10.0              68.8   \n",
       "1146             15.9              9.3              59.3   \n",
       "1019             21.7             15.8              50.7   \n",
       "1018             29.5              9.9              45.2   \n",
       "1331             17.0              9.5              46.9   \n",
       "1421             13.2              8.4              43.4   \n",
       "2095             12.5             11.2              21.6   \n",
       "2282             12.5             11.2              21.6   \n",
       "2655             12.5             11.2              21.6   \n",
       "2251             12.5             11.2              21.6   \n",
       "2622             12.5             11.2              21.6   \n",
       "2323             12.5             11.2              21.6   \n",
       "2258             12.5             11.2              21.6   \n",
       "2634             12.5             11.2              21.6   \n",
       "2088             12.5             11.2              21.6   \n",
       "2224             12.5             11.2              21.6   \n",
       "1970             12.5             11.2              21.6   \n",
       "2014             12.5             11.2              21.6   \n",
       "\n",
       "      scores_industry_income  scores_international_outlook  \\\n",
       "939                     15.8                          43.3   \n",
       "886                     19.5                          49.7   \n",
       "825                     15.7                          42.2   \n",
       "855                     18.1                          48.5   \n",
       "1146                    17.6                          39.6   \n",
       "1019                    35.2                          29.8   \n",
       "1018                    22.6                          49.5   \n",
       "1331                    17.1                          43.7   \n",
       "1421                    16.6                          44.8   \n",
       "2095                    48.1                          26.4   \n",
       "2282                    48.1                          26.4   \n",
       "2655                    48.1                          26.4   \n",
       "2251                    48.1                          26.4   \n",
       "2622                    48.1                          26.4   \n",
       "2323                    48.1                          26.4   \n",
       "2258                    48.1                          26.4   \n",
       "2634                    48.1                          26.4   \n",
       "2088                    48.1                          26.4   \n",
       "2224                    48.1                          26.4   \n",
       "1970                    48.1                          26.4   \n",
       "2014                    48.1                          26.4   \n",
       "\n",
       "     stats_pc_intl_students stats_female_male_ratio  \n",
       "939                      0%                 42 : 58  \n",
       "886                      0%                 49 : 51  \n",
       "825                      1%                 43 : 57  \n",
       "855                      3%                 50 : 50  \n",
       "1146                     0%                 34 : 66  \n",
       "1019                     0%                 22 : 78  \n",
       "1018                     1%                 45 : 55  \n",
       "1331                     0%                 43 : 57  \n",
       "1421                     0%                 31 : 69  \n",
       "2095                     8%                 18 : 82  \n",
       "2282                     0%                 20 : 80  \n",
       "2655                     0%                 21 : 79  \n",
       "2251                     1%                 30 : 70  \n",
       "2622                     1%                 28 : 72  \n",
       "2323                     0%                 49 : 51  \n",
       "2258                     0%                 32 : 68  \n",
       "2634                     0%                 39 : 61  \n",
       "2088                     5%                 37 : 63  \n",
       "2224                     0%                 40 : 60  \n",
       "1970                     0%                 24 : 76  \n",
       "2014                     3%                 55 : 45  "
      ]
     },
     "execution_count": 33,
     "metadata": {},
     "output_type": "execute_result"
    }
   ],
   "source": [
    "df_bd = df.loc[df['location'] == 'Bangladesh']\n",
    "df_bd[['Final_Rank', 'name','Total_Score', 'tot_sub_offered','is_cs', 'stats_number_students', 'scores_teaching', 'scores_research','scores_citations', 'scores_industry_income', 'scores_international_outlook', 'stats_pc_intl_students', 'stats_female_male_ratio']].sort_values(by='Final_Rank')"
   ]
  },
  {
   "cell_type": "code",
   "execution_count": 36,
   "metadata": {},
   "outputs": [
    {
     "data": {
      "application/vnd.plotly.v1+json": {
       "config": {
        "plotlyServerURL": "https://plot.ly"
       },
       "data": [
        {
         "domain": {
          "x": [
           0,
           1
          ],
          "y": [
           0,
           1
          ]
         },
         "hole": 0.25,
         "hoverinfo": "label+percent",
         "hovertemplate": "location=%{label}<extra></extra>",
         "labels": [
          "United Kingdom",
          "United States",
          "United States",
          "United States",
          "United Kingdom",
          "United States",
          "United Kingdom",
          "United States",
          "United States",
          "United States",
          "United States",
          "Switzerland",
          "United States",
          "United States",
          "United States",
          "United States",
          "China",
          "United States",
          "United Kingdom",
          "Singapore",
          "United States",
          "United States",
          "United States",
          "Canada",
          "China",
          "United States",
          "United States",
          "United Kingdom",
          "United States",
          "United States",
          "Singapore",
          "Hong Kong",
          "United Kingdom",
          "United States",
          "Germany",
          "Switzerland",
          "United Kingdom",
          "Hong Kong",
          "Germany",
          "Germany",
          "Sweden",
          "Australia",
          "Canada",
          "Netherlands",
          "Australia",
          "Belgium",
          "United Kingdom",
          "United States",
          "United States",
          "United States",
          "Netherlands",
          "Canada",
          "Australia",
          "United Kingdom",
          "United States",
          "Hong Kong",
          "United States",
          "France",
          "China",
          "United States",
          "United Kingdom",
          "United States",
          "China",
          "Netherlands",
          "United States",
          "United States",
          "Germany",
          "Netherlands",
          "United States",
          "Hong Kong",
          "Netherlands",
          "Australia",
          "Switzerland",
          "United Kingdom",
          "United States",
          "Australia",
          "Hong Kong",
          "United States",
          "Australia",
          "United States",
          "France",
          "United Kingdom",
          "United Kingdom",
          "Canada",
          "Japan",
          "United States",
          "United Kingdom",
          "China",
          "Germany",
          "China",
          "Australia",
          "Switzerland",
          "China",
          "Denmark",
          "Netherlands",
          "Netherlands",
          "United States",
          "France",
          "Australia",
          "Germany"
         ],
         "legendgroup": "",
         "name": "",
         "showlegend": true,
         "textfont": {
          "size": 15
         },
         "textinfo": "value",
         "textposition": "inside",
         "type": "pie"
        }
       ],
       "layout": {
        "legend": {
         "tracegroupgap": 0
        },
        "template": {
         "data": {
          "bar": [
           {
            "error_x": {
             "color": "#2a3f5f"
            },
            "error_y": {
             "color": "#2a3f5f"
            },
            "marker": {
             "line": {
              "color": "#E5ECF6",
              "width": 0.5
             },
             "pattern": {
              "fillmode": "overlay",
              "size": 10,
              "solidity": 0.2
             }
            },
            "type": "bar"
           }
          ],
          "barpolar": [
           {
            "marker": {
             "line": {
              "color": "#E5ECF6",
              "width": 0.5
             },
             "pattern": {
              "fillmode": "overlay",
              "size": 10,
              "solidity": 0.2
             }
            },
            "type": "barpolar"
           }
          ],
          "carpet": [
           {
            "aaxis": {
             "endlinecolor": "#2a3f5f",
             "gridcolor": "white",
             "linecolor": "white",
             "minorgridcolor": "white",
             "startlinecolor": "#2a3f5f"
            },
            "baxis": {
             "endlinecolor": "#2a3f5f",
             "gridcolor": "white",
             "linecolor": "white",
             "minorgridcolor": "white",
             "startlinecolor": "#2a3f5f"
            },
            "type": "carpet"
           }
          ],
          "choropleth": [
           {
            "colorbar": {
             "outlinewidth": 0,
             "ticks": ""
            },
            "type": "choropleth"
           }
          ],
          "contour": [
           {
            "colorbar": {
             "outlinewidth": 0,
             "ticks": ""
            },
            "colorscale": [
             [
              0,
              "#0d0887"
             ],
             [
              0.1111111111111111,
              "#46039f"
             ],
             [
              0.2222222222222222,
              "#7201a8"
             ],
             [
              0.3333333333333333,
              "#9c179e"
             ],
             [
              0.4444444444444444,
              "#bd3786"
             ],
             [
              0.5555555555555556,
              "#d8576b"
             ],
             [
              0.6666666666666666,
              "#ed7953"
             ],
             [
              0.7777777777777778,
              "#fb9f3a"
             ],
             [
              0.8888888888888888,
              "#fdca26"
             ],
             [
              1,
              "#f0f921"
             ]
            ],
            "type": "contour"
           }
          ],
          "contourcarpet": [
           {
            "colorbar": {
             "outlinewidth": 0,
             "ticks": ""
            },
            "type": "contourcarpet"
           }
          ],
          "heatmap": [
           {
            "colorbar": {
             "outlinewidth": 0,
             "ticks": ""
            },
            "colorscale": [
             [
              0,
              "#0d0887"
             ],
             [
              0.1111111111111111,
              "#46039f"
             ],
             [
              0.2222222222222222,
              "#7201a8"
             ],
             [
              0.3333333333333333,
              "#9c179e"
             ],
             [
              0.4444444444444444,
              "#bd3786"
             ],
             [
              0.5555555555555556,
              "#d8576b"
             ],
             [
              0.6666666666666666,
              "#ed7953"
             ],
             [
              0.7777777777777778,
              "#fb9f3a"
             ],
             [
              0.8888888888888888,
              "#fdca26"
             ],
             [
              1,
              "#f0f921"
             ]
            ],
            "type": "heatmap"
           }
          ],
          "heatmapgl": [
           {
            "colorbar": {
             "outlinewidth": 0,
             "ticks": ""
            },
            "colorscale": [
             [
              0,
              "#0d0887"
             ],
             [
              0.1111111111111111,
              "#46039f"
             ],
             [
              0.2222222222222222,
              "#7201a8"
             ],
             [
              0.3333333333333333,
              "#9c179e"
             ],
             [
              0.4444444444444444,
              "#bd3786"
             ],
             [
              0.5555555555555556,
              "#d8576b"
             ],
             [
              0.6666666666666666,
              "#ed7953"
             ],
             [
              0.7777777777777778,
              "#fb9f3a"
             ],
             [
              0.8888888888888888,
              "#fdca26"
             ],
             [
              1,
              "#f0f921"
             ]
            ],
            "type": "heatmapgl"
           }
          ],
          "histogram": [
           {
            "marker": {
             "pattern": {
              "fillmode": "overlay",
              "size": 10,
              "solidity": 0.2
             }
            },
            "type": "histogram"
           }
          ],
          "histogram2d": [
           {
            "colorbar": {
             "outlinewidth": 0,
             "ticks": ""
            },
            "colorscale": [
             [
              0,
              "#0d0887"
             ],
             [
              0.1111111111111111,
              "#46039f"
             ],
             [
              0.2222222222222222,
              "#7201a8"
             ],
             [
              0.3333333333333333,
              "#9c179e"
             ],
             [
              0.4444444444444444,
              "#bd3786"
             ],
             [
              0.5555555555555556,
              "#d8576b"
             ],
             [
              0.6666666666666666,
              "#ed7953"
             ],
             [
              0.7777777777777778,
              "#fb9f3a"
             ],
             [
              0.8888888888888888,
              "#fdca26"
             ],
             [
              1,
              "#f0f921"
             ]
            ],
            "type": "histogram2d"
           }
          ],
          "histogram2dcontour": [
           {
            "colorbar": {
             "outlinewidth": 0,
             "ticks": ""
            },
            "colorscale": [
             [
              0,
              "#0d0887"
             ],
             [
              0.1111111111111111,
              "#46039f"
             ],
             [
              0.2222222222222222,
              "#7201a8"
             ],
             [
              0.3333333333333333,
              "#9c179e"
             ],
             [
              0.4444444444444444,
              "#bd3786"
             ],
             [
              0.5555555555555556,
              "#d8576b"
             ],
             [
              0.6666666666666666,
              "#ed7953"
             ],
             [
              0.7777777777777778,
              "#fb9f3a"
             ],
             [
              0.8888888888888888,
              "#fdca26"
             ],
             [
              1,
              "#f0f921"
             ]
            ],
            "type": "histogram2dcontour"
           }
          ],
          "mesh3d": [
           {
            "colorbar": {
             "outlinewidth": 0,
             "ticks": ""
            },
            "type": "mesh3d"
           }
          ],
          "parcoords": [
           {
            "line": {
             "colorbar": {
              "outlinewidth": 0,
              "ticks": ""
             }
            },
            "type": "parcoords"
           }
          ],
          "pie": [
           {
            "automargin": true,
            "type": "pie"
           }
          ],
          "scatter": [
           {
            "fillpattern": {
             "fillmode": "overlay",
             "size": 10,
             "solidity": 0.2
            },
            "type": "scatter"
           }
          ],
          "scatter3d": [
           {
            "line": {
             "colorbar": {
              "outlinewidth": 0,
              "ticks": ""
             }
            },
            "marker": {
             "colorbar": {
              "outlinewidth": 0,
              "ticks": ""
             }
            },
            "type": "scatter3d"
           }
          ],
          "scattercarpet": [
           {
            "marker": {
             "colorbar": {
              "outlinewidth": 0,
              "ticks": ""
             }
            },
            "type": "scattercarpet"
           }
          ],
          "scattergeo": [
           {
            "marker": {
             "colorbar": {
              "outlinewidth": 0,
              "ticks": ""
             }
            },
            "type": "scattergeo"
           }
          ],
          "scattergl": [
           {
            "marker": {
             "colorbar": {
              "outlinewidth": 0,
              "ticks": ""
             }
            },
            "type": "scattergl"
           }
          ],
          "scattermapbox": [
           {
            "marker": {
             "colorbar": {
              "outlinewidth": 0,
              "ticks": ""
             }
            },
            "type": "scattermapbox"
           }
          ],
          "scatterpolar": [
           {
            "marker": {
             "colorbar": {
              "outlinewidth": 0,
              "ticks": ""
             }
            },
            "type": "scatterpolar"
           }
          ],
          "scatterpolargl": [
           {
            "marker": {
             "colorbar": {
              "outlinewidth": 0,
              "ticks": ""
             }
            },
            "type": "scatterpolargl"
           }
          ],
          "scatterternary": [
           {
            "marker": {
             "colorbar": {
              "outlinewidth": 0,
              "ticks": ""
             }
            },
            "type": "scatterternary"
           }
          ],
          "surface": [
           {
            "colorbar": {
             "outlinewidth": 0,
             "ticks": ""
            },
            "colorscale": [
             [
              0,
              "#0d0887"
             ],
             [
              0.1111111111111111,
              "#46039f"
             ],
             [
              0.2222222222222222,
              "#7201a8"
             ],
             [
              0.3333333333333333,
              "#9c179e"
             ],
             [
              0.4444444444444444,
              "#bd3786"
             ],
             [
              0.5555555555555556,
              "#d8576b"
             ],
             [
              0.6666666666666666,
              "#ed7953"
             ],
             [
              0.7777777777777778,
              "#fb9f3a"
             ],
             [
              0.8888888888888888,
              "#fdca26"
             ],
             [
              1,
              "#f0f921"
             ]
            ],
            "type": "surface"
           }
          ],
          "table": [
           {
            "cells": {
             "fill": {
              "color": "#EBF0F8"
             },
             "line": {
              "color": "white"
             }
            },
            "header": {
             "fill": {
              "color": "#C8D4E3"
             },
             "line": {
              "color": "white"
             }
            },
            "type": "table"
           }
          ]
         },
         "layout": {
          "annotationdefaults": {
           "arrowcolor": "#2a3f5f",
           "arrowhead": 0,
           "arrowwidth": 1
          },
          "autotypenumbers": "strict",
          "coloraxis": {
           "colorbar": {
            "outlinewidth": 0,
            "ticks": ""
           }
          },
          "colorscale": {
           "diverging": [
            [
             0,
             "#8e0152"
            ],
            [
             0.1,
             "#c51b7d"
            ],
            [
             0.2,
             "#de77ae"
            ],
            [
             0.3,
             "#f1b6da"
            ],
            [
             0.4,
             "#fde0ef"
            ],
            [
             0.5,
             "#f7f7f7"
            ],
            [
             0.6,
             "#e6f5d0"
            ],
            [
             0.7,
             "#b8e186"
            ],
            [
             0.8,
             "#7fbc41"
            ],
            [
             0.9,
             "#4d9221"
            ],
            [
             1,
             "#276419"
            ]
           ],
           "sequential": [
            [
             0,
             "#0d0887"
            ],
            [
             0.1111111111111111,
             "#46039f"
            ],
            [
             0.2222222222222222,
             "#7201a8"
            ],
            [
             0.3333333333333333,
             "#9c179e"
            ],
            [
             0.4444444444444444,
             "#bd3786"
            ],
            [
             0.5555555555555556,
             "#d8576b"
            ],
            [
             0.6666666666666666,
             "#ed7953"
            ],
            [
             0.7777777777777778,
             "#fb9f3a"
            ],
            [
             0.8888888888888888,
             "#fdca26"
            ],
            [
             1,
             "#f0f921"
            ]
           ],
           "sequentialminus": [
            [
             0,
             "#0d0887"
            ],
            [
             0.1111111111111111,
             "#46039f"
            ],
            [
             0.2222222222222222,
             "#7201a8"
            ],
            [
             0.3333333333333333,
             "#9c179e"
            ],
            [
             0.4444444444444444,
             "#bd3786"
            ],
            [
             0.5555555555555556,
             "#d8576b"
            ],
            [
             0.6666666666666666,
             "#ed7953"
            ],
            [
             0.7777777777777778,
             "#fb9f3a"
            ],
            [
             0.8888888888888888,
             "#fdca26"
            ],
            [
             1,
             "#f0f921"
            ]
           ]
          },
          "colorway": [
           "#636efa",
           "#EF553B",
           "#00cc96",
           "#ab63fa",
           "#FFA15A",
           "#19d3f3",
           "#FF6692",
           "#B6E880",
           "#FF97FF",
           "#FECB52"
          ],
          "font": {
           "color": "#2a3f5f"
          },
          "geo": {
           "bgcolor": "white",
           "lakecolor": "white",
           "landcolor": "#E5ECF6",
           "showlakes": true,
           "showland": true,
           "subunitcolor": "white"
          },
          "hoverlabel": {
           "align": "left"
          },
          "hovermode": "closest",
          "mapbox": {
           "style": "light"
          },
          "paper_bgcolor": "white",
          "plot_bgcolor": "#E5ECF6",
          "polar": {
           "angularaxis": {
            "gridcolor": "white",
            "linecolor": "white",
            "ticks": ""
           },
           "bgcolor": "#E5ECF6",
           "radialaxis": {
            "gridcolor": "white",
            "linecolor": "white",
            "ticks": ""
           }
          },
          "scene": {
           "xaxis": {
            "backgroundcolor": "#E5ECF6",
            "gridcolor": "white",
            "gridwidth": 2,
            "linecolor": "white",
            "showbackground": true,
            "ticks": "",
            "zerolinecolor": "white"
           },
           "yaxis": {
            "backgroundcolor": "#E5ECF6",
            "gridcolor": "white",
            "gridwidth": 2,
            "linecolor": "white",
            "showbackground": true,
            "ticks": "",
            "zerolinecolor": "white"
           },
           "zaxis": {
            "backgroundcolor": "#E5ECF6",
            "gridcolor": "white",
            "gridwidth": 2,
            "linecolor": "white",
            "showbackground": true,
            "ticks": "",
            "zerolinecolor": "white"
           }
          },
          "shapedefaults": {
           "line": {
            "color": "#2a3f5f"
           }
          },
          "ternary": {
           "aaxis": {
            "gridcolor": "white",
            "linecolor": "white",
            "ticks": ""
           },
           "baxis": {
            "gridcolor": "white",
            "linecolor": "white",
            "ticks": ""
           },
           "bgcolor": "#E5ECF6",
           "caxis": {
            "gridcolor": "white",
            "linecolor": "white",
            "ticks": ""
           }
          },
          "title": {
           "x": 0.05
          },
          "xaxis": {
           "automargin": true,
           "gridcolor": "white",
           "linecolor": "white",
           "ticks": "",
           "title": {
            "standoff": 15
           },
           "zerolinecolor": "white",
           "zerolinewidth": 2
          },
          "yaxis": {
           "automargin": true,
           "gridcolor": "white",
           "linecolor": "white",
           "ticks": "",
           "title": {
            "standoff": 15
           },
           "zerolinecolor": "white",
           "zerolinewidth": 2
          }
         }
        },
        "title": {
         "text": "Top 100 Universities by Countries"
        },
        "uniformtext": {
         "minsize": 12,
         "mode": "hide"
        }
       }
      }
     },
     "metadata": {},
     "output_type": "display_data"
    }
   ],
   "source": [
    "top_100_unis = df.sort_values(by='Final_Rank')[:100]\n",
    "\n",
    "fig = px.pie(top_100_unis, names='location', \n",
    "             title='Top 100 Universities by Countries', \n",
    "             hole=0.25)\n",
    "fig.update_traces(textposition='inside', hoverinfo='label+percent', textinfo='value', textfont_size=15)\n",
    "fig.update_layout(uniformtext_minsize=12, uniformtext_mode='hide')\n",
    "\n",
    "fig.show()"
   ]
  },
  {
   "cell_type": "code",
   "execution_count": 26,
   "metadata": {},
   "outputs": [
    {
     "data": {
      "application/vnd.plotly.v1+json": {
       "config": {
        "plotlyServerURL": "https://plot.ly"
       },
       "data": [
        {
         "coloraxis": "coloraxis",
         "geo": "geo",
         "hovertemplate": "<b>%{hovertext}</b><br><br>location=%{location}<br>Final_Rank=%{z}<extra></extra>",
         "hovertext": [
          "University of Oxford",
          "Massachusetts Institute of Technology",
          "Stanford University",
          "Harvard University",
          "University of Cambridge",
          "Princeton University",
          "Imperial College London",
          "University of California, Berkeley",
          "California Institute of Technology",
          "Yale University",
          "The University of Chicago",
          "ETH Zurich",
          "Columbia University",
          "University of Pennsylvania",
          "Johns Hopkins University",
          "Cornell University",
          "Tsinghua University",
          "University of California, Los Angeles",
          "UCL",
          "National University of Singapore",
          "Carnegie Mellon University",
          "University of Michigan-Ann Arbor",
          "University of Washington",
          "University of Toronto",
          "Peking University",
          "Northwestern University",
          "Duke University",
          "University of Edinburgh",
          "New York University",
          "University of California, San Diego",
          "Nanyang Technological University, Singapore",
          "University of Hong Kong",
          "King’s College London",
          "Georgia Institute of Technology",
          "Technical University of Munich",
          "École Polytechnique Fédérale de Lausanne",
          "London School of Economics and Political Science",
          "Chinese University of Hong Kong",
          "LMU Munich",
          "Universität Heidelberg",
          "Karolinska Institute",
          "University of Melbourne",
          "University of British Columbia",
          "University of Amsterdam",
          "Monash University",
          "KU Leuven",
          "University of Manchester",
          "Washington University in St Louis",
          "University of California, Santa Barbara",
          "University of Texas at Austin",
          "Wageningen University & Research",
          "McGill University",
          "The University of Sydney",
          "University of Bristol",
          "University of Illinois at Urbana-Champaign",
          "The Hong Kong University of Science and Technology",
          "University of North Carolina at Chapel Hill",
          "Paris Sciences et Lettres – PSL Research University Paris",
          "University of Science and Technology of China",
          "Boston University",
          "University of Glasgow",
          "Brown University",
          "Fudan University",
          "University of Groningen",
          "University of Southern California",
          "University of California, Davis",
          "Charité - Universitätsmedizin Berlin",
          "Leiden University",
          "Vanderbilt University",
          "The Hong Kong Polytechnic University",
          "Erasmus University Rotterdam",
          "The University of Queensland",
          "University of Zurich",
          "University of Birmingham",
          "University of Wisconsin-Madison",
          "Australian National University",
          "City University of Hong Kong",
          "Emory University",
          "UNSW Sydney",
          "University of California, Irvine",
          "Université Paris-Saclay",
          "University of Southampton",
          "Queen Mary University of London",
          "McMaster University",
          "The University of Tokyo",
          "University of Maryland, College Park",
          "University of Sheffield",
          "Shanghai Jiao Tong University",
          "University of Bonn",
          "Nanjing University",
          "University of Adelaide",
          "University of Bern",
          "Zhejiang University",
          "University of Copenhagen",
          "Delft University of Technology",
          "Vrije Universiteit Amsterdam",
          "University of Minnesota",
          "Sorbonne University",
          "University of Technology Sydney",
          "University of Göttingen",
          "University of Tübingen",
          "University of Oslo",
          "University of Helsinki",
          "Ohio State University (Main campus)",
          "University of Warwick",
          "Lancaster University",
          "University of Exeter",
          "University of Nottingham",
          "University of Pittsburgh-Pittsburgh campus",
          "Radboud University Nijmegen",
          "Lund University",
          "Humboldt University of Berlin",
          "Newcastle University",
          "University of Liverpool",
          "Aarhus University",
          "University of York",
          "University of Massachusetts",
          "University of Basel",
          "Michigan State University",
          "Yonsei University (Seoul campus)",
          "Rice University",
          "University of Antwerp",
          "University of Barcelona",
          "Seoul National University",
          "Université Paris Cité",
          "University of Rochester",
          "University of Leeds",
          "Ghent University",
          "University of Leicester",
          "University of Colorado Boulder",
          "Trinity College Dublin",
          "The University of Western Australia",
          "Free University of Berlin",
          "Huazhong University of Science and Technology",
          "University of Freiburg",
          "Northeastern University, US",
          "University of California, Santa Cruz",
          "Penn State (Main campus)",
          "University of Würzburg",
          "Cardiff University",
          "Stockholm University",
          "University of Auckland",
          "KTH Royal Institute of Technology",
          "University of Lausanne",
          "Case Western Reserve University",
          "Korea Advanced Institute of Science and Technology (KAIST)",
          "University of Virginia (Main campus)",
          "Humanitas University",
          "RWTH Aachen University",
          "Wuhan University",
          "Medical University of Vienna",
          "Maastricht University",
          "Université de Montréal",
          "University of Cape Town",
          "Vita-Salute San Raffaele University",
          "Technical University of Denmark",
          "University of Mannheim",
          "University of Alberta",
          "University of Bologna",
          "University of Macau",
          "Southern University of Science and Technology (SUSTech)",
          "University of Hamburg",
          "University of Arizona",
          "University of Sussex",
          "Arizona State University (Tempe)",
          "Sejong University",
          "Queensland University of Technology",
          "Macquarie University",
          "University of Cologne",
          "Institut Polytechnique de Paris",
          "Dartmouth College",
          "Pompeu Fabra University",
          "University of Gothenburg",
          "Tufts University",
          "University of Geneva",
          "University of Waterloo",
          "Medical University of Graz",
          "Ulm University",
          "Swinburne University of Technology",
          "Queen’s University Belfast",
          "Texas A&M University",
          "Lappeenranta-Lahti University of Technology LUT",
          "University of Vienna",
          "Scuola Normale Superiore di Pisa",
          "Uppsala University",
          "University of Ottawa",
          "Durham University",
          "Deakin University",
          "Purdue University West Lafayette",
          "Université Catholique de Louvain",
          "Georgetown University",
          "University of Florida",
          "King Fahd University of Petroleum and Minerals",
          "George Washington University",
          "University of East Anglia",
          "Indiana University",
          "Autonomous University of Barcelona",
          "Medical University of Innsbruck",
          "King Abdulaziz University",
          "Ulsan National Institute of Science and Technology (UNIST)",
          "University of Münster",
          "Technical University of Berlin",
          "Kyoto University",
          "University of Surrey",
          "University of Utah",
          "Curtin University",
          "University of Reading",
          "China Medical University, Taiwan",
          "Université Libre de Bruxelles",
          "Australian Catholic University",
          "TU Dresden",
          "University of Southern Denmark",
          "Copenhagen Business School",
          "Tel Aviv University",
          "University of Wollongong",
          "St George’s, University of London",
          "University of Sharjah",
          "La Trobe University",
          "Pohang University of Science and Technology (POSTECH)",
          "University of South Florida",
          "University of Newcastle",
          "University of Colorado Denver/Anschutz Medical Campus",
          "University of Padua",
          "Swansea University",
          "University of Miami",
          "University College Dublin",
          "Abu Dhabi University",
          "Linköping University",
          "Università Cattolica del Sacro Cuore",
          "Nankai University",
          "University of California, Riverside",
          "Oregon Health and Science University",
          "Friedrich Schiller University Jena",
          "Chalmers University of Technology",
          "Beijing Normal University",
          "Sun Yat-sen University",
          "Hunan University",
          "Aalborg University",
          "Sapienza University of Rome",
          "University of Erlangen-Nuremberg",
          "Western Sydney University",
          "Sant’Anna School of Advanced Studies – Pisa",
          "University of Calgary",
          "Aalto University",
          "RMIT University",
          "University of Hohenheim",
          "Vrije Universiteit Brussel",
          "Goethe University Frankfurt",
          "University of St Andrews",
          "Sungkyunkwan University (SKKU)",
          "Simon Fraser University",
          "University of Bergen",
          "Karlsruhe Institute of Technology",
          "University of Aberdeen",
          "Boston College",
          "University of Milan-Bicocca",
          "University of Potsdam",
          "Qatar University",
          "University of Tartu",
          "Università della Svizzera italiana",
          "Tilburg University",
          "Brandeis University",
          "University of Illinois Chicago",
          "University of Oulu",
          "University of Southern Queensland",
          "University of Tasmania",
          "University of Notre Dame",
          "University of Milan",
          "University of Dundee",
          "The University of Tennessee-Knoxville",
          "University of Twente",
          "South China University of Technology",
          "University of Iowa",
          "Griffith University",
          "RCSI University of Medicine and Health Sciences",
          "Johannes Gutenberg University of Mainz",
          "University of Vaasa",
          "Stony Brook University",
          "University of Naples Federico II",
          "National Taiwan University (NTU)",
          "Heinrich Heine University Düsseldorf",
          "University of Luxembourg",
          "United Arab Emirates University",
          "Rutgers University – New Brunswick",
          "University of Bath",
          "Virginia Polytechnic Institute and State University",
          "Edith Cowan University",
          "Eindhoven University of Technology",
          "Sichuan University",
          "Babol Noshirvani University of Technology",
          "Harbin Institute of Technology",
          "Xiamen University",
          "University of South Australia",
          "Temple University",
          "University of Navarra",
          "University of Pavia",
          "Western University",
          "Free University of Bozen-Bolzano",
          "University of Turku",
          "University of Texas at Dallas",
          "University of Hawai’i at Mānoa",
          "Shenzhen University",
          "Florida State University",
          "Khalifa University",
          "University of Essex",
          "Zayed University",
          "University College Cork",
          "University of Kiel",
          "Macau University of Science and Technology",
          "Tongji University",
          "Korea University",
          "Tampere University",
          "Bournemouth University",
          "University of Brescia",
          "Loughborough University",
          "Drexel University",
          "University of California, Merced",
          "Politecnico di Milano",
          "King Saud University",
          "University of Canberra",
          "Universiti Teknologi Petronas",
          "University of Electronic Science and Technology of China",
          "University of St Gallen",
          "Semmelweis University",
          "Beijing Institute of Technology",
          "Flinders University",
          "Sharif University of Technology",
          "North Carolina State University",
          "Dalhousie University",
          "Prince Sultan University (PSU)",
          "Tianjin University",
          "Murdoch University",
          "Verona University",
          "Royal Holloway, University of London",
          "University of Victoria",
          "University of Trento",
          "George Mason University",
          "Swedish University of Agricultural Sciences",
          "Aston University",
          "Birkbeck, University of London",
          "University of Turin",
          "Stellenbosch University",
          "Université Laval",
          "East China Normal University",
          "University at Buffalo",
          "Auckland University of Technology",
          "University of Florence",
          "Virginia Commonwealth University",
          "Hong Kong Baptist University",
          "Brunel University London",
          "University of Stirling",
          "Leuphana University of Lüneburg",
          "Quaid-i-Azam University",
          "University of Konstanz",
          "University of Otago",
          "Ruhr University Bochum",
          "City, University of London",
          "James Cook University",
          "Bond University",
          "University of Portsmouth",
          "University of Galway",
          "Shoolini University of Biotechnology and Management Sciences",
          "Ton Duc Thang University",
          "Umeå University",
          "York University",
          "University of Pisa",
          "Wake Forest University",
          "University of Malaya",
          "Northwestern Polytechnical University",
          "Xi’an Jiaotong University",
          "Montpellier University",
          "Norwegian University of Science and Technology",
          "Anglia Ruskin University (ARU)",
          "University of Rome II – Tor Vergata",
          "Autonomous University of Madrid",
          "COMSATS University Islamabad",
          "Queen’s University",
          "University of the Witwatersrand",
          "University of Jyväskylä",
          "University of Kent",
          "University of Oregon",
          "Kyung Hee University",
          "Washington State University",
          "Saint Louis University",
          "Southern Medical University",
          "University of Genoa",
          "Nottingham Trent University",
          "Amirkabir University of Technology",
          "Chongqing University",
          "Asia University, Taiwan",
          "University of Liège",
          "University of Manitoba",
          "Dublin City University",
          "University of Catania",
          "University of Modena and Reggio Emilia",
          "Taif University",
          "University of Plymouth",
          "Tohoku University",
          "University of Connecticut",
          "Justus Liebig University Giessen",
          "Middlesex University",
          "University of Lincoln",
          "University of Strathclyde",
          "Aix-Marseille University",
          "Iran University of Science and Technology",
          "University of Greenwich",
          "Southeast University",
          "University of Kansas",
          "University of Waikato",
          "University of Messina",
          "Duy Tan University",
          "University of Innsbruck",
          "Maynooth University",
          "University of the West of England",
          "Soochow University, China",
          "Beihang University",
          "Royal Veterinary College",
          "Universiti Brunei Darussalam",
          "University of Bordeaux",
          "University of South Carolina-Columbia",
          "University of Tabriz",
          "University of Greifswald",
          "Colorado State University, Fort Collins",
          "Hebrew University of Jerusalem",
          "University of Bremen",
          "Shiraz University of Technology",
          "Campus Bio-Medico University of Rome",
          "Tulane University",
          "University of Kentucky",
          "Government College University Faisalabad",
          "University of Delaware",
          "University of Nebraska Medical Center",
          "University of Central Florida",
          "Goldsmiths, University of London",
          "Thapar Institute of Engineering and Technology",
          "University of São Paulo",
          "University of Stuttgart",
          "Rush University",
          "Charles Darwin University",
          "Hasselt University",
          "Université Grenoble Alpes",
          "Syracuse University",
          "Stevens Institute of Technology",
          "Qingdao University",
          "University of Georgia",
          "National and Kapodistrian University of Athens",
          "University of Hull",
          "Florida International University",
          "Sabancı University",
          "Polytechnic University of Turin",
          "University of Nebraska-Lincoln",
          "Victoria University",
          "University of Insubria",
          "University of Cyprus",
          "University of Salerno",
          "University of Valencia",
          "Koç University",
          "Technical University of Darmstadt",
          "Air University",
          "University of Porto",
          "Liverpool John Moores University",
          "Iowa State University",
          "Edinburgh Napier University",
          "Prince Sattam Bin Abdulaziz University",
          "The University of Texas at San Antonio",
          "Brighton and Sussex Medical School",
          "Zhengzhou University",
          "Northumbria University",
          "Bangor University",
          "Polytechnic University of Bari",
          "University of Nicosia",
          "Georgia State University",
          "University of Siena",
          "Manchester Metropolitan University",
          "University of Trieste",
          "Cankaya University",
          "Illinois Institute of Technology",
          "Jamia Millia Islamia",
          "SRUC (Scotland’s Rural College)",
          "Peter the Great St Petersburg Polytechnic University",
          "Universiti Utara Malaysia",
          "University of Lisbon",
          "Moscow Institute of Physics and Technology (MIPT)",
          "Örebro University",
          "Central Queensland University",
          "University of Bayreuth",
          "Missouri University of Science and Technology",
          "University of Tehran",
          "Jönköping University",
          "University of Bradford",
          "Victoria University of Wellington",
          "University of Ferrara",
          "Daegu Gyeongbuk Institute of Science and Technology (DGIST)",
          "Lebanese American University",
          "University of Marburg",
          "Technion Israel Institute of Technology",
          "University of Engineering and Technology, Taxila",
          "Nanjing Forestry University",
          "University of Klagenfurt",
          "University of Crete"
         ],
         "locationmode": "country names",
         "locations": [
          "United Kingdom",
          "United States",
          "United States",
          "United States",
          "United Kingdom",
          "United States",
          "United Kingdom",
          "United States",
          "United States",
          "United States",
          "United States",
          "Switzerland",
          "United States",
          "United States",
          "United States",
          "United States",
          "China",
          "United States",
          "United Kingdom",
          "Singapore",
          "United States",
          "United States",
          "United States",
          "Canada",
          "China",
          "United States",
          "United States",
          "United Kingdom",
          "United States",
          "United States",
          "Singapore",
          "Hong Kong",
          "United Kingdom",
          "United States",
          "Germany",
          "Switzerland",
          "United Kingdom",
          "Hong Kong",
          "Germany",
          "Germany",
          "Sweden",
          "Australia",
          "Canada",
          "Netherlands",
          "Australia",
          "Belgium",
          "United Kingdom",
          "United States",
          "United States",
          "United States",
          "Netherlands",
          "Canada",
          "Australia",
          "United Kingdom",
          "United States",
          "Hong Kong",
          "United States",
          "France",
          "China",
          "United States",
          "United Kingdom",
          "United States",
          "China",
          "Netherlands",
          "United States",
          "United States",
          "Germany",
          "Netherlands",
          "United States",
          "Hong Kong",
          "Netherlands",
          "Australia",
          "Switzerland",
          "United Kingdom",
          "United States",
          "Australia",
          "Hong Kong",
          "United States",
          "Australia",
          "United States",
          "France",
          "United Kingdom",
          "United Kingdom",
          "Canada",
          "Japan",
          "United States",
          "United Kingdom",
          "China",
          "Germany",
          "China",
          "Australia",
          "Switzerland",
          "China",
          "Denmark",
          "Netherlands",
          "Netherlands",
          "United States",
          "France",
          "Australia",
          "Germany",
          "Germany",
          "Norway",
          "Finland",
          "United States",
          "United Kingdom",
          "United Kingdom",
          "United Kingdom",
          "United Kingdom",
          "United States",
          "Netherlands",
          "Sweden",
          "Germany",
          "United Kingdom",
          "United Kingdom",
          "Denmark",
          "United Kingdom",
          "United States",
          "Switzerland",
          "United States",
          "South Korea",
          "United States",
          "Belgium",
          "Spain",
          "South Korea",
          "France",
          "United States",
          "United Kingdom",
          "Belgium",
          "United Kingdom",
          "United States",
          "Ireland",
          "Australia",
          "Germany",
          "China",
          "Germany",
          "United States",
          "United States",
          "United States",
          "Germany",
          "United Kingdom",
          "Sweden",
          "New Zealand",
          "Sweden",
          "Switzerland",
          "United States",
          "South Korea",
          "United States",
          "Italy",
          "Germany",
          "China",
          "Austria",
          "Netherlands",
          "Canada",
          "South Africa",
          "Italy",
          "Denmark",
          "Germany",
          "Canada",
          "Italy",
          "Macao",
          "China",
          "Germany",
          "United States",
          "United Kingdom",
          "United States",
          "South Korea",
          "Australia",
          "Australia",
          "Germany",
          "France",
          "United States",
          "Spain",
          "Sweden",
          "United States",
          "Switzerland",
          "Canada",
          "Austria",
          "Germany",
          "Australia",
          "United Kingdom",
          "United States",
          "Finland",
          "Austria",
          "Italy",
          "Sweden",
          "Canada",
          "United Kingdom",
          "Australia",
          "United States",
          "Belgium",
          "United States",
          "United States",
          "Saudi Arabia",
          "United States",
          "United Kingdom",
          "United States",
          "Spain",
          "Austria",
          "Saudi Arabia",
          "South Korea",
          "Germany",
          "Germany",
          "Japan",
          "United Kingdom",
          "United States",
          "Australia",
          "United Kingdom",
          "Taiwan",
          "Belgium",
          "Australia",
          "Germany",
          "Denmark",
          "Denmark",
          "Israel",
          "Australia",
          "United Kingdom",
          "United Arab Emirates",
          "Australia",
          "South Korea",
          "United States",
          "Australia",
          "United States",
          "Italy",
          "United Kingdom",
          "United States",
          "Ireland",
          "United Arab Emirates",
          "Sweden",
          "Italy",
          "China",
          "United States",
          "United States",
          "Germany",
          "Sweden",
          "China",
          "China",
          "China",
          "Denmark",
          "Italy",
          "Germany",
          "Australia",
          "Italy",
          "Canada",
          "Finland",
          "Australia",
          "Germany",
          "Belgium",
          "Germany",
          "United Kingdom",
          "South Korea",
          "Canada",
          "Norway",
          "Germany",
          "United Kingdom",
          "United States",
          "Italy",
          "Germany",
          "Qatar",
          "Estonia",
          "Switzerland",
          "Netherlands",
          "United States",
          "United States",
          "Finland",
          "Australia",
          "Australia",
          "United States",
          "Italy",
          "United Kingdom",
          "United States",
          "Netherlands",
          "China",
          "United States",
          "Australia",
          "Ireland",
          "Germany",
          "Finland",
          "United States",
          "Italy",
          "Taiwan",
          "Germany",
          "Luxembourg",
          "United Arab Emirates",
          "United States",
          "United Kingdom",
          "United States",
          "Australia",
          "Netherlands",
          "China",
          "Iran",
          "China",
          "China",
          "Australia",
          "United States",
          "Spain",
          "Italy",
          "Canada",
          "Italy",
          "Finland",
          "United States",
          "United States",
          "China",
          "United States",
          "United Arab Emirates",
          "United Kingdom",
          "United Arab Emirates",
          "Ireland",
          "Germany",
          "Macao",
          "China",
          "South Korea",
          "Finland",
          "United Kingdom",
          "Italy",
          "United Kingdom",
          "United States",
          "United States",
          "Italy",
          "Saudi Arabia",
          "Australia",
          "Malaysia",
          "China",
          "Switzerland",
          "Hungary",
          "China",
          "Australia",
          "Iran",
          "United States",
          "Canada",
          "Saudi Arabia",
          "China",
          "Australia",
          "Italy",
          "United Kingdom",
          "Canada",
          "Italy",
          "United States",
          "Sweden",
          "United Kingdom",
          "United Kingdom",
          "Italy",
          "South Africa",
          "Canada",
          "China",
          "United States",
          "New Zealand",
          "Italy",
          "United States",
          "Hong Kong",
          "United Kingdom",
          "United Kingdom",
          "Germany",
          "Pakistan",
          "Germany",
          "New Zealand",
          "Germany",
          "United Kingdom",
          "Australia",
          "Australia",
          "United Kingdom",
          "Ireland",
          "India",
          "Vietnam",
          "Sweden",
          "Canada",
          "Italy",
          "United States",
          "Malaysia",
          "China",
          "China",
          "France",
          "Norway",
          "United Kingdom",
          "Italy",
          "Spain",
          "Pakistan",
          "Canada",
          "South Africa",
          "Finland",
          "United Kingdom",
          "United States",
          "South Korea",
          "United States",
          "United States",
          "China",
          "Italy",
          "United Kingdom",
          "Iran",
          "China",
          "Taiwan",
          "Belgium",
          "Canada",
          "Ireland",
          "Italy",
          "Italy",
          "Saudi Arabia",
          "United Kingdom",
          "Japan",
          "United States",
          "Germany",
          "United Kingdom",
          "United Kingdom",
          "United Kingdom",
          "France",
          "Iran",
          "United Kingdom",
          "China",
          "United States",
          "New Zealand",
          "Italy",
          "Vietnam",
          "Austria",
          "Ireland",
          "United Kingdom",
          "China",
          "China",
          "United Kingdom",
          "Brunei Darussalam",
          "France",
          "United States",
          "Iran",
          "Germany",
          "United States",
          "Israel",
          "Germany",
          "Iran",
          "Italy",
          "United States",
          "United States",
          "Pakistan",
          "United States",
          "United States",
          "United States",
          "United Kingdom",
          "India",
          "Brazil",
          "Germany",
          "United States",
          "Australia",
          "Belgium",
          "France",
          "United States",
          "United States",
          "China",
          "United States",
          "Greece",
          "United Kingdom",
          "United States",
          "Turkey",
          "Italy",
          "United States",
          "Australia",
          "Italy",
          "Cyprus",
          "Italy",
          "Spain",
          "Turkey",
          "Germany",
          "Pakistan",
          "Portugal",
          "United Kingdom",
          "United States",
          "United Kingdom",
          "Saudi Arabia",
          "United States",
          "United Kingdom",
          "China",
          "United Kingdom",
          "United Kingdom",
          "Italy",
          "Cyprus",
          "United States",
          "Italy",
          "United Kingdom",
          "Italy",
          "Turkey",
          "United States",
          "India",
          "United Kingdom",
          "Russian Federation",
          "Malaysia",
          "Portugal",
          "Russian Federation",
          "Sweden",
          "Australia",
          "Germany",
          "United States",
          "Iran",
          "Sweden",
          "United Kingdom",
          "New Zealand",
          "Italy",
          "South Korea",
          "Lebanon",
          "Germany",
          "Israel",
          "Pakistan",
          "China",
          "Austria",
          "Greece"
         ],
         "name": "",
         "type": "choropleth",
         "z": [
          1,
          2,
          3,
          4,
          5,
          6,
          7,
          8,
          9,
          10,
          11,
          12,
          13,
          14,
          15,
          16,
          17,
          18,
          19,
          20,
          21,
          22,
          23,
          24,
          25,
          26,
          27,
          28,
          29,
          30,
          31,
          32,
          33,
          34,
          35,
          36,
          37,
          38,
          39,
          40,
          41,
          42,
          43,
          44,
          45,
          46,
          47,
          48,
          49,
          50,
          51,
          52,
          53,
          54,
          55,
          56,
          57,
          58,
          59,
          60,
          61,
          62,
          63,
          64,
          65,
          66,
          67,
          68,
          69,
          70,
          71,
          72,
          73,
          74,
          75,
          76,
          77,
          78,
          79,
          80,
          81,
          82,
          83,
          84,
          85,
          86,
          87,
          88,
          89,
          90,
          91,
          92,
          93,
          94,
          95,
          96,
          97,
          98,
          99,
          100,
          101,
          102,
          103,
          104,
          105,
          106,
          107,
          108,
          109,
          110,
          111,
          112,
          113,
          114,
          115,
          116,
          117,
          118,
          119,
          120,
          121,
          122,
          123,
          124,
          125,
          126,
          127,
          128,
          129,
          130,
          131,
          132,
          133,
          134,
          135,
          136,
          137,
          138,
          139,
          140,
          141,
          142,
          143,
          144,
          145,
          146,
          147,
          148,
          149,
          150,
          151,
          152,
          153,
          154,
          155,
          156,
          157,
          158,
          159,
          160,
          161,
          162,
          163,
          164,
          165,
          166,
          167,
          168,
          169,
          170,
          171,
          172,
          173,
          174,
          175,
          176,
          177,
          178,
          179,
          180,
          181,
          182,
          183,
          184,
          185,
          186,
          187,
          188,
          189,
          190,
          191,
          192,
          193,
          194,
          195,
          196,
          197,
          198,
          199,
          200,
          201,
          202,
          203,
          204,
          205,
          206,
          207,
          208,
          209,
          210,
          211,
          212,
          213,
          214,
          215,
          216,
          217,
          218,
          219,
          220,
          221,
          222,
          223,
          224,
          225,
          226,
          227,
          228,
          229,
          230,
          231,
          232,
          233,
          234,
          235,
          236,
          237,
          238,
          239,
          240,
          241,
          242,
          243,
          244,
          245,
          246,
          247,
          248,
          249,
          250,
          251,
          252,
          253,
          254,
          255,
          256,
          257,
          258,
          259,
          260,
          261,
          262,
          263,
          264,
          265,
          266,
          267,
          268,
          269,
          270,
          271,
          272,
          273,
          274,
          275,
          276,
          277,
          278,
          279,
          280,
          281,
          282,
          283,
          284,
          285,
          286,
          287,
          288,
          289,
          290,
          291,
          292,
          293,
          294,
          295,
          296,
          297,
          298,
          299,
          300,
          301,
          302,
          303,
          304,
          305,
          306,
          307,
          308,
          309,
          310,
          311,
          312,
          313,
          314,
          315,
          316,
          317,
          318,
          319,
          320,
          321,
          322,
          323,
          324,
          325,
          326,
          327,
          328,
          329,
          330,
          331,
          332,
          333,
          334,
          335,
          336,
          337,
          338,
          339,
          340,
          341,
          342,
          343,
          344,
          345,
          346,
          347,
          348,
          349,
          350,
          351,
          352,
          353,
          354,
          355,
          356,
          357,
          358,
          359,
          360,
          361,
          362,
          363,
          364,
          365,
          366,
          367,
          368,
          369,
          370,
          371,
          372,
          373,
          374,
          375,
          376,
          377,
          378,
          379,
          380,
          381,
          382,
          383,
          384,
          385,
          386,
          387,
          388,
          389,
          390,
          391,
          392,
          393,
          394,
          395,
          396,
          397,
          398,
          399,
          400,
          401,
          402,
          403,
          404,
          405,
          406,
          407,
          408,
          409,
          410,
          411,
          412,
          413,
          414,
          415,
          416,
          417,
          418,
          419,
          420,
          421,
          422,
          423,
          424,
          425,
          426,
          427,
          428,
          429,
          430,
          431,
          432,
          433,
          434,
          435,
          436,
          437,
          438,
          439,
          440,
          441,
          442,
          443,
          444,
          445,
          446,
          447,
          448,
          449,
          450,
          451,
          452,
          453,
          454,
          455,
          456,
          457,
          458,
          459,
          460,
          461,
          462,
          463,
          464,
          465,
          466,
          467,
          468,
          469,
          470,
          471,
          472,
          473,
          474,
          475,
          476,
          477,
          478,
          479,
          480,
          481,
          482,
          483,
          484,
          485,
          486,
          487,
          488,
          489,
          490,
          491,
          492,
          493,
          494,
          495,
          496,
          497,
          498,
          499,
          500
         ]
        }
       ],
       "layout": {
        "coloraxis": {
         "colorbar": {
          "title": {
           "text": "Final_Rank"
          }
         },
         "colorscale": [
          [
           0,
           "#0d0887"
          ],
          [
           0.1111111111111111,
           "#46039f"
          ],
          [
           0.2222222222222222,
           "#7201a8"
          ],
          [
           0.3333333333333333,
           "#9c179e"
          ],
          [
           0.4444444444444444,
           "#bd3786"
          ],
          [
           0.5555555555555556,
           "#d8576b"
          ],
          [
           0.6666666666666666,
           "#ed7953"
          ],
          [
           0.7777777777777778,
           "#fb9f3a"
          ],
          [
           0.8888888888888888,
           "#fdca26"
          ],
          [
           1,
           "#f0f921"
          ]
         ]
        },
        "geo": {
         "center": {},
         "domain": {
          "x": [
           0,
           1
          ],
          "y": [
           0,
           1
          ]
         }
        },
        "legend": {
         "tracegroupgap": 0
        },
        "template": {
         "data": {
          "bar": [
           {
            "error_x": {
             "color": "#2a3f5f"
            },
            "error_y": {
             "color": "#2a3f5f"
            },
            "marker": {
             "line": {
              "color": "#E5ECF6",
              "width": 0.5
             },
             "pattern": {
              "fillmode": "overlay",
              "size": 10,
              "solidity": 0.2
             }
            },
            "type": "bar"
           }
          ],
          "barpolar": [
           {
            "marker": {
             "line": {
              "color": "#E5ECF6",
              "width": 0.5
             },
             "pattern": {
              "fillmode": "overlay",
              "size": 10,
              "solidity": 0.2
             }
            },
            "type": "barpolar"
           }
          ],
          "carpet": [
           {
            "aaxis": {
             "endlinecolor": "#2a3f5f",
             "gridcolor": "white",
             "linecolor": "white",
             "minorgridcolor": "white",
             "startlinecolor": "#2a3f5f"
            },
            "baxis": {
             "endlinecolor": "#2a3f5f",
             "gridcolor": "white",
             "linecolor": "white",
             "minorgridcolor": "white",
             "startlinecolor": "#2a3f5f"
            },
            "type": "carpet"
           }
          ],
          "choropleth": [
           {
            "colorbar": {
             "outlinewidth": 0,
             "ticks": ""
            },
            "type": "choropleth"
           }
          ],
          "contour": [
           {
            "colorbar": {
             "outlinewidth": 0,
             "ticks": ""
            },
            "colorscale": [
             [
              0,
              "#0d0887"
             ],
             [
              0.1111111111111111,
              "#46039f"
             ],
             [
              0.2222222222222222,
              "#7201a8"
             ],
             [
              0.3333333333333333,
              "#9c179e"
             ],
             [
              0.4444444444444444,
              "#bd3786"
             ],
             [
              0.5555555555555556,
              "#d8576b"
             ],
             [
              0.6666666666666666,
              "#ed7953"
             ],
             [
              0.7777777777777778,
              "#fb9f3a"
             ],
             [
              0.8888888888888888,
              "#fdca26"
             ],
             [
              1,
              "#f0f921"
             ]
            ],
            "type": "contour"
           }
          ],
          "contourcarpet": [
           {
            "colorbar": {
             "outlinewidth": 0,
             "ticks": ""
            },
            "type": "contourcarpet"
           }
          ],
          "heatmap": [
           {
            "colorbar": {
             "outlinewidth": 0,
             "ticks": ""
            },
            "colorscale": [
             [
              0,
              "#0d0887"
             ],
             [
              0.1111111111111111,
              "#46039f"
             ],
             [
              0.2222222222222222,
              "#7201a8"
             ],
             [
              0.3333333333333333,
              "#9c179e"
             ],
             [
              0.4444444444444444,
              "#bd3786"
             ],
             [
              0.5555555555555556,
              "#d8576b"
             ],
             [
              0.6666666666666666,
              "#ed7953"
             ],
             [
              0.7777777777777778,
              "#fb9f3a"
             ],
             [
              0.8888888888888888,
              "#fdca26"
             ],
             [
              1,
              "#f0f921"
             ]
            ],
            "type": "heatmap"
           }
          ],
          "heatmapgl": [
           {
            "colorbar": {
             "outlinewidth": 0,
             "ticks": ""
            },
            "colorscale": [
             [
              0,
              "#0d0887"
             ],
             [
              0.1111111111111111,
              "#46039f"
             ],
             [
              0.2222222222222222,
              "#7201a8"
             ],
             [
              0.3333333333333333,
              "#9c179e"
             ],
             [
              0.4444444444444444,
              "#bd3786"
             ],
             [
              0.5555555555555556,
              "#d8576b"
             ],
             [
              0.6666666666666666,
              "#ed7953"
             ],
             [
              0.7777777777777778,
              "#fb9f3a"
             ],
             [
              0.8888888888888888,
              "#fdca26"
             ],
             [
              1,
              "#f0f921"
             ]
            ],
            "type": "heatmapgl"
           }
          ],
          "histogram": [
           {
            "marker": {
             "pattern": {
              "fillmode": "overlay",
              "size": 10,
              "solidity": 0.2
             }
            },
            "type": "histogram"
           }
          ],
          "histogram2d": [
           {
            "colorbar": {
             "outlinewidth": 0,
             "ticks": ""
            },
            "colorscale": [
             [
              0,
              "#0d0887"
             ],
             [
              0.1111111111111111,
              "#46039f"
             ],
             [
              0.2222222222222222,
              "#7201a8"
             ],
             [
              0.3333333333333333,
              "#9c179e"
             ],
             [
              0.4444444444444444,
              "#bd3786"
             ],
             [
              0.5555555555555556,
              "#d8576b"
             ],
             [
              0.6666666666666666,
              "#ed7953"
             ],
             [
              0.7777777777777778,
              "#fb9f3a"
             ],
             [
              0.8888888888888888,
              "#fdca26"
             ],
             [
              1,
              "#f0f921"
             ]
            ],
            "type": "histogram2d"
           }
          ],
          "histogram2dcontour": [
           {
            "colorbar": {
             "outlinewidth": 0,
             "ticks": ""
            },
            "colorscale": [
             [
              0,
              "#0d0887"
             ],
             [
              0.1111111111111111,
              "#46039f"
             ],
             [
              0.2222222222222222,
              "#7201a8"
             ],
             [
              0.3333333333333333,
              "#9c179e"
             ],
             [
              0.4444444444444444,
              "#bd3786"
             ],
             [
              0.5555555555555556,
              "#d8576b"
             ],
             [
              0.6666666666666666,
              "#ed7953"
             ],
             [
              0.7777777777777778,
              "#fb9f3a"
             ],
             [
              0.8888888888888888,
              "#fdca26"
             ],
             [
              1,
              "#f0f921"
             ]
            ],
            "type": "histogram2dcontour"
           }
          ],
          "mesh3d": [
           {
            "colorbar": {
             "outlinewidth": 0,
             "ticks": ""
            },
            "type": "mesh3d"
           }
          ],
          "parcoords": [
           {
            "line": {
             "colorbar": {
              "outlinewidth": 0,
              "ticks": ""
             }
            },
            "type": "parcoords"
           }
          ],
          "pie": [
           {
            "automargin": true,
            "type": "pie"
           }
          ],
          "scatter": [
           {
            "fillpattern": {
             "fillmode": "overlay",
             "size": 10,
             "solidity": 0.2
            },
            "type": "scatter"
           }
          ],
          "scatter3d": [
           {
            "line": {
             "colorbar": {
              "outlinewidth": 0,
              "ticks": ""
             }
            },
            "marker": {
             "colorbar": {
              "outlinewidth": 0,
              "ticks": ""
             }
            },
            "type": "scatter3d"
           }
          ],
          "scattercarpet": [
           {
            "marker": {
             "colorbar": {
              "outlinewidth": 0,
              "ticks": ""
             }
            },
            "type": "scattercarpet"
           }
          ],
          "scattergeo": [
           {
            "marker": {
             "colorbar": {
              "outlinewidth": 0,
              "ticks": ""
             }
            },
            "type": "scattergeo"
           }
          ],
          "scattergl": [
           {
            "marker": {
             "colorbar": {
              "outlinewidth": 0,
              "ticks": ""
             }
            },
            "type": "scattergl"
           }
          ],
          "scattermapbox": [
           {
            "marker": {
             "colorbar": {
              "outlinewidth": 0,
              "ticks": ""
             }
            },
            "type": "scattermapbox"
           }
          ],
          "scatterpolar": [
           {
            "marker": {
             "colorbar": {
              "outlinewidth": 0,
              "ticks": ""
             }
            },
            "type": "scatterpolar"
           }
          ],
          "scatterpolargl": [
           {
            "marker": {
             "colorbar": {
              "outlinewidth": 0,
              "ticks": ""
             }
            },
            "type": "scatterpolargl"
           }
          ],
          "scatterternary": [
           {
            "marker": {
             "colorbar": {
              "outlinewidth": 0,
              "ticks": ""
             }
            },
            "type": "scatterternary"
           }
          ],
          "surface": [
           {
            "colorbar": {
             "outlinewidth": 0,
             "ticks": ""
            },
            "colorscale": [
             [
              0,
              "#0d0887"
             ],
             [
              0.1111111111111111,
              "#46039f"
             ],
             [
              0.2222222222222222,
              "#7201a8"
             ],
             [
              0.3333333333333333,
              "#9c179e"
             ],
             [
              0.4444444444444444,
              "#bd3786"
             ],
             [
              0.5555555555555556,
              "#d8576b"
             ],
             [
              0.6666666666666666,
              "#ed7953"
             ],
             [
              0.7777777777777778,
              "#fb9f3a"
             ],
             [
              0.8888888888888888,
              "#fdca26"
             ],
             [
              1,
              "#f0f921"
             ]
            ],
            "type": "surface"
           }
          ],
          "table": [
           {
            "cells": {
             "fill": {
              "color": "#EBF0F8"
             },
             "line": {
              "color": "white"
             }
            },
            "header": {
             "fill": {
              "color": "#C8D4E3"
             },
             "line": {
              "color": "white"
             }
            },
            "type": "table"
           }
          ]
         },
         "layout": {
          "annotationdefaults": {
           "arrowcolor": "#2a3f5f",
           "arrowhead": 0,
           "arrowwidth": 1
          },
          "autotypenumbers": "strict",
          "coloraxis": {
           "colorbar": {
            "outlinewidth": 0,
            "ticks": ""
           }
          },
          "colorscale": {
           "diverging": [
            [
             0,
             "#8e0152"
            ],
            [
             0.1,
             "#c51b7d"
            ],
            [
             0.2,
             "#de77ae"
            ],
            [
             0.3,
             "#f1b6da"
            ],
            [
             0.4,
             "#fde0ef"
            ],
            [
             0.5,
             "#f7f7f7"
            ],
            [
             0.6,
             "#e6f5d0"
            ],
            [
             0.7,
             "#b8e186"
            ],
            [
             0.8,
             "#7fbc41"
            ],
            [
             0.9,
             "#4d9221"
            ],
            [
             1,
             "#276419"
            ]
           ],
           "sequential": [
            [
             0,
             "#0d0887"
            ],
            [
             0.1111111111111111,
             "#46039f"
            ],
            [
             0.2222222222222222,
             "#7201a8"
            ],
            [
             0.3333333333333333,
             "#9c179e"
            ],
            [
             0.4444444444444444,
             "#bd3786"
            ],
            [
             0.5555555555555556,
             "#d8576b"
            ],
            [
             0.6666666666666666,
             "#ed7953"
            ],
            [
             0.7777777777777778,
             "#fb9f3a"
            ],
            [
             0.8888888888888888,
             "#fdca26"
            ],
            [
             1,
             "#f0f921"
            ]
           ],
           "sequentialminus": [
            [
             0,
             "#0d0887"
            ],
            [
             0.1111111111111111,
             "#46039f"
            ],
            [
             0.2222222222222222,
             "#7201a8"
            ],
            [
             0.3333333333333333,
             "#9c179e"
            ],
            [
             0.4444444444444444,
             "#bd3786"
            ],
            [
             0.5555555555555556,
             "#d8576b"
            ],
            [
             0.6666666666666666,
             "#ed7953"
            ],
            [
             0.7777777777777778,
             "#fb9f3a"
            ],
            [
             0.8888888888888888,
             "#fdca26"
            ],
            [
             1,
             "#f0f921"
            ]
           ]
          },
          "colorway": [
           "#636efa",
           "#EF553B",
           "#00cc96",
           "#ab63fa",
           "#FFA15A",
           "#19d3f3",
           "#FF6692",
           "#B6E880",
           "#FF97FF",
           "#FECB52"
          ],
          "font": {
           "color": "#2a3f5f"
          },
          "geo": {
           "bgcolor": "white",
           "lakecolor": "white",
           "landcolor": "#E5ECF6",
           "showlakes": true,
           "showland": true,
           "subunitcolor": "white"
          },
          "hoverlabel": {
           "align": "left"
          },
          "hovermode": "closest",
          "mapbox": {
           "style": "light"
          },
          "paper_bgcolor": "white",
          "plot_bgcolor": "#E5ECF6",
          "polar": {
           "angularaxis": {
            "gridcolor": "white",
            "linecolor": "white",
            "ticks": ""
           },
           "bgcolor": "#E5ECF6",
           "radialaxis": {
            "gridcolor": "white",
            "linecolor": "white",
            "ticks": ""
           }
          },
          "scene": {
           "xaxis": {
            "backgroundcolor": "#E5ECF6",
            "gridcolor": "white",
            "gridwidth": 2,
            "linecolor": "white",
            "showbackground": true,
            "ticks": "",
            "zerolinecolor": "white"
           },
           "yaxis": {
            "backgroundcolor": "#E5ECF6",
            "gridcolor": "white",
            "gridwidth": 2,
            "linecolor": "white",
            "showbackground": true,
            "ticks": "",
            "zerolinecolor": "white"
           },
           "zaxis": {
            "backgroundcolor": "#E5ECF6",
            "gridcolor": "white",
            "gridwidth": 2,
            "linecolor": "white",
            "showbackground": true,
            "ticks": "",
            "zerolinecolor": "white"
           }
          },
          "shapedefaults": {
           "line": {
            "color": "#2a3f5f"
           }
          },
          "ternary": {
           "aaxis": {
            "gridcolor": "white",
            "linecolor": "white",
            "ticks": ""
           },
           "baxis": {
            "gridcolor": "white",
            "linecolor": "white",
            "ticks": ""
           },
           "bgcolor": "#E5ECF6",
           "caxis": {
            "gridcolor": "white",
            "linecolor": "white",
            "ticks": ""
           }
          },
          "title": {
           "x": 0.05
          },
          "xaxis": {
           "automargin": true,
           "gridcolor": "white",
           "linecolor": "white",
           "ticks": "",
           "title": {
            "standoff": 15
           },
           "zerolinecolor": "white",
           "zerolinewidth": 2
          },
          "yaxis": {
           "automargin": true,
           "gridcolor": "white",
           "linecolor": "white",
           "ticks": "",
           "title": {
            "standoff": 15
           },
           "zerolinecolor": "white",
           "zerolinewidth": 2
          }
         }
        },
        "title": {
         "text": "Global Distribution of University Scores"
        }
       }
      }
     },
     "metadata": {},
     "output_type": "display_data"
    }
   ],
   "source": [
    "top_500_unis = df.sort_values(by='Final_Rank')[:500]\n",
    "top_500_unis\n",
    "fig = px.choropleth(top_500_unis,locations='location',locationmode='country names',color='Final_Rank', hover_name='name',title='Global Distribution of University Scores')\n",
    "fig.show()"
   ]
  },
  {
   "cell_type": "code",
   "execution_count": 27,
   "metadata": {},
   "outputs": [
    {
     "data": {
      "application/vnd.plotly.v1+json": {
       "config": {
        "plotlyServerURL": "https://plot.ly"
       },
       "data": [
        {
         "hovertemplate": "location=United Kingdom<br>Total_Score=%{x}<br>Final_Rank=%{y}<extra></extra>",
         "legendgroup": "United Kingdom",
         "marker": {
          "color": "#636efa",
          "symbol": "circle"
         },
         "mode": "markers",
         "name": "United Kingdom",
         "orientation": "v",
         "showlegend": true,
         "type": "scatter",
         "x": [
          167.76,
          166.2425,
          164.165,
          157.2625,
          150.41250000000002,
          147.3375,
          143.75500000000002,
          140.64749999999995,
          137.605,
          135.72,
          133.055,
          131.465,
          131.165,
          130.3875,
          128.0525,
          127.09500000000003,
          126.9675,
          126.78999999999999,
          125.93999999999998,
          125.83250000000001,
          125.615,
          124.675,
          124.61,
          123.12750000000001,
          121.09750000000001,
          119.305,
          118.72500000000001,
          117.77250000000002,
          116.82500000000002,
          116.46249999999999,
          115.9225,
          115.32249999999999,
          113.055,
          112.74499999999999,
          111.4475,
          110.19749999999999,
          108.2875,
          107.625,
          107.2875,
          105.94749999999999,
          105.8525,
          105.8375,
          105.0925,
          105.04,
          104.79749999999999,
          104.6175,
          103.28999999999999,
          102.88999999999999,
          102.67,
          101.0875,
          100.565,
          100.41250000000001,
          100.35,
          100.1025,
          99.59999999999998,
          99.47,
          98.5175,
          97.71000000000001,
          97.08,
          97.07000000000001,
          96.9075,
          96.82000000000001,
          96.7925,
          96.5875,
          96.26249999999999,
          95.71999999999998
         ],
         "xaxis": "x",
         "y": [
          1,
          5,
          7,
          19,
          28,
          33,
          37,
          47,
          54,
          61,
          74,
          82,
          83,
          87,
          105,
          106,
          107,
          108,
          113,
          114,
          116,
          127,
          129,
          140,
          164,
          180,
          187,
          195,
          204,
          207,
          216,
          224,
          249,
          254,
          269,
          285,
          305,
          313,
          315,
          334,
          339,
          340,
          350,
          351,
          357,
          360,
          373,
          380,
          387,
          397,
          401,
          402,
          403,
          406,
          414,
          417,
          434,
          447,
          461,
          463,
          466,
          468,
          469,
          474,
          479,
          490
         ],
         "yaxis": "y"
        },
        {
         "hovertemplate": "location=United States<br>Total_Score=%{x}<br>Final_Rank=%{y}<extra></extra>",
         "legendgroup": "United States",
         "marker": {
          "color": "#EF553B",
          "symbol": "circle"
         },
         "mode": "markers",
         "name": "United States",
         "orientation": "v",
         "showlegend": true,
         "type": "scatter",
         "x": [
          167.67499999999998,
          167.665,
          167.595,
          166.12,
          163.79500000000002,
          163.575,
          162.7125,
          160.3575,
          159.2875,
          159.17249999999999,
          159.025,
          158.105,
          157.56,
          155.375,
          154.32250000000002,
          154.08,
          151.315,
          150.93,
          149.9975,
          148.99249999999998,
          145.515,
          140.29749999999999,
          139.31500000000003,
          139.0925,
          137.4325,
          136.7225,
          135.8775,
          135.65999999999997,
          135.3325,
          134.84,
          133.91,
          133.005,
          132.3775,
          131.94,
          130.45,
          129.16750000000002,
          128.1225,
          126.68,
          125.5075,
          125.435,
          125.3825,
          124.76249999999999,
          124.43499999999999,
          123.41,
          123.3825,
          123.38000000000001,
          122.93,
          122.81750000000001,
          121.325,
          120.79499999999999,
          120.32499999999999,
          119.9525,
          119.2075,
          118.45,
          118.27499999999999,
          117.99999999999999,
          117.81,
          117.60750000000002,
          116.755,
          115.53,
          115.43249999999999,
          115.2325,
          114.63000000000001,
          114.58500000000001,
          112.65249999999999,
          111.81,
          111.7525,
          111.515,
          111.41,
          111.23000000000002,
          110.9625,
          110.26,
          110.19250000000001,
          109.73,
          108.75000000000001,
          108.655,
          108.55499999999999,
          107.185,
          107.1575,
          106.13250000000001,
          105.90249999999999,
          105.525,
          105.23499999999999,
          103.94500000000001,
          102.875,
          102.815,
          102.78500000000001,
          100.7825,
          100.07249999999999,
          99.27499999999999,
          99.16000000000001,
          98.78749999999998,
          98.71249999999999,
          98.54499999999999,
          98.53999999999999,
          98.52,
          98.21750000000002,
          97.95499999999998,
          97.88,
          97.74750000000002,
          97.65249999999999,
          97.58749999999999,
          97.07000000000001,
          97.05,
          96.6325,
          96.42749999999998,
          95.8025
         ],
         "xaxis": "x",
         "y": [
          2,
          3,
          4,
          6,
          8,
          9,
          10,
          11,
          13,
          14,
          15,
          16,
          18,
          21,
          22,
          23,
          26,
          27,
          29,
          30,
          34,
          48,
          49,
          50,
          55,
          57,
          60,
          62,
          65,
          66,
          69,
          75,
          78,
          80,
          86,
          97,
          104,
          109,
          117,
          119,
          121,
          126,
          130,
          136,
          137,
          138,
          145,
          147,
          163,
          165,
          171,
          174,
          181,
          189,
          191,
          192,
          194,
          196,
          205,
          220,
          222,
          225,
          231,
          232,
          255,
          262,
          263,
          267,
          270,
          273,
          278,
          284,
          286,
          294,
          300,
          301,
          303,
          316,
          317,
          328,
          337,
          345,
          348,
          367,
          381,
          383,
          384,
          399,
          408,
          420,
          423,
          428,
          429,
          431,
          432,
          433,
          438,
          442,
          443,
          445,
          448,
          451,
          462,
          465,
          472,
          477,
          487
         ],
         "yaxis": "y"
        },
        {
         "hovertemplate": "location=Switzerland<br>Total_Score=%{x}<br>Final_Rank=%{y}<extra></extra>",
         "legendgroup": "Switzerland",
         "marker": {
          "color": "#00cc96",
          "symbol": "circle"
         },
         "mode": "markers",
         "name": "Switzerland",
         "orientation": "v",
         "showlegend": true,
         "type": "scatter",
         "x": [
          160.16249999999997,
          144.29000000000002,
          133.5325,
          129.935,
          125.45,
          122.96749999999999,
          119.94,
          111.955,
          106.525
         ],
         "xaxis": "x",
         "y": [
          12,
          36,
          73,
          92,
          118,
          144,
          175,
          260,
          323
         ],
         "yaxis": "y"
        },
        {
         "hovertemplate": "location=China<br>Total_Score=%{x}<br>Final_Rank=%{y}<extra></extra>",
         "legendgroup": "China",
         "marker": {
          "color": "#ab63fa",
          "symbol": "circle"
         },
         "mode": "markers",
         "name": "China",
         "orientation": "v",
         "showlegend": true,
         "type": "scatter",
         "x": [
          157.595,
          152.80499999999998,
          136.17499999999998,
          135.6475,
          130.175,
          130.065,
          129.73749999999998,
          123.96,
          122.61,
          121.615,
          114.72,
          114.1625,
          114.1175,
          114.10749999999999,
          111.25999999999999,
          110.0075,
          109.89250000000001,
          109.8325,
          108.55749999999999,
          107.7925,
          106.58000000000001,
          106.2425,
          105.995,
          105.5275,
          103.8975,
          103.76249999999999,
          102.72999999999999,
          102.34,
          100.09,
          99.585,
          99.47500000000001,
          97.78999999999999,
          96.835,
          95.3575
         ],
         "xaxis": "x",
         "y": [
          17,
          25,
          59,
          63,
          88,
          90,
          93,
          134,
          150,
          161,
          230,
          235,
          236,
          237,
          272,
          289,
          291,
          292,
          302,
          310,
          322,
          325,
          331,
          344,
          369,
          370,
          385,
          389,
          407,
          415,
          416,
          444,
          467,
          498
         ],
         "yaxis": "y"
        },
        {
         "hovertemplate": "location=Singapore<br>Total_Score=%{x}<br>Final_Rank=%{y}<extra></extra>",
         "legendgroup": "Singapore",
         "marker": {
          "color": "#FFA15A",
          "symbol": "circle"
         },
         "mode": "markers",
         "name": "Singapore",
         "orientation": "v",
         "showlegend": true,
         "type": "scatter",
         "x": [
          156.57250000000002,
          148.12
         ],
         "xaxis": "x",
         "y": [
          20,
          31
         ],
         "yaxis": "y"
        },
        {
         "hovertemplate": "location=Canada<br>Total_Score=%{x}<br>Final_Rank=%{y}<extra></extra>",
         "legendgroup": "Canada",
         "marker": {
          "color": "#19d3f3",
          "symbol": "circle"
         },
         "mode": "markers",
         "name": "Canada",
         "orientation": "v",
         "showlegend": true,
         "type": "scatter",
         "x": [
          153.485,
          141.27249999999998,
          138.02,
          130.5775,
          122.28250000000001,
          121.88000000000001,
          119.805,
          118.7525,
          113.67999999999999,
          112.865,
          109.18249999999999,
          106.09500000000001,
          105.9425,
          105.59000000000002,
          104.18249999999999,
          102.99999999999999,
          102.24000000000001
         ],
         "xaxis": "x",
         "y": [
          24,
          43,
          52,
          84,
          153,
          158,
          176,
          186,
          243,
          251,
          297,
          329,
          335,
          343,
          365,
          377,
          392
         ],
         "yaxis": "y"
        },
        {
         "hovertemplate": "location=Hong Kong<br>Total_Score=%{x}<br>Final_Rank=%{y}<extra></extra>",
         "legendgroup": "Hong Kong",
         "marker": {
          "color": "#FF6692",
          "symbol": "circle"
         },
         "mode": "markers",
         "name": "Hong Kong",
         "orientation": "v",
         "showlegend": true,
         "type": "scatter",
         "x": [
          147.40999999999997,
          143.19750000000002,
          137.3925,
          133.8475,
          132.3825,
          105.14499999999998
         ],
         "xaxis": "x",
         "y": [
          32,
          38,
          56,
          70,
          77,
          349
         ],
         "yaxis": "y"
        },
        {
         "hovertemplate": "location=Germany<br>Total_Score=%{x}<br>Final_Rank=%{y}<extra></extra>",
         "legendgroup": "Germany",
         "marker": {
          "color": "#B6E880",
          "symbol": "circle"
         },
         "mode": "markers",
         "name": "Germany",
         "orientation": "v",
         "showlegend": true,
         "type": "scatter",
         "x": [
          145.2025,
          143.0975,
          142.41249999999997,
          134.82,
          130.12,
          128.61249999999998,
          128.57500000000002,
          126.06,
          124.01,
          123.66499999999999,
          123.13999999999999,
          122.65,
          121.88750000000002,
          121.59249999999999,
          120.5675,
          119.65499999999999,
          117.08,
          116.96499999999999,
          116.19500000000001,
          114.55250000000001,
          113.985,
          113.49,
          113.09500000000001,
          112.82749999999999,
          112.41250000000001,
          111.10499999999999,
          110.72500000000001,
          107.87249999999999,
          104.94999999999999,
          104.925,
          104.7975,
          100.685,
          99.20749999999998,
          98.995,
          98.2975,
          97.15,
          95.8025,
          95.47999999999999
         ],
         "xaxis": "x",
         "y": [
          35,
          39,
          40,
          67,
          89,
          100,
          101,
          112,
          133,
          135,
          139,
          149,
          157,
          162,
          169,
          178,
          201,
          202,
          211,
          233,
          240,
          246,
          248,
          253,
          257,
          276,
          281,
          308,
          352,
          354,
          356,
          400,
          422,
          425,
          437,
          458,
          486,
          495
         ],
         "yaxis": "y"
        },
        {
         "hovertemplate": "location=Sweden<br>Total_Score=%{x}<br>Final_Rank=%{y}<extra></extra>",
         "legendgroup": "Sweden",
         "marker": {
          "color": "#FF97FF",
          "symbol": "circle"
         },
         "mode": "markers",
         "name": "Sweden",
         "orientation": "v",
         "showlegend": true,
         "type": "scatter",
         "x": [
          142.16750000000002,
          126.07000000000001,
          123.08,
          123.02,
          120.2325,
          119.015,
          114.90249999999999,
          114.175,
          105.895,
          104.4325,
          95.87,
          95.7225
         ],
         "xaxis": "x",
         "y": [
          41,
          111,
          141,
          143,
          173,
          185,
          228,
          234,
          338,
          364,
          484,
          489
         ],
         "yaxis": "y"
        },
        {
         "hovertemplate": "location=Australia<br>Total_Score=%{x}<br>Final_Rank=%{y}<extra></extra>",
         "legendgroup": "Australia",
         "marker": {
          "color": "#FECB52",
          "symbol": "circle"
         },
         "mode": "markers",
         "name": "Australia",
         "orientation": "v",
         "showlegend": true,
         "type": "scatter",
         "x": [
          141.86999999999998,
          140.955,
          137.65749999999997,
          133.805,
          132.93,
          132.0325,
          130.0425,
          128.79500000000002,
          124.03250000000001,
          120.6125,
          120.58749999999999,
          119.315,
          118.50250000000001,
          116.5825,
          116.35,
          115.99249999999999,
          115.84999999999998,
          115.44749999999999,
          113.8875,
          113.5,
          111.5975,
          111.58,
          111.19,
          110.17,
          109.75999999999999,
          106.75250000000001,
          106.22250000000001,
          105.98500000000001,
          104.65999999999998,
          104.64,
          98.1175,
          97.3825,
          95.80499999999999
         ],
         "xaxis": "x",
         "y": [
          42,
          45,
          53,
          72,
          76,
          79,
          91,
          99,
          132,
          167,
          168,
          179,
          188,
          206,
          210,
          215,
          218,
          221,
          241,
          245,
          265,
          266,
          274,
          287,
          293,
          320,
          326,
          332,
          358,
          359,
          439,
          452,
          485
         ],
         "yaxis": "y"
        },
        {
         "hovertemplate": "location=Netherlands<br>Total_Score=%{x}<br>Final_Rank=%{y}<extra></extra>",
         "legendgroup": "Netherlands",
         "marker": {
          "color": "#636efa",
          "symbol": "circle"
         },
         "mode": "markers",
         "name": "Netherlands",
         "orientation": "v",
         "showlegend": true,
         "type": "scatter",
         "x": [
          141.06,
          138.06,
          135.4125,
          134.64749999999998,
          133.8425,
          129.43,
          129.43,
          126.1925,
          122.40749999999998,
          111.8125,
          111.40749999999998,
          110.0175
         ],
         "xaxis": "x",
         "y": [
          44,
          51,
          64,
          68,
          71,
          95,
          96,
          110,
          152,
          261,
          271,
          288
         ],
         "yaxis": "y"
        },
        {
         "hovertemplate": "location=Belgium<br>Total_Score=%{x}<br>Final_Rank=%{y}<extra></extra>",
         "legendgroup": "Belgium",
         "marker": {
          "color": "#EF553B",
          "symbol": "circle"
         },
         "mode": "markers",
         "name": "Belgium",
         "orientation": "v",
         "showlegend": true,
         "type": "scatter",
         "x": [
          140.87,
          125.3425,
          124.67,
          118.3025,
          116.36999999999999,
          113.21750000000002,
          102.2675,
          98.04749999999999
         ],
         "xaxis": "x",
         "y": [
          46,
          122,
          128,
          190,
          209,
          247,
          391,
          440
         ],
         "yaxis": "y"
        },
        {
         "hovertemplate": "location=France<br>Total_Score=%{x}<br>Final_Rank=%{y}<extra></extra>",
         "legendgroup": "France",
         "marker": {
          "color": "#00cc96",
          "symbol": "circle"
         },
         "mode": "markers",
         "name": "France",
         "orientation": "v",
         "showlegend": true,
         "type": "scatter",
         "x": [
          136.3625,
          131.705,
          128.9975,
          124.97749999999999,
          120.3325,
          103.71000000000001,
          100.2625,
          99.2925,
          98.02750000000002
         ],
         "xaxis": "x",
         "y": [
          58,
          81,
          98,
          125,
          170,
          371,
          404,
          419,
          441
         ],
         "yaxis": "y"
        },
        {
         "hovertemplate": "location=Japan<br>Total_Score=%{x}<br>Final_Rank=%{y}<extra></extra>",
         "legendgroup": "Japan",
         "marker": {
          "color": "#ab63fa",
          "symbol": "circle"
         },
         "mode": "markers",
         "name": "Japan",
         "orientation": "v",
         "showlegend": true,
         "type": "scatter",
         "x": [
          130.4575,
          116.83749999999999,
          100.94500000000001
         ],
         "xaxis": "x",
         "y": [
          85,
          203,
          398
         ],
         "yaxis": "y"
        },
        {
         "hovertemplate": "location=Denmark<br>Total_Score=%{x}<br>Final_Rank=%{y}<extra></extra>",
         "legendgroup": "Denmark",
         "marker": {
          "color": "#FFA15A",
          "symbol": "circle"
         },
         "mode": "markers",
         "name": "Denmark",
         "orientation": "v",
         "showlegend": true,
         "type": "scatter",
         "x": [
          129.635,
          125.66,
          122.03750000000001,
          116.14499999999998,
          116.07749999999999,
          114.055
         ],
         "xaxis": "x",
         "y": [
          94,
          115,
          156,
          212,
          213,
          238
         ],
         "yaxis": "y"
        },
        {
         "hovertemplate": "location=Norway<br>Total_Score=%{x}<br>Final_Rank=%{y}<extra></extra>",
         "legendgroup": "Norway",
         "marker": {
          "color": "#19d3f3",
          "symbol": "circle"
         },
         "mode": "markers",
         "name": "Norway",
         "orientation": "v",
         "showlegend": true,
         "type": "scatter",
         "x": [
          128.4375,
          112.83749999999999,
          103.68
         ],
         "xaxis": "x",
         "y": [
          102,
          252,
          372
         ],
         "yaxis": "y"
        },
        {
         "hovertemplate": "location=Finland<br>Total_Score=%{x}<br>Final_Rank=%{y}<extra></extra>",
         "legendgroup": "Finland",
         "marker": {
          "color": "#FF6692",
          "symbol": "circle"
         },
         "mode": "markers",
         "name": "Finland",
         "orientation": "v",
         "showlegend": true,
         "type": "scatter",
         "x": [
          128.2925,
          119.1725,
          113.54500000000002,
          111.6025,
          111.09499999999998,
          108.8625,
          107.66250000000001,
          102.9025
         ],
         "xaxis": "x",
         "y": [
          103,
          182,
          244,
          264,
          277,
          299,
          312,
          379
         ],
         "yaxis": "y"
        },
        {
         "hovertemplate": "location=South Korea<br>Total_Score=%{x}<br>Final_Rank=%{y}<extra></extra>",
         "legendgroup": "South Korea",
         "marker": {
          "color": "#B6E880",
          "symbol": "circle"
         },
         "mode": "markers",
         "name": "South Korea",
         "orientation": "v",
         "showlegend": true,
         "type": "scatter",
         "x": [
          125.4025,
          125.22749999999999,
          122.89000000000001,
          120.75999999999999,
          117.40249999999999,
          115.58,
          112.8775,
          107.74000000000001,
          102.85,
          95.65
         ],
         "xaxis": "x",
         "y": [
          120,
          124,
          146,
          166,
          200,
          219,
          250,
          311,
          382,
          493
         ],
         "yaxis": "y"
        },
        {
         "hovertemplate": "location=Spain<br>Total_Score=%{x}<br>Final_Rank=%{y}<extra></extra>",
         "legendgroup": "Spain",
         "marker": {
          "color": "#FF97FF",
          "symbol": "circle"
         },
         "mode": "markers",
         "name": "Spain",
         "orientation": "v",
         "showlegend": true,
         "type": "scatter",
         "x": [
          125.2975,
          120.32249999999999,
          117.6,
          109.6575,
          103.0825,
          97.19500000000001
         ],
         "xaxis": "x",
         "y": [
          123,
          172,
          197,
          295,
          375,
          456
         ],
         "yaxis": "y"
        },
        {
         "hovertemplate": "location=Ireland<br>Total_Score=%{x}<br>Final_Rank=%{y}<extra></extra>",
         "legendgroup": "Ireland",
         "marker": {
          "color": "#FECB52",
          "symbol": "circle"
         },
         "mode": "markers",
         "name": "Ireland",
         "orientation": "v",
         "showlegend": true,
         "type": "scatter",
         "x": [
          124.09,
          115.165,
          111.16250000000001,
          108.0575,
          104.605,
          102.12249999999999,
          99.60749999999999
         ],
         "xaxis": "x",
         "y": [
          131,
          226,
          275,
          307,
          361,
          393,
          413
         ],
         "yaxis": "y"
        },
        {
         "hovertemplate": "location=New Zealand<br>Total_Score=%{x}<br>Final_Rank=%{y}<extra></extra>",
         "legendgroup": "New Zealand",
         "marker": {
          "color": "#636efa",
          "symbol": "circle"
         },
         "mode": "markers",
         "name": "New Zealand",
         "orientation": "v",
         "showlegend": true,
         "type": "scatter",
         "x": [
          123.0575,
          105.45,
          104.865,
          99.975,
          95.6925
         ],
         "xaxis": "x",
         "y": [
          142,
          346,
          355,
          409,
          491
         ],
         "yaxis": "y"
        },
        {
         "hovertemplate": "location=Italy<br>Total_Score=%{x}<br>Final_Rank=%{y}<extra></extra>",
         "legendgroup": "Italy",
         "marker": {
          "color": "#EF553B",
          "symbol": "circle"
         },
         "mode": "markers",
         "name": "Italy",
         "orientation": "v",
         "showlegend": true,
         "type": "scatter",
         "x": [
          122.6625,
          122.155,
          121.8375,
          119.03000000000002,
          115.38999999999999,
          114.745,
          114.00250000000001,
          113.73749999999998,
          112.4325,
          111.5075,
          110.855,
          109.46000000000001,
          108.91499999999999,
          107.3075,
          106.96,
          105.965,
          105.94249999999998,
          105.7025,
          105.285,
          104.1475,
          103.27499999999999,
          102.70249999999999,
          101.82249999999999,
          101.60249999999999,
          99.885,
          98.925,
          97.60499999999999,
          97.38000000000001,
          97.20500000000001,
          96.76500000000001,
          96.60500000000002,
          96.50750000000001,
          95.67500000000001
         ],
         "xaxis": "x",
         "y": [
          148,
          155,
          159,
          184,
          223,
          229,
          239,
          242,
          256,
          268,
          279,
          296,
          298,
          314,
          318,
          333,
          336,
          341,
          347,
          366,
          374,
          386,
          394,
          395,
          410,
          427,
          450,
          453,
          455,
          470,
          473,
          475,
          492
         ],
         "yaxis": "y"
        },
        {
         "hovertemplate": "location=Austria<br>Total_Score=%{x}<br>Final_Rank=%{y}<extra></extra>",
         "legendgroup": "Austria",
         "marker": {
          "color": "#00cc96",
          "symbol": "circle"
         },
         "mode": "markers",
         "name": "Austria",
         "orientation": "v",
         "showlegend": true,
         "type": "scatter",
         "x": [
          122.59,
          119.765,
          119.11500000000001,
          117.4375,
          99.6425,
          95.3525
         ],
         "xaxis": "x",
         "y": [
          151,
          177,
          183,
          198,
          412,
          499
         ],
         "yaxis": "y"
        },
        {
         "hovertemplate": "location=South Africa<br>Total_Score=%{x}<br>Final_Rank=%{y}<extra></extra>",
         "legendgroup": "South Africa",
         "marker": {
          "color": "#ab63fa",
          "symbol": "circle"
         },
         "mode": "markers",
         "name": "South Africa",
         "orientation": "v",
         "showlegend": true,
         "type": "scatter",
         "x": [
          122.18249999999999,
          105.6275,
          102.925
         ],
         "xaxis": "x",
         "y": [
          154,
          342,
          378
         ],
         "yaxis": "y"
        },
        {
         "hovertemplate": "location=Macao<br>Total_Score=%{x}<br>Final_Rank=%{y}<extra></extra>",
         "legendgroup": "Macao",
         "marker": {
          "color": "#FFA15A",
          "symbol": "circle"
         },
         "mode": "markers",
         "name": "Macao",
         "orientation": "v",
         "showlegend": true,
         "type": "scatter",
         "x": [
          121.825,
          107.81750000000001
         ],
         "xaxis": "x",
         "y": [
          160,
          309
         ],
         "yaxis": "y"
        },
        {
         "hovertemplate": "location=Saudi Arabia<br>Total_Score=%{x}<br>Final_Rank=%{y}<extra></extra>",
         "legendgroup": "Saudi Arabia",
         "marker": {
          "color": "#19d3f3",
          "symbol": "circle"
         },
         "mode": "markers",
         "name": "Saudi Arabia",
         "orientation": "v",
         "showlegend": true,
         "type": "scatter",
         "x": [
          117.82249999999999,
          117.42750000000001,
          106.89750000000001,
          106.05,
          101.12249999999999,
          97.0625
         ],
         "xaxis": "x",
         "y": [
          193,
          199,
          319,
          330,
          396,
          464
         ],
         "yaxis": "y"
        },
        {
         "hovertemplate": "location=Taiwan<br>Total_Score=%{x}<br>Final_Rank=%{y}<extra></extra>",
         "legendgroup": "Taiwan",
         "marker": {
          "color": "#FF6692",
          "symbol": "circle"
         },
         "mode": "markers",
         "name": "Taiwan",
         "orientation": "v",
         "showlegend": true,
         "type": "scatter",
         "x": [
          116.40500000000002,
          110.7675,
          102.33999999999999
         ],
         "xaxis": "x",
         "y": [
          208,
          280,
          390
         ],
         "yaxis": "y"
        },
        {
         "hovertemplate": "location=Israel<br>Total_Score=%{x}<br>Final_Rank=%{y}<extra></extra>",
         "legendgroup": "Israel",
         "marker": {
          "color": "#B6E880",
          "symbol": "circle"
         },
         "mode": "markers",
         "name": "Israel",
         "orientation": "v",
         "showlegend": true,
         "type": "scatter",
         "x": [
          115.9925,
          98.99500000000002,
          95.43750000000001
         ],
         "xaxis": "x",
         "y": [
          214,
          424,
          496
         ],
         "yaxis": "y"
        },
        {
         "hovertemplate": "location=United Arab Emirates<br>Total_Score=%{x}<br>Final_Rank=%{y}<extra></extra>",
         "legendgroup": "United Arab Emirates",
         "marker": {
          "color": "#FF97FF",
          "symbol": "circle"
         },
         "mode": "markers",
         "name": "United Arab Emirates",
         "orientation": "v",
         "showlegend": true,
         "type": "scatter",
         "x": [
          115.85499999999999,
          115.01249999999999,
          110.26750000000001,
          108.37500000000001,
          108.27250000000001
         ],
         "xaxis": "x",
         "y": [
          217,
          227,
          283,
          304,
          306
         ],
         "yaxis": "y"
        },
        {
         "hovertemplate": "location=Qatar<br>Total_Score=%{x}<br>Final_Rank=%{y}<extra></extra>",
         "legendgroup": "Qatar",
         "marker": {
          "color": "#FECB52",
          "symbol": "circle"
         },
         "mode": "markers",
         "name": "Qatar",
         "orientation": "v",
         "showlegend": true,
         "type": "scatter",
         "x": [
          112.215
         ],
         "xaxis": "x",
         "y": [
          258
         ],
         "yaxis": "y"
        },
        {
         "hovertemplate": "location=Estonia<br>Total_Score=%{x}<br>Final_Rank=%{y}<extra></extra>",
         "legendgroup": "Estonia",
         "marker": {
          "color": "#636efa",
          "symbol": "circle"
         },
         "mode": "markers",
         "name": "Estonia",
         "orientation": "v",
         "showlegend": true,
         "type": "scatter",
         "x": [
          112.035
         ],
         "xaxis": "x",
         "y": [
          259
         ],
         "yaxis": "y"
        },
        {
         "hovertemplate": "location=Luxembourg<br>Total_Score=%{x}<br>Final_Rank=%{y}<extra></extra>",
         "legendgroup": "Luxembourg",
         "marker": {
          "color": "#EF553B",
          "symbol": "circle"
         },
         "mode": "markers",
         "name": "Luxembourg",
         "orientation": "v",
         "showlegend": true,
         "type": "scatter",
         "x": [
          110.365
         ],
         "xaxis": "x",
         "y": [
          282
         ],
         "yaxis": "y"
        },
        {
         "hovertemplate": "location=Iran<br>Total_Score=%{x}<br>Final_Rank=%{y}<extra></extra>",
         "legendgroup": "Iran",
         "marker": {
          "color": "#00cc96",
          "symbol": "circle"
         },
         "mode": "markers",
         "name": "Iran",
         "orientation": "v",
         "showlegend": true,
         "type": "scatter",
         "x": [
          109.9075,
          106.18,
          102.58749999999999,
          100.17,
          99.2675,
          98.9825,
          95.7625
         ],
         "xaxis": "x",
         "y": [
          290,
          327,
          388,
          405,
          421,
          426,
          488
         ],
         "yaxis": "y"
        },
        {
         "hovertemplate": "location=Malaysia<br>Total_Score=%{x}<br>Final_Rank=%{y}<extra></extra>",
         "legendgroup": "Malaysia",
         "marker": {
          "color": "#ab63fa",
          "symbol": "circle"
         },
         "mode": "markers",
         "name": "Malaysia",
         "orientation": "v",
         "showlegend": true,
         "type": "scatter",
         "x": [
          106.7125,
          103.905,
          96.105
         ],
         "xaxis": "x",
         "y": [
          321,
          368,
          481
         ],
         "yaxis": "y"
        },
        {
         "hovertemplate": "location=Hungary<br>Total_Score=%{x}<br>Final_Rank=%{y}<extra></extra>",
         "legendgroup": "Hungary",
         "marker": {
          "color": "#FFA15A",
          "symbol": "circle"
         },
         "mode": "markers",
         "name": "Hungary",
         "orientation": "v",
         "showlegend": true,
         "type": "scatter",
         "x": [
          106.45250000000001
         ],
         "xaxis": "x",
         "y": [
          324
         ],
         "yaxis": "y"
        },
        {
         "hovertemplate": "location=Pakistan<br>Total_Score=%{x}<br>Final_Rank=%{y}<extra></extra>",
         "legendgroup": "Pakistan",
         "marker": {
          "color": "#19d3f3",
          "symbol": "circle"
         },
         "mode": "markers",
         "name": "Pakistan",
         "orientation": "v",
         "showlegend": true,
         "type": "scatter",
         "x": [
          104.94000000000001,
          103.0625,
          98.57249999999999,
          97.15,
          95.42499999999998
         ],
         "xaxis": "x",
         "y": [
          353,
          376,
          430,
          459,
          497
         ],
         "yaxis": "y"
        },
        {
         "hovertemplate": "location=India<br>Total_Score=%{x}<br>Final_Rank=%{y}<extra></extra>",
         "legendgroup": "India",
         "marker": {
          "color": "#FF6692",
          "symbol": "circle"
         },
         "mode": "markers",
         "name": "India",
         "orientation": "v",
         "showlegend": true,
         "type": "scatter",
         "x": [
          104.54249999999999,
          98.3875,
          96.265
         ],
         "xaxis": "x",
         "y": [
          362,
          435,
          478
         ],
         "yaxis": "y"
        },
        {
         "hovertemplate": "location=Vietnam<br>Total_Score=%{x}<br>Final_Rank=%{y}<extra></extra>",
         "legendgroup": "Vietnam",
         "marker": {
          "color": "#B6E880",
          "symbol": "circle"
         },
         "mode": "markers",
         "name": "Vietnam",
         "orientation": "v",
         "showlegend": true,
         "type": "scatter",
         "x": [
          104.52499999999999,
          99.7625
         ],
         "xaxis": "x",
         "y": [
          363,
          411
         ],
         "yaxis": "y"
        },
        {
         "hovertemplate": "location=Brunei Darussalam<br>Total_Score=%{x}<br>Final_Rank=%{y}<extra></extra>",
         "legendgroup": "Brunei Darussalam",
         "marker": {
          "color": "#FF97FF",
          "symbol": "circle"
         },
         "mode": "markers",
         "name": "Brunei Darussalam",
         "orientation": "v",
         "showlegend": true,
         "type": "scatter",
         "x": [
          99.47
         ],
         "xaxis": "x",
         "y": [
          418
         ],
         "yaxis": "y"
        },
        {
         "hovertemplate": "location=Brazil<br>Total_Score=%{x}<br>Final_Rank=%{y}<extra></extra>",
         "legendgroup": "Brazil",
         "marker": {
          "color": "#FECB52",
          "symbol": "circle"
         },
         "mode": "markers",
         "name": "Brazil",
         "orientation": "v",
         "showlegend": true,
         "type": "scatter",
         "x": [
          98.34249999999999
         ],
         "xaxis": "x",
         "y": [
          436
         ],
         "yaxis": "y"
        },
        {
         "hovertemplate": "location=Greece<br>Total_Score=%{x}<br>Final_Rank=%{y}<extra></extra>",
         "legendgroup": "Greece",
         "marker": {
          "color": "#636efa",
          "symbol": "circle"
         },
         "mode": "markers",
         "name": "Greece",
         "orientation": "v",
         "showlegend": true,
         "type": "scatter",
         "x": [
          97.74000000000001,
          95.34750000000001
         ],
         "xaxis": "x",
         "y": [
          446,
          500
         ],
         "yaxis": "y"
        },
        {
         "hovertemplate": "location=Turkey<br>Total_Score=%{x}<br>Final_Rank=%{y}<extra></extra>",
         "legendgroup": "Turkey",
         "marker": {
          "color": "#EF553B",
          "symbol": "circle"
         },
         "mode": "markers",
         "name": "Turkey",
         "orientation": "v",
         "showlegend": true,
         "type": "scatter",
         "x": [
          97.63,
          97.19250000000001,
          96.47
         ],
         "xaxis": "x",
         "y": [
          449,
          457,
          476
         ],
         "yaxis": "y"
        },
        {
         "hovertemplate": "location=Cyprus<br>Total_Score=%{x}<br>Final_Rank=%{y}<extra></extra>",
         "legendgroup": "Cyprus",
         "marker": {
          "color": "#00cc96",
          "symbol": "circle"
         },
         "mode": "markers",
         "name": "Cyprus",
         "orientation": "v",
         "showlegend": true,
         "type": "scatter",
         "x": [
          97.225,
          96.6775
         ],
         "xaxis": "x",
         "y": [
          454,
          471
         ],
         "yaxis": "y"
        },
        {
         "hovertemplate": "location=Portugal<br>Total_Score=%{x}<br>Final_Rank=%{y}<extra></extra>",
         "legendgroup": "Portugal",
         "marker": {
          "color": "#ab63fa",
          "symbol": "circle"
         },
         "mode": "markers",
         "name": "Portugal",
         "orientation": "v",
         "showlegend": true,
         "type": "scatter",
         "x": [
          97.10999999999999,
          96.06500000000001
         ],
         "xaxis": "x",
         "y": [
          460,
          482
         ],
         "yaxis": "y"
        },
        {
         "hovertemplate": "location=Russian Federation<br>Total_Score=%{x}<br>Final_Rank=%{y}<extra></extra>",
         "legendgroup": "Russian Federation",
         "marker": {
          "color": "#FFA15A",
          "symbol": "circle"
         },
         "mode": "markers",
         "name": "Russian Federation",
         "orientation": "v",
         "showlegend": true,
         "type": "scatter",
         "x": [
          96.24000000000001,
          95.9575
         ],
         "xaxis": "x",
         "y": [
          480,
          483
         ],
         "yaxis": "y"
        },
        {
         "hovertemplate": "location=Lebanon<br>Total_Score=%{x}<br>Final_Rank=%{y}<extra></extra>",
         "legendgroup": "Lebanon",
         "marker": {
          "color": "#19d3f3",
          "symbol": "circle"
         },
         "mode": "markers",
         "name": "Lebanon",
         "orientation": "v",
         "showlegend": true,
         "type": "scatter",
         "x": [
          95.505
         ],
         "xaxis": "x",
         "y": [
          494
         ],
         "yaxis": "y"
        }
       ],
       "layout": {
        "legend": {
         "title": {
          "text": "location"
         },
         "tracegroupgap": 0
        },
        "template": {
         "data": {
          "bar": [
           {
            "error_x": {
             "color": "#2a3f5f"
            },
            "error_y": {
             "color": "#2a3f5f"
            },
            "marker": {
             "line": {
              "color": "#E5ECF6",
              "width": 0.5
             },
             "pattern": {
              "fillmode": "overlay",
              "size": 10,
              "solidity": 0.2
             }
            },
            "type": "bar"
           }
          ],
          "barpolar": [
           {
            "marker": {
             "line": {
              "color": "#E5ECF6",
              "width": 0.5
             },
             "pattern": {
              "fillmode": "overlay",
              "size": 10,
              "solidity": 0.2
             }
            },
            "type": "barpolar"
           }
          ],
          "carpet": [
           {
            "aaxis": {
             "endlinecolor": "#2a3f5f",
             "gridcolor": "white",
             "linecolor": "white",
             "minorgridcolor": "white",
             "startlinecolor": "#2a3f5f"
            },
            "baxis": {
             "endlinecolor": "#2a3f5f",
             "gridcolor": "white",
             "linecolor": "white",
             "minorgridcolor": "white",
             "startlinecolor": "#2a3f5f"
            },
            "type": "carpet"
           }
          ],
          "choropleth": [
           {
            "colorbar": {
             "outlinewidth": 0,
             "ticks": ""
            },
            "type": "choropleth"
           }
          ],
          "contour": [
           {
            "colorbar": {
             "outlinewidth": 0,
             "ticks": ""
            },
            "colorscale": [
             [
              0,
              "#0d0887"
             ],
             [
              0.1111111111111111,
              "#46039f"
             ],
             [
              0.2222222222222222,
              "#7201a8"
             ],
             [
              0.3333333333333333,
              "#9c179e"
             ],
             [
              0.4444444444444444,
              "#bd3786"
             ],
             [
              0.5555555555555556,
              "#d8576b"
             ],
             [
              0.6666666666666666,
              "#ed7953"
             ],
             [
              0.7777777777777778,
              "#fb9f3a"
             ],
             [
              0.8888888888888888,
              "#fdca26"
             ],
             [
              1,
              "#f0f921"
             ]
            ],
            "type": "contour"
           }
          ],
          "contourcarpet": [
           {
            "colorbar": {
             "outlinewidth": 0,
             "ticks": ""
            },
            "type": "contourcarpet"
           }
          ],
          "heatmap": [
           {
            "colorbar": {
             "outlinewidth": 0,
             "ticks": ""
            },
            "colorscale": [
             [
              0,
              "#0d0887"
             ],
             [
              0.1111111111111111,
              "#46039f"
             ],
             [
              0.2222222222222222,
              "#7201a8"
             ],
             [
              0.3333333333333333,
              "#9c179e"
             ],
             [
              0.4444444444444444,
              "#bd3786"
             ],
             [
              0.5555555555555556,
              "#d8576b"
             ],
             [
              0.6666666666666666,
              "#ed7953"
             ],
             [
              0.7777777777777778,
              "#fb9f3a"
             ],
             [
              0.8888888888888888,
              "#fdca26"
             ],
             [
              1,
              "#f0f921"
             ]
            ],
            "type": "heatmap"
           }
          ],
          "heatmapgl": [
           {
            "colorbar": {
             "outlinewidth": 0,
             "ticks": ""
            },
            "colorscale": [
             [
              0,
              "#0d0887"
             ],
             [
              0.1111111111111111,
              "#46039f"
             ],
             [
              0.2222222222222222,
              "#7201a8"
             ],
             [
              0.3333333333333333,
              "#9c179e"
             ],
             [
              0.4444444444444444,
              "#bd3786"
             ],
             [
              0.5555555555555556,
              "#d8576b"
             ],
             [
              0.6666666666666666,
              "#ed7953"
             ],
             [
              0.7777777777777778,
              "#fb9f3a"
             ],
             [
              0.8888888888888888,
              "#fdca26"
             ],
             [
              1,
              "#f0f921"
             ]
            ],
            "type": "heatmapgl"
           }
          ],
          "histogram": [
           {
            "marker": {
             "pattern": {
              "fillmode": "overlay",
              "size": 10,
              "solidity": 0.2
             }
            },
            "type": "histogram"
           }
          ],
          "histogram2d": [
           {
            "colorbar": {
             "outlinewidth": 0,
             "ticks": ""
            },
            "colorscale": [
             [
              0,
              "#0d0887"
             ],
             [
              0.1111111111111111,
              "#46039f"
             ],
             [
              0.2222222222222222,
              "#7201a8"
             ],
             [
              0.3333333333333333,
              "#9c179e"
             ],
             [
              0.4444444444444444,
              "#bd3786"
             ],
             [
              0.5555555555555556,
              "#d8576b"
             ],
             [
              0.6666666666666666,
              "#ed7953"
             ],
             [
              0.7777777777777778,
              "#fb9f3a"
             ],
             [
              0.8888888888888888,
              "#fdca26"
             ],
             [
              1,
              "#f0f921"
             ]
            ],
            "type": "histogram2d"
           }
          ],
          "histogram2dcontour": [
           {
            "colorbar": {
             "outlinewidth": 0,
             "ticks": ""
            },
            "colorscale": [
             [
              0,
              "#0d0887"
             ],
             [
              0.1111111111111111,
              "#46039f"
             ],
             [
              0.2222222222222222,
              "#7201a8"
             ],
             [
              0.3333333333333333,
              "#9c179e"
             ],
             [
              0.4444444444444444,
              "#bd3786"
             ],
             [
              0.5555555555555556,
              "#d8576b"
             ],
             [
              0.6666666666666666,
              "#ed7953"
             ],
             [
              0.7777777777777778,
              "#fb9f3a"
             ],
             [
              0.8888888888888888,
              "#fdca26"
             ],
             [
              1,
              "#f0f921"
             ]
            ],
            "type": "histogram2dcontour"
           }
          ],
          "mesh3d": [
           {
            "colorbar": {
             "outlinewidth": 0,
             "ticks": ""
            },
            "type": "mesh3d"
           }
          ],
          "parcoords": [
           {
            "line": {
             "colorbar": {
              "outlinewidth": 0,
              "ticks": ""
             }
            },
            "type": "parcoords"
           }
          ],
          "pie": [
           {
            "automargin": true,
            "type": "pie"
           }
          ],
          "scatter": [
           {
            "fillpattern": {
             "fillmode": "overlay",
             "size": 10,
             "solidity": 0.2
            },
            "type": "scatter"
           }
          ],
          "scatter3d": [
           {
            "line": {
             "colorbar": {
              "outlinewidth": 0,
              "ticks": ""
             }
            },
            "marker": {
             "colorbar": {
              "outlinewidth": 0,
              "ticks": ""
             }
            },
            "type": "scatter3d"
           }
          ],
          "scattercarpet": [
           {
            "marker": {
             "colorbar": {
              "outlinewidth": 0,
              "ticks": ""
             }
            },
            "type": "scattercarpet"
           }
          ],
          "scattergeo": [
           {
            "marker": {
             "colorbar": {
              "outlinewidth": 0,
              "ticks": ""
             }
            },
            "type": "scattergeo"
           }
          ],
          "scattergl": [
           {
            "marker": {
             "colorbar": {
              "outlinewidth": 0,
              "ticks": ""
             }
            },
            "type": "scattergl"
           }
          ],
          "scattermapbox": [
           {
            "marker": {
             "colorbar": {
              "outlinewidth": 0,
              "ticks": ""
             }
            },
            "type": "scattermapbox"
           }
          ],
          "scatterpolar": [
           {
            "marker": {
             "colorbar": {
              "outlinewidth": 0,
              "ticks": ""
             }
            },
            "type": "scatterpolar"
           }
          ],
          "scatterpolargl": [
           {
            "marker": {
             "colorbar": {
              "outlinewidth": 0,
              "ticks": ""
             }
            },
            "type": "scatterpolargl"
           }
          ],
          "scatterternary": [
           {
            "marker": {
             "colorbar": {
              "outlinewidth": 0,
              "ticks": ""
             }
            },
            "type": "scatterternary"
           }
          ],
          "surface": [
           {
            "colorbar": {
             "outlinewidth": 0,
             "ticks": ""
            },
            "colorscale": [
             [
              0,
              "#0d0887"
             ],
             [
              0.1111111111111111,
              "#46039f"
             ],
             [
              0.2222222222222222,
              "#7201a8"
             ],
             [
              0.3333333333333333,
              "#9c179e"
             ],
             [
              0.4444444444444444,
              "#bd3786"
             ],
             [
              0.5555555555555556,
              "#d8576b"
             ],
             [
              0.6666666666666666,
              "#ed7953"
             ],
             [
              0.7777777777777778,
              "#fb9f3a"
             ],
             [
              0.8888888888888888,
              "#fdca26"
             ],
             [
              1,
              "#f0f921"
             ]
            ],
            "type": "surface"
           }
          ],
          "table": [
           {
            "cells": {
             "fill": {
              "color": "#EBF0F8"
             },
             "line": {
              "color": "white"
             }
            },
            "header": {
             "fill": {
              "color": "#C8D4E3"
             },
             "line": {
              "color": "white"
             }
            },
            "type": "table"
           }
          ]
         },
         "layout": {
          "annotationdefaults": {
           "arrowcolor": "#2a3f5f",
           "arrowhead": 0,
           "arrowwidth": 1
          },
          "autotypenumbers": "strict",
          "coloraxis": {
           "colorbar": {
            "outlinewidth": 0,
            "ticks": ""
           }
          },
          "colorscale": {
           "diverging": [
            [
             0,
             "#8e0152"
            ],
            [
             0.1,
             "#c51b7d"
            ],
            [
             0.2,
             "#de77ae"
            ],
            [
             0.3,
             "#f1b6da"
            ],
            [
             0.4,
             "#fde0ef"
            ],
            [
             0.5,
             "#f7f7f7"
            ],
            [
             0.6,
             "#e6f5d0"
            ],
            [
             0.7,
             "#b8e186"
            ],
            [
             0.8,
             "#7fbc41"
            ],
            [
             0.9,
             "#4d9221"
            ],
            [
             1,
             "#276419"
            ]
           ],
           "sequential": [
            [
             0,
             "#0d0887"
            ],
            [
             0.1111111111111111,
             "#46039f"
            ],
            [
             0.2222222222222222,
             "#7201a8"
            ],
            [
             0.3333333333333333,
             "#9c179e"
            ],
            [
             0.4444444444444444,
             "#bd3786"
            ],
            [
             0.5555555555555556,
             "#d8576b"
            ],
            [
             0.6666666666666666,
             "#ed7953"
            ],
            [
             0.7777777777777778,
             "#fb9f3a"
            ],
            [
             0.8888888888888888,
             "#fdca26"
            ],
            [
             1,
             "#f0f921"
            ]
           ],
           "sequentialminus": [
            [
             0,
             "#0d0887"
            ],
            [
             0.1111111111111111,
             "#46039f"
            ],
            [
             0.2222222222222222,
             "#7201a8"
            ],
            [
             0.3333333333333333,
             "#9c179e"
            ],
            [
             0.4444444444444444,
             "#bd3786"
            ],
            [
             0.5555555555555556,
             "#d8576b"
            ],
            [
             0.6666666666666666,
             "#ed7953"
            ],
            [
             0.7777777777777778,
             "#fb9f3a"
            ],
            [
             0.8888888888888888,
             "#fdca26"
            ],
            [
             1,
             "#f0f921"
            ]
           ]
          },
          "colorway": [
           "#636efa",
           "#EF553B",
           "#00cc96",
           "#ab63fa",
           "#FFA15A",
           "#19d3f3",
           "#FF6692",
           "#B6E880",
           "#FF97FF",
           "#FECB52"
          ],
          "font": {
           "color": "#2a3f5f"
          },
          "geo": {
           "bgcolor": "white",
           "lakecolor": "white",
           "landcolor": "#E5ECF6",
           "showlakes": true,
           "showland": true,
           "subunitcolor": "white"
          },
          "hoverlabel": {
           "align": "left"
          },
          "hovermode": "closest",
          "mapbox": {
           "style": "light"
          },
          "paper_bgcolor": "white",
          "plot_bgcolor": "#E5ECF6",
          "polar": {
           "angularaxis": {
            "gridcolor": "white",
            "linecolor": "white",
            "ticks": ""
           },
           "bgcolor": "#E5ECF6",
           "radialaxis": {
            "gridcolor": "white",
            "linecolor": "white",
            "ticks": ""
           }
          },
          "scene": {
           "xaxis": {
            "backgroundcolor": "#E5ECF6",
            "gridcolor": "white",
            "gridwidth": 2,
            "linecolor": "white",
            "showbackground": true,
            "ticks": "",
            "zerolinecolor": "white"
           },
           "yaxis": {
            "backgroundcolor": "#E5ECF6",
            "gridcolor": "white",
            "gridwidth": 2,
            "linecolor": "white",
            "showbackground": true,
            "ticks": "",
            "zerolinecolor": "white"
           },
           "zaxis": {
            "backgroundcolor": "#E5ECF6",
            "gridcolor": "white",
            "gridwidth": 2,
            "linecolor": "white",
            "showbackground": true,
            "ticks": "",
            "zerolinecolor": "white"
           }
          },
          "shapedefaults": {
           "line": {
            "color": "#2a3f5f"
           }
          },
          "ternary": {
           "aaxis": {
            "gridcolor": "white",
            "linecolor": "white",
            "ticks": ""
           },
           "baxis": {
            "gridcolor": "white",
            "linecolor": "white",
            "ticks": ""
           },
           "bgcolor": "#E5ECF6",
           "caxis": {
            "gridcolor": "white",
            "linecolor": "white",
            "ticks": ""
           }
          },
          "title": {
           "x": 0.05
          },
          "xaxis": {
           "automargin": true,
           "gridcolor": "white",
           "linecolor": "white",
           "ticks": "",
           "title": {
            "standoff": 15
           },
           "zerolinecolor": "white",
           "zerolinewidth": 2
          },
          "yaxis": {
           "automargin": true,
           "gridcolor": "white",
           "linecolor": "white",
           "ticks": "",
           "title": {
            "standoff": 15
           },
           "zerolinecolor": "white",
           "zerolinewidth": 2
          }
         }
        },
        "title": {
         "text": "World Rank & Score by location"
        },
        "xaxis": {
         "anchor": "y",
         "domain": [
          0,
          1
         ],
         "title": {
          "text": "Total_Score"
         }
        },
        "yaxis": {
         "anchor": "x",
         "domain": [
          0,
          1
         ],
         "title": {
          "text": "Final_Rank"
         }
        }
       }
      }
     },
     "metadata": {},
     "output_type": "display_data"
    }
   ],
   "source": [
    "chart1= px.scatter(top_500_unis, x='Total_Score', y='Final_Rank', color='location', title='World Rank & Score by location')\n",
    "chart1.show()"
   ]
  },
  {
   "cell_type": "code",
   "execution_count": 28,
   "metadata": {},
   "outputs": [
    {
     "data": {
      "application/vnd.plotly.v1+json": {
       "config": {
        "plotlyServerURL": "https://plot.ly"
       },
       "data": [
        {
         "hovertemplate": "location=United Kingdom<br>Final_Rank=%{x}<br>scores_research=%{y}<extra></extra>",
         "legendgroup": "United Kingdom",
         "marker": {
          "color": "#636efa",
          "symbol": "circle"
         },
         "mode": "markers",
         "name": "United Kingdom",
         "orientation": "v",
         "showlegend": true,
         "type": "scatter",
         "x": [
          1,
          5,
          7,
          19,
          28,
          33,
          37,
          47,
          54,
          61,
          74,
          82,
          83,
          87,
          105,
          106,
          107,
          108,
          113,
          114,
          116,
          127,
          129,
          140,
          164,
          180,
          187,
          195,
          204,
          207,
          216,
          224,
          249,
          254,
          269,
          285,
          305,
          313,
          315,
          334,
          339,
          340,
          350,
          351,
          357,
          360,
          373,
          380,
          387,
          397,
          401,
          402,
          403,
          406,
          414,
          417,
          434,
          447,
          461,
          463,
          466,
          468,
          469,
          474,
          479,
          490
         ],
         "xaxis": "x",
         "y": [
          100,
          100,
          95.5,
          86.4,
          77.5,
          75.1,
          73.5,
          67.1,
          56.5,
          51.8,
          49.3,
          50.1,
          42.6,
          49.5,
          52.1,
          40.7,
          42.5,
          45.9,
          41.1,
          40.2,
          44.8,
          49.1,
          34.2,
          39.6,
          35.6,
          38,
          44.5,
          32,
          34.5,
          40.6,
          25.8,
          30.2,
          42.6,
          35.8,
          32.1,
          35.1,
          31.8,
          21.1,
          34.4,
          29.3,
          26.5,
          29.7,
          26.5,
          26.2,
          30.9,
          20,
          16.3,
          29,
          14.3,
          21.9,
          18.5,
          18.7,
          35.5,
          17.5,
          15,
          20.7,
          25.2,
          24.3,
          19.3,
          18.4,
          22,
          22.7,
          25.3,
          18.5,
          12.8,
          22.4
         ],
         "yaxis": "y"
        },
        {
         "hovertemplate": "location=United States<br>Final_Rank=%{x}<br>scores_research=%{y}<extra></extra>",
         "legendgroup": "United States",
         "marker": {
          "color": "#EF553B",
          "symbol": "circle"
         },
         "mode": "markers",
         "name": "United States",
         "orientation": "v",
         "showlegend": true,
         "type": "scatter",
         "x": [
          2,
          3,
          4,
          6,
          8,
          9,
          10,
          11,
          13,
          14,
          15,
          16,
          18,
          21,
          22,
          23,
          26,
          27,
          29,
          30,
          34,
          48,
          49,
          50,
          55,
          57,
          60,
          62,
          65,
          66,
          69,
          75,
          78,
          80,
          86,
          97,
          104,
          109,
          117,
          119,
          121,
          126,
          130,
          136,
          137,
          138,
          145,
          147,
          163,
          165,
          171,
          174,
          181,
          189,
          191,
          192,
          194,
          196,
          205,
          220,
          222,
          225,
          231,
          232,
          255,
          262,
          263,
          267,
          270,
          273,
          278,
          284,
          286,
          294,
          300,
          301,
          303,
          316,
          317,
          328,
          337,
          345,
          348,
          367,
          381,
          383,
          384,
          399,
          408,
          420,
          423,
          428,
          429,
          431,
          432,
          433,
          438,
          442,
          443,
          445,
          448,
          451,
          462,
          465,
          472,
          477,
          487
         ],
         "xaxis": "x",
         "y": [
          96.2,
          97.8,
          99.9,
          97.9,
          98.8,
          98,
          94.9,
          91.2,
          89.7,
          89.7,
          92.3,
          88.7,
          91.9,
          84.6,
          87.4,
          83.5,
          78.8,
          76.1,
          84,
          78.4,
          78.9,
          57.2,
          64.7,
          75.7,
          81.5,
          60.3,
          54.1,
          59.6,
          58.8,
          67.8,
          48.5,
          67.5,
          45.7,
          53.8,
          58.1,
          58.5,
          52.7,
          46.1,
          46.9,
          52.3,
          45.6,
          42.9,
          51.9,
          33.6,
          39.8,
          58.7,
          40.2,
          40.1,
          51.3,
          46.2,
          40.7,
          35,
          62.1,
          65.3,
          37,
          56.7,
          35.7,
          38.4,
          38.5,
          36.4,
          23.7,
          34.7,
          35.4,
          21.3,
          30.5,
          28.3,
          33.9,
          42.6,
          31.6,
          37,
          29.7,
          37.2,
          39.4,
          24.3,
          28.3,
          42.5,
          38.6,
          26,
          23.9,
          41.4,
          27.5,
          34.1,
          23.2,
          22,
          30.5,
          34.5,
          16.3,
          30.2,
          25.9,
          24.6,
          31.7,
          24.4,
          30.8,
          31.8,
          16.4,
          34.4,
          14.2,
          28.2,
          25.3,
          40.5,
          29.3,
          31.1,
          34.5,
          22.5,
          25.4,
          26.9,
          28.7
         ],
         "yaxis": "y"
        },
        {
         "hovertemplate": "location=Switzerland<br>Final_Rank=%{x}<br>scores_research=%{y}<extra></extra>",
         "legendgroup": "Switzerland",
         "marker": {
          "color": "#00cc96",
          "symbol": "circle"
         },
         "mode": "markers",
         "name": "Switzerland",
         "orientation": "v",
         "showlegend": true,
         "type": "scatter",
         "x": [
          12,
          36,
          73,
          92,
          118,
          144,
          175,
          260,
          323
         ],
         "xaxis": "x",
         "y": [
          96.8,
          73.2,
          53.4,
          47,
          42.9,
          46.3,
          38,
          26.4,
          21
         ],
         "yaxis": "y"
        },
        {
         "hovertemplate": "location=China<br>Final_Rank=%{x}<br>scores_research=%{y}<extra></extra>",
         "legendgroup": "China",
         "marker": {
          "color": "#ab63fa",
          "symbol": "circle"
         },
         "mode": "markers",
         "name": "China",
         "orientation": "v",
         "showlegend": true,
         "type": "scatter",
         "x": [
          17,
          25,
          59,
          63,
          88,
          90,
          93,
          134,
          150,
          161,
          230,
          235,
          236,
          237,
          272,
          289,
          291,
          292,
          302,
          310,
          322,
          325,
          331,
          344,
          369,
          370,
          385,
          389,
          407,
          415,
          416,
          444,
          467,
          498
         ],
         "xaxis": "x",
         "y": [
          98.1,
          97.3,
          66.3,
          75.3,
          82.5,
          61.7,
          75.3,
          48.1,
          45,
          40.8,
          31.4,
          45.8,
          39.5,
          30.4,
          38.2,
          57.3,
          55.1,
          33.5,
          34.3,
          53.6,
          35.2,
          44,
          47.6,
          35.1,
          40.6,
          48,
          36.7,
          38.2,
          46.3,
          24.3,
          43.5,
          18.4,
          19.8,
          21.2
         ],
         "yaxis": "y"
        },
        {
         "hovertemplate": "location=Singapore<br>Final_Rank=%{x}<br>scores_research=%{y}<extra></extra>",
         "legendgroup": "Singapore",
         "marker": {
          "color": "#FFA15A",
          "symbol": "circle"
         },
         "mode": "markers",
         "name": "Singapore",
         "orientation": "v",
         "showlegend": true,
         "type": "scatter",
         "x": [
          20,
          31
         ],
         "xaxis": "x",
         "y": [
          94,
          80.9
         ],
         "yaxis": "y"
        },
        {
         "hovertemplate": "location=Canada<br>Final_Rank=%{x}<br>scores_research=%{y}<extra></extra>",
         "legendgroup": "Canada",
         "marker": {
          "color": "#19d3f3",
          "symbol": "circle"
         },
         "mode": "markers",
         "name": "Canada",
         "orientation": "v",
         "showlegend": true,
         "type": "scatter",
         "x": [
          24,
          43,
          52,
          84,
          153,
          158,
          176,
          186,
          243,
          251,
          297,
          329,
          335,
          343,
          365,
          377,
          392
         ],
         "xaxis": "x",
         "y": [
          94.1,
          76.6,
          72.3,
          51.3,
          54.1,
          55.5,
          49.3,
          46.5,
          41.4,
          36.7,
          42.9,
          31.6,
          31.2,
          38.7,
          32.4,
          38,
          34.7
         ],
         "yaxis": "y"
        },
        {
         "hovertemplate": "location=Hong Kong<br>Final_Rank=%{x}<br>scores_research=%{y}<extra></extra>",
         "legendgroup": "Hong Kong",
         "marker": {
          "color": "#FF6692",
          "symbol": "circle"
         },
         "mode": "markers",
         "name": "Hong Kong",
         "orientation": "v",
         "showlegend": true,
         "type": "scatter",
         "x": [
          32,
          38,
          56,
          70,
          77,
          349
         ],
         "xaxis": "x",
         "y": [
          72.3,
          61.5,
          62.1,
          54.1,
          52.4,
          28.9
         ],
         "yaxis": "y"
        },
        {
         "hovertemplate": "location=Germany<br>Final_Rank=%{x}<br>scores_research=%{y}<extra></extra>",
         "legendgroup": "Germany",
         "marker": {
          "color": "#B6E880",
          "symbol": "circle"
         },
         "mode": "markers",
         "name": "Germany",
         "orientation": "v",
         "showlegend": true,
         "type": "scatter",
         "x": [
          35,
          39,
          40,
          67,
          89,
          100,
          101,
          112,
          133,
          135,
          139,
          149,
          157,
          162,
          169,
          178,
          201,
          202,
          211,
          233,
          240,
          246,
          248,
          253,
          257,
          276,
          281,
          308,
          352,
          354,
          356,
          400,
          422,
          425,
          437,
          458,
          486,
          495
         ],
         "xaxis": "x",
         "y": [
          85.1,
          76.8,
          64.3,
          49.1,
          57.7,
          54.8,
          56.5,
          63.7,
          59.7,
          51.3,
          43.4,
          64.8,
          45.4,
          53.3,
          47.1,
          41.2,
          47.3,
          55.6,
          51.1,
          42,
          48.1,
          35.5,
          38.2,
          56.8,
          44.7,
          32.6,
          34.5,
          33.3,
          22.9,
          44.4,
          46.7,
          38,
          29.9,
          39,
          49.5,
          48.1,
          40.8,
          31.4
         ],
         "yaxis": "y"
        },
        {
         "hovertemplate": "location=Sweden<br>Final_Rank=%{x}<br>scores_research=%{y}<extra></extra>",
         "legendgroup": "Sweden",
         "marker": {
          "color": "#FF97FF",
          "symbol": "circle"
         },
         "mode": "markers",
         "name": "Sweden",
         "orientation": "v",
         "showlegend": true,
         "type": "scatter",
         "x": [
          41,
          111,
          141,
          143,
          173,
          185,
          228,
          234,
          338,
          364,
          484,
          489
         ],
         "xaxis": "x",
         "y": [
          67.9,
          56.6,
          49.6,
          57.8,
          43.4,
          55,
          41.3,
          46.6,
          34.9,
          33.5,
          22.5,
          19.2
         ],
         "yaxis": "y"
        },
        {
         "hovertemplate": "location=Australia<br>Final_Rank=%{x}<br>scores_research=%{y}<extra></extra>",
         "legendgroup": "Australia",
         "marker": {
          "color": "#FECB52",
          "symbol": "circle"
         },
         "mode": "markers",
         "name": "Australia",
         "orientation": "v",
         "showlegend": true,
         "type": "scatter",
         "x": [
          42,
          45,
          53,
          72,
          76,
          79,
          91,
          99,
          132,
          167,
          168,
          179,
          188,
          206,
          210,
          215,
          218,
          221,
          241,
          245,
          265,
          266,
          274,
          287,
          293,
          320,
          326,
          332,
          358,
          359,
          439,
          452,
          485
         ],
         "xaxis": "x",
         "y": [
          76.4,
          67.8,
          68.9,
          64.3,
          68,
          57.4,
          50.6,
          43.3,
          48.6,
          42.1,
          44.2,
          34,
          34.6,
          36.5,
          25.7,
          39.3,
          35.4,
          38.8,
          31.7,
          36.2,
          25.9,
          38.4,
          37.8,
          26.2,
          36.8,
          31.6,
          35.4,
          29.6,
          30.9,
          23.1,
          32.5,
          29.9,
          26.7
         ],
         "yaxis": "y"
        },
        {
         "hovertemplate": "location=Netherlands<br>Final_Rank=%{x}<br>scores_research=%{y}<extra></extra>",
         "legendgroup": "Netherlands",
         "marker": {
          "color": "#636efa",
          "symbol": "circle"
         },
         "mode": "markers",
         "name": "Netherlands",
         "orientation": "v",
         "showlegend": true,
         "type": "scatter",
         "x": [
          44,
          51,
          64,
          68,
          71,
          95,
          96,
          110,
          152,
          261,
          271,
          288
         ],
         "xaxis": "x",
         "y": [
          63.1,
          59.8,
          57.2,
          62.7,
          54.1,
          78.2,
          51,
          51,
          47.1,
          44.9,
          46,
          51.5
         ],
         "yaxis": "y"
        },
        {
         "hovertemplate": "location=Belgium<br>Final_Rank=%{x}<br>scores_research=%{y}<extra></extra>",
         "legendgroup": "Belgium",
         "marker": {
          "color": "#EF553B",
          "symbol": "circle"
         },
         "mode": "markers",
         "name": "Belgium",
         "orientation": "v",
         "showlegend": true,
         "type": "scatter",
         "x": [
          46,
          122,
          128,
          190,
          209,
          247,
          391,
          440
         ],
         "xaxis": "x",
         "y": [
          74.9,
          44.4,
          59.3,
          49.4,
          45,
          42.6,
          38.7,
          38.1
         ],
         "yaxis": "y"
        },
        {
         "hovertemplate": "location=France<br>Final_Rank=%{x}<br>scores_research=%{y}<extra></extra>",
         "legendgroup": "France",
         "marker": {
          "color": "#00cc96",
          "symbol": "circle"
         },
         "mode": "markers",
         "name": "France",
         "orientation": "v",
         "showlegend": true,
         "type": "scatter",
         "x": [
          58,
          81,
          98,
          125,
          170,
          371,
          404,
          419,
          441
         ],
         "xaxis": "x",
         "y": [
          72.8,
          66.1,
          60.8,
          42.7,
          61.6,
          35.6,
          27.2,
          29.9,
          37.9
         ],
         "yaxis": "y"
        },
        {
         "hovertemplate": "location=Japan<br>Final_Rank=%{x}<br>scores_research=%{y}<extra></extra>",
         "legendgroup": "Japan",
         "marker": {
          "color": "#ab63fa",
          "symbol": "circle"
         },
         "mode": "markers",
         "name": "Japan",
         "orientation": "v",
         "showlegend": true,
         "type": "scatter",
         "x": [
          85,
          203,
          398
         ],
         "xaxis": "x",
         "y": [
          94.2,
          84.3,
          66.4
         ],
         "yaxis": "y"
        },
        {
         "hovertemplate": "location=Denmark<br>Final_Rank=%{x}<br>scores_research=%{y}<extra></extra>",
         "legendgroup": "Denmark",
         "marker": {
          "color": "#FFA15A",
          "symbol": "circle"
         },
         "mode": "markers",
         "name": "Denmark",
         "orientation": "v",
         "showlegend": true,
         "type": "scatter",
         "x": [
          94,
          115,
          156,
          212,
          213,
          238
         ],
         "xaxis": "x",
         "y": [
          51.1,
          59,
          47.4,
          33.5,
          32.3,
          45
         ],
         "yaxis": "y"
        },
        {
         "hovertemplate": "location=Norway<br>Final_Rank=%{x}<br>scores_research=%{y}<extra></extra>",
         "legendgroup": "Norway",
         "marker": {
          "color": "#19d3f3",
          "symbol": "circle"
         },
         "mode": "markers",
         "name": "Norway",
         "orientation": "v",
         "showlegend": true,
         "type": "scatter",
         "x": [
          102,
          252,
          372
         ],
         "xaxis": "x",
         "y": [
          50.6,
          33.9,
          38.4
         ],
         "yaxis": "y"
        },
        {
         "hovertemplate": "location=Finland<br>Final_Rank=%{x}<br>scores_research=%{y}<extra></extra>",
         "legendgroup": "Finland",
         "marker": {
          "color": "#FF6692",
          "symbol": "circle"
         },
         "mode": "markers",
         "name": "Finland",
         "orientation": "v",
         "showlegend": true,
         "type": "scatter",
         "x": [
          103,
          182,
          244,
          264,
          277,
          299,
          312,
          379
         ],
         "xaxis": "x",
         "y": [
          57.6,
          36.7,
          43.1,
          38.2,
          27.7,
          34.9,
          38.4,
          34.1
         ],
         "yaxis": "y"
        },
        {
         "hovertemplate": "location=South Korea<br>Final_Rank=%{x}<br>scores_research=%{y}<extra></extra>",
         "legendgroup": "South Korea",
         "marker": {
          "color": "#B6E880",
          "symbol": "circle"
         },
         "mode": "markers",
         "name": "South Korea",
         "orientation": "v",
         "showlegend": true,
         "type": "scatter",
         "x": [
          120,
          124,
          146,
          166,
          200,
          219,
          250,
          311,
          382,
          493
         ],
         "xaxis": "x",
         "y": [
          64.3,
          75.3,
          65.8,
          34.5,
          40.8,
          51.5,
          54.2,
          46.6,
          40,
          38.9
         ],
         "yaxis": "y"
        },
        {
         "hovertemplate": "location=Spain<br>Final_Rank=%{x}<br>scores_research=%{y}<extra></extra>",
         "legendgroup": "Spain",
         "marker": {
          "color": "#FF97FF",
          "symbol": "circle"
         },
         "mode": "markers",
         "name": "Spain",
         "orientation": "v",
         "showlegend": true,
         "type": "scatter",
         "x": [
          123,
          172,
          197,
          295,
          375,
          456
         ],
         "xaxis": "x",
         "y": [
          47.3,
          38.3,
          41.4,
          30.4,
          29.9,
          25.6
         ],
         "yaxis": "y"
        },
        {
         "hovertemplate": "location=Ireland<br>Final_Rank=%{x}<br>scores_research=%{y}<extra></extra>",
         "legendgroup": "Ireland",
         "marker": {
          "color": "#FECB52",
          "symbol": "circle"
         },
         "mode": "markers",
         "name": "Ireland",
         "orientation": "v",
         "showlegend": true,
         "type": "scatter",
         "x": [
          131,
          226,
          275,
          307,
          361,
          393,
          413
         ],
         "xaxis": "x",
         "y": [
          48.4,
          41.3,
          36.6,
          31.6,
          33.8,
          35.2,
          30.7
         ],
         "yaxis": "y"
        },
        {
         "hovertemplate": "location=New Zealand<br>Final_Rank=%{x}<br>scores_research=%{y}<extra></extra>",
         "legendgroup": "New Zealand",
         "marker": {
          "color": "#636efa",
          "symbol": "circle"
         },
         "mode": "markers",
         "name": "New Zealand",
         "orientation": "v",
         "showlegend": true,
         "type": "scatter",
         "x": [
          142,
          346,
          355,
          409,
          491
         ],
         "xaxis": "x",
         "y": [
          45.7,
          21.2,
          35.1,
          31,
          34.1
         ],
         "yaxis": "y"
        },
        {
         "hovertemplate": "location=Italy<br>Final_Rank=%{x}<br>scores_research=%{y}<extra></extra>",
         "legendgroup": "Italy",
         "marker": {
          "color": "#EF553B",
          "symbol": "circle"
         },
         "mode": "markers",
         "name": "Italy",
         "orientation": "v",
         "showlegend": true,
         "type": "scatter",
         "x": [
          148,
          155,
          159,
          184,
          223,
          229,
          239,
          242,
          256,
          268,
          279,
          296,
          298,
          314,
          318,
          333,
          336,
          341,
          347,
          366,
          374,
          386,
          394,
          395,
          410,
          427,
          450,
          453,
          455,
          470,
          473,
          475,
          492
         ],
         "xaxis": "x",
         "y": [
          27.9,
          26.9,
          44.6,
          42.6,
          38.5,
          30,
          48.1,
          39,
          26,
          31.8,
          28.3,
          32.3,
          22.8,
          19.2,
          49.7,
          26.2,
          34.8,
          30.1,
          34.4,
          31.2,
          33.5,
          28.3,
          22.7,
          24.6,
          25.3,
          29,
          30.2,
          22.7,
          24.4,
          27.6,
          25.6,
          25.1,
          24.9
         ],
         "yaxis": "y"
        },
        {
         "hovertemplate": "location=Austria<br>Final_Rank=%{x}<br>scores_research=%{y}<extra></extra>",
         "legendgroup": "Austria",
         "marker": {
          "color": "#00cc96",
          "symbol": "circle"
         },
         "mode": "markers",
         "name": "Austria",
         "orientation": "v",
         "showlegend": true,
         "type": "scatter",
         "x": [
          151,
          177,
          183,
          198,
          412,
          499
         ],
         "xaxis": "x",
         "y": [
          28.7,
          33.5,
          60.3,
          29.3,
          33.1,
          19.4
         ],
         "yaxis": "y"
        },
        {
         "hovertemplate": "location=South Africa<br>Final_Rank=%{x}<br>scores_research=%{y}<extra></extra>",
         "legendgroup": "South Africa",
         "marker": {
          "color": "#ab63fa",
          "symbol": "circle"
         },
         "mode": "markers",
         "name": "South Africa",
         "orientation": "v",
         "showlegend": true,
         "type": "scatter",
         "x": [
          154,
          342,
          378
         ],
         "xaxis": "x",
         "y": [
          47,
          39.5,
          42.9
         ],
         "yaxis": "y"
        },
        {
         "hovertemplate": "location=Macao<br>Final_Rank=%{x}<br>scores_research=%{y}<extra></extra>",
         "legendgroup": "Macao",
         "marker": {
          "color": "#FFA15A",
          "symbol": "circle"
         },
         "mode": "markers",
         "name": "Macao",
         "orientation": "v",
         "showlegend": true,
         "type": "scatter",
         "x": [
          160,
          309
         ],
         "xaxis": "x",
         "y": [
          38.1,
          34.2
         ],
         "yaxis": "y"
        },
        {
         "hovertemplate": "location=Saudi Arabia<br>Final_Rank=%{x}<br>scores_research=%{y}<extra></extra>",
         "legendgroup": "Saudi Arabia",
         "marker": {
          "color": "#19d3f3",
          "symbol": "circle"
         },
         "mode": "markers",
         "name": "Saudi Arabia",
         "orientation": "v",
         "showlegend": true,
         "type": "scatter",
         "x": [
          193,
          199,
          319,
          330,
          396,
          464
         ],
         "xaxis": "x",
         "y": [
          38.7,
          28.6,
          19.9,
          20.5,
          17.8,
          12
         ],
         "yaxis": "y"
        },
        {
         "hovertemplate": "location=Taiwan<br>Final_Rank=%{x}<br>scores_research=%{y}<extra></extra>",
         "legendgroup": "Taiwan",
         "marker": {
          "color": "#FF6692",
          "symbol": "circle"
         },
         "mode": "markers",
         "name": "Taiwan",
         "orientation": "v",
         "showlegend": true,
         "type": "scatter",
         "x": [
          208,
          280,
          390
         ],
         "xaxis": "x",
         "y": [
          32.8,
          54.8,
          36.6
         ],
         "yaxis": "y"
        },
        {
         "hovertemplate": "location=Israel<br>Final_Rank=%{x}<br>scores_research=%{y}<extra></extra>",
         "legendgroup": "Israel",
         "marker": {
          "color": "#B6E880",
          "symbol": "circle"
         },
         "mode": "markers",
         "name": "Israel",
         "orientation": "v",
         "showlegend": true,
         "type": "scatter",
         "x": [
          214,
          424,
          496
         ],
         "xaxis": "x",
         "y": [
          49.7,
          36.3,
          34
         ],
         "yaxis": "y"
        },
        {
         "hovertemplate": "location=United Arab Emirates<br>Final_Rank=%{x}<br>scores_research=%{y}<extra></extra>",
         "legendgroup": "United Arab Emirates",
         "marker": {
          "color": "#FF97FF",
          "symbol": "circle"
         },
         "mode": "markers",
         "name": "United Arab Emirates",
         "orientation": "v",
         "showlegend": true,
         "type": "scatter",
         "x": [
          217,
          227,
          283,
          304,
          306
         ],
         "xaxis": "x",
         "y": [
          25.7,
          30,
          34.5,
          35.9,
          25.4
         ],
         "yaxis": "y"
        },
        {
         "hovertemplate": "location=Qatar<br>Final_Rank=%{x}<br>scores_research=%{y}<extra></extra>",
         "legendgroup": "Qatar",
         "marker": {
          "color": "#FECB52",
          "symbol": "circle"
         },
         "mode": "markers",
         "name": "Qatar",
         "orientation": "v",
         "showlegend": true,
         "type": "scatter",
         "x": [
          258
         ],
         "xaxis": "x",
         "y": [
          35.6
         ],
         "yaxis": "y"
        },
        {
         "hovertemplate": "location=Estonia<br>Final_Rank=%{x}<br>scores_research=%{y}<extra></extra>",
         "legendgroup": "Estonia",
         "marker": {
          "color": "#636efa",
          "symbol": "circle"
         },
         "mode": "markers",
         "name": "Estonia",
         "orientation": "v",
         "showlegend": true,
         "type": "scatter",
         "x": [
          259
         ],
         "xaxis": "x",
         "y": [
          31.8
         ],
         "yaxis": "y"
        },
        {
         "hovertemplate": "location=Luxembourg<br>Final_Rank=%{x}<br>scores_research=%{y}<extra></extra>",
         "legendgroup": "Luxembourg",
         "marker": {
          "color": "#EF553B",
          "symbol": "circle"
         },
         "mode": "markers",
         "name": "Luxembourg",
         "orientation": "v",
         "showlegend": true,
         "type": "scatter",
         "x": [
          282
         ],
         "xaxis": "x",
         "y": [
          39.4
         ],
         "yaxis": "y"
        },
        {
         "hovertemplate": "location=Iran<br>Final_Rank=%{x}<br>scores_research=%{y}<extra></extra>",
         "legendgroup": "Iran",
         "marker": {
          "color": "#00cc96",
          "symbol": "circle"
         },
         "mode": "markers",
         "name": "Iran",
         "orientation": "v",
         "showlegend": true,
         "type": "scatter",
         "x": [
          290,
          327,
          388,
          405,
          421,
          426,
          488
         ],
         "xaxis": "x",
         "y": [
          21.5,
          37.4,
          33.7,
          37.4,
          23.4,
          22.8,
          28.4
         ],
         "yaxis": "y"
        },
        {
         "hovertemplate": "location=Malaysia<br>Final_Rank=%{x}<br>scores_research=%{y}<extra></extra>",
         "legendgroup": "Malaysia",
         "marker": {
          "color": "#ab63fa",
          "symbol": "circle"
         },
         "mode": "markers",
         "name": "Malaysia",
         "orientation": "v",
         "showlegend": true,
         "type": "scatter",
         "x": [
          321,
          368,
          481
         ],
         "xaxis": "x",
         "y": [
          37.8,
          35.4,
          27.6
         ],
         "yaxis": "y"
        },
        {
         "hovertemplate": "location=Hungary<br>Final_Rank=%{x}<br>scores_research=%{y}<extra></extra>",
         "legendgroup": "Hungary",
         "marker": {
          "color": "#FFA15A",
          "symbol": "circle"
         },
         "mode": "markers",
         "name": "Hungary",
         "orientation": "v",
         "showlegend": true,
         "type": "scatter",
         "x": [
          324
         ],
         "xaxis": "x",
         "y": [
          27.8
         ],
         "yaxis": "y"
        },
        {
         "hovertemplate": "location=Pakistan<br>Final_Rank=%{x}<br>scores_research=%{y}<extra></extra>",
         "legendgroup": "Pakistan",
         "marker": {
          "color": "#19d3f3",
          "symbol": "circle"
         },
         "mode": "markers",
         "name": "Pakistan",
         "orientation": "v",
         "showlegend": true,
         "type": "scatter",
         "x": [
          353,
          376,
          430,
          459,
          497
         ],
         "xaxis": "x",
         "y": [
          24.1,
          16.6,
          15,
          12.5,
          12.8
         ],
         "yaxis": "y"
        },
        {
         "hovertemplate": "location=India<br>Final_Rank=%{x}<br>scores_research=%{y}<extra></extra>",
         "legendgroup": "India",
         "marker": {
          "color": "#FF6692",
          "symbol": "circle"
         },
         "mode": "markers",
         "name": "India",
         "orientation": "v",
         "showlegend": true,
         "type": "scatter",
         "x": [
          362,
          435,
          478
         ],
         "xaxis": "x",
         "y": [
          17.9,
          11.9,
          14.4
         ],
         "yaxis": "y"
        },
        {
         "hovertemplate": "location=Vietnam<br>Final_Rank=%{x}<br>scores_research=%{y}<extra></extra>",
         "legendgroup": "Vietnam",
         "marker": {
          "color": "#B6E880",
          "symbol": "circle"
         },
         "mode": "markers",
         "name": "Vietnam",
         "orientation": "v",
         "showlegend": true,
         "type": "scatter",
         "x": [
          363,
          411
         ],
         "xaxis": "x",
         "y": [
          16,
          14.2
         ],
         "yaxis": "y"
        },
        {
         "hovertemplate": "location=Brunei Darussalam<br>Final_Rank=%{x}<br>scores_research=%{y}<extra></extra>",
         "legendgroup": "Brunei Darussalam",
         "marker": {
          "color": "#FF97FF",
          "symbol": "circle"
         },
         "mode": "markers",
         "name": "Brunei Darussalam",
         "orientation": "v",
         "showlegend": true,
         "type": "scatter",
         "x": [
          418
         ],
         "xaxis": "x",
         "y": [
          28.9
         ],
         "yaxis": "y"
        },
        {
         "hovertemplate": "location=Brazil<br>Final_Rank=%{x}<br>scores_research=%{y}<extra></extra>",
         "legendgroup": "Brazil",
         "marker": {
          "color": "#FECB52",
          "symbol": "circle"
         },
         "mode": "markers",
         "name": "Brazil",
         "orientation": "v",
         "showlegend": true,
         "type": "scatter",
         "x": [
          436
         ],
         "xaxis": "x",
         "y": [
          60.7
         ],
         "yaxis": "y"
        },
        {
         "hovertemplate": "location=Greece<br>Final_Rank=%{x}<br>scores_research=%{y}<extra></extra>",
         "legendgroup": "Greece",
         "marker": {
          "color": "#636efa",
          "symbol": "circle"
         },
         "mode": "markers",
         "name": "Greece",
         "orientation": "v",
         "showlegend": true,
         "type": "scatter",
         "x": [
          446,
          500
         ],
         "xaxis": "x",
         "y": [
          23.9,
          25.7
         ],
         "yaxis": "y"
        },
        {
         "hovertemplate": "location=Turkey<br>Final_Rank=%{x}<br>scores_research=%{y}<extra></extra>",
         "legendgroup": "Turkey",
         "marker": {
          "color": "#EF553B",
          "symbol": "circle"
         },
         "mode": "markers",
         "name": "Turkey",
         "orientation": "v",
         "showlegend": true,
         "type": "scatter",
         "x": [
          449,
          457,
          476
         ],
         "xaxis": "x",
         "y": [
          37.9,
          40.5,
          15.4
         ],
         "yaxis": "y"
        },
        {
         "hovertemplate": "location=Cyprus<br>Final_Rank=%{x}<br>scores_research=%{y}<extra></extra>",
         "legendgroup": "Cyprus",
         "marker": {
          "color": "#00cc96",
          "symbol": "circle"
         },
         "mode": "markers",
         "name": "Cyprus",
         "orientation": "v",
         "showlegend": true,
         "type": "scatter",
         "x": [
          454,
          471
         ],
         "xaxis": "x",
         "y": [
          25.8,
          21
         ],
         "yaxis": "y"
        },
        {
         "hovertemplate": "location=Portugal<br>Final_Rank=%{x}<br>scores_research=%{y}<extra></extra>",
         "legendgroup": "Portugal",
         "marker": {
          "color": "#ab63fa",
          "symbol": "circle"
         },
         "mode": "markers",
         "name": "Portugal",
         "orientation": "v",
         "showlegend": true,
         "type": "scatter",
         "x": [
          460,
          482
         ],
         "xaxis": "x",
         "y": [
          35.4,
          38
         ],
         "yaxis": "y"
        },
        {
         "hovertemplate": "location=Russian Federation<br>Final_Rank=%{x}<br>scores_research=%{y}<extra></extra>",
         "legendgroup": "Russian Federation",
         "marker": {
          "color": "#FFA15A",
          "symbol": "circle"
         },
         "mode": "markers",
         "name": "Russian Federation",
         "orientation": "v",
         "showlegend": true,
         "type": "scatter",
         "x": [
          480,
          483
         ],
         "xaxis": "x",
         "y": [
          31.3,
          48.8
         ],
         "yaxis": "y"
        },
        {
         "hovertemplate": "location=Lebanon<br>Final_Rank=%{x}<br>scores_research=%{y}<extra></extra>",
         "legendgroup": "Lebanon",
         "marker": {
          "color": "#19d3f3",
          "symbol": "circle"
         },
         "mode": "markers",
         "name": "Lebanon",
         "orientation": "v",
         "showlegend": true,
         "type": "scatter",
         "x": [
          494
         ],
         "xaxis": "x",
         "y": [
          13.2
         ],
         "yaxis": "y"
        }
       ],
       "layout": {
        "legend": {
         "title": {
          "text": "location"
         },
         "tracegroupgap": 0
        },
        "template": {
         "data": {
          "bar": [
           {
            "error_x": {
             "color": "#2a3f5f"
            },
            "error_y": {
             "color": "#2a3f5f"
            },
            "marker": {
             "line": {
              "color": "#E5ECF6",
              "width": 0.5
             },
             "pattern": {
              "fillmode": "overlay",
              "size": 10,
              "solidity": 0.2
             }
            },
            "type": "bar"
           }
          ],
          "barpolar": [
           {
            "marker": {
             "line": {
              "color": "#E5ECF6",
              "width": 0.5
             },
             "pattern": {
              "fillmode": "overlay",
              "size": 10,
              "solidity": 0.2
             }
            },
            "type": "barpolar"
           }
          ],
          "carpet": [
           {
            "aaxis": {
             "endlinecolor": "#2a3f5f",
             "gridcolor": "white",
             "linecolor": "white",
             "minorgridcolor": "white",
             "startlinecolor": "#2a3f5f"
            },
            "baxis": {
             "endlinecolor": "#2a3f5f",
             "gridcolor": "white",
             "linecolor": "white",
             "minorgridcolor": "white",
             "startlinecolor": "#2a3f5f"
            },
            "type": "carpet"
           }
          ],
          "choropleth": [
           {
            "colorbar": {
             "outlinewidth": 0,
             "ticks": ""
            },
            "type": "choropleth"
           }
          ],
          "contour": [
           {
            "colorbar": {
             "outlinewidth": 0,
             "ticks": ""
            },
            "colorscale": [
             [
              0,
              "#0d0887"
             ],
             [
              0.1111111111111111,
              "#46039f"
             ],
             [
              0.2222222222222222,
              "#7201a8"
             ],
             [
              0.3333333333333333,
              "#9c179e"
             ],
             [
              0.4444444444444444,
              "#bd3786"
             ],
             [
              0.5555555555555556,
              "#d8576b"
             ],
             [
              0.6666666666666666,
              "#ed7953"
             ],
             [
              0.7777777777777778,
              "#fb9f3a"
             ],
             [
              0.8888888888888888,
              "#fdca26"
             ],
             [
              1,
              "#f0f921"
             ]
            ],
            "type": "contour"
           }
          ],
          "contourcarpet": [
           {
            "colorbar": {
             "outlinewidth": 0,
             "ticks": ""
            },
            "type": "contourcarpet"
           }
          ],
          "heatmap": [
           {
            "colorbar": {
             "outlinewidth": 0,
             "ticks": ""
            },
            "colorscale": [
             [
              0,
              "#0d0887"
             ],
             [
              0.1111111111111111,
              "#46039f"
             ],
             [
              0.2222222222222222,
              "#7201a8"
             ],
             [
              0.3333333333333333,
              "#9c179e"
             ],
             [
              0.4444444444444444,
              "#bd3786"
             ],
             [
              0.5555555555555556,
              "#d8576b"
             ],
             [
              0.6666666666666666,
              "#ed7953"
             ],
             [
              0.7777777777777778,
              "#fb9f3a"
             ],
             [
              0.8888888888888888,
              "#fdca26"
             ],
             [
              1,
              "#f0f921"
             ]
            ],
            "type": "heatmap"
           }
          ],
          "heatmapgl": [
           {
            "colorbar": {
             "outlinewidth": 0,
             "ticks": ""
            },
            "colorscale": [
             [
              0,
              "#0d0887"
             ],
             [
              0.1111111111111111,
              "#46039f"
             ],
             [
              0.2222222222222222,
              "#7201a8"
             ],
             [
              0.3333333333333333,
              "#9c179e"
             ],
             [
              0.4444444444444444,
              "#bd3786"
             ],
             [
              0.5555555555555556,
              "#d8576b"
             ],
             [
              0.6666666666666666,
              "#ed7953"
             ],
             [
              0.7777777777777778,
              "#fb9f3a"
             ],
             [
              0.8888888888888888,
              "#fdca26"
             ],
             [
              1,
              "#f0f921"
             ]
            ],
            "type": "heatmapgl"
           }
          ],
          "histogram": [
           {
            "marker": {
             "pattern": {
              "fillmode": "overlay",
              "size": 10,
              "solidity": 0.2
             }
            },
            "type": "histogram"
           }
          ],
          "histogram2d": [
           {
            "colorbar": {
             "outlinewidth": 0,
             "ticks": ""
            },
            "colorscale": [
             [
              0,
              "#0d0887"
             ],
             [
              0.1111111111111111,
              "#46039f"
             ],
             [
              0.2222222222222222,
              "#7201a8"
             ],
             [
              0.3333333333333333,
              "#9c179e"
             ],
             [
              0.4444444444444444,
              "#bd3786"
             ],
             [
              0.5555555555555556,
              "#d8576b"
             ],
             [
              0.6666666666666666,
              "#ed7953"
             ],
             [
              0.7777777777777778,
              "#fb9f3a"
             ],
             [
              0.8888888888888888,
              "#fdca26"
             ],
             [
              1,
              "#f0f921"
             ]
            ],
            "type": "histogram2d"
           }
          ],
          "histogram2dcontour": [
           {
            "colorbar": {
             "outlinewidth": 0,
             "ticks": ""
            },
            "colorscale": [
             [
              0,
              "#0d0887"
             ],
             [
              0.1111111111111111,
              "#46039f"
             ],
             [
              0.2222222222222222,
              "#7201a8"
             ],
             [
              0.3333333333333333,
              "#9c179e"
             ],
             [
              0.4444444444444444,
              "#bd3786"
             ],
             [
              0.5555555555555556,
              "#d8576b"
             ],
             [
              0.6666666666666666,
              "#ed7953"
             ],
             [
              0.7777777777777778,
              "#fb9f3a"
             ],
             [
              0.8888888888888888,
              "#fdca26"
             ],
             [
              1,
              "#f0f921"
             ]
            ],
            "type": "histogram2dcontour"
           }
          ],
          "mesh3d": [
           {
            "colorbar": {
             "outlinewidth": 0,
             "ticks": ""
            },
            "type": "mesh3d"
           }
          ],
          "parcoords": [
           {
            "line": {
             "colorbar": {
              "outlinewidth": 0,
              "ticks": ""
             }
            },
            "type": "parcoords"
           }
          ],
          "pie": [
           {
            "automargin": true,
            "type": "pie"
           }
          ],
          "scatter": [
           {
            "fillpattern": {
             "fillmode": "overlay",
             "size": 10,
             "solidity": 0.2
            },
            "type": "scatter"
           }
          ],
          "scatter3d": [
           {
            "line": {
             "colorbar": {
              "outlinewidth": 0,
              "ticks": ""
             }
            },
            "marker": {
             "colorbar": {
              "outlinewidth": 0,
              "ticks": ""
             }
            },
            "type": "scatter3d"
           }
          ],
          "scattercarpet": [
           {
            "marker": {
             "colorbar": {
              "outlinewidth": 0,
              "ticks": ""
             }
            },
            "type": "scattercarpet"
           }
          ],
          "scattergeo": [
           {
            "marker": {
             "colorbar": {
              "outlinewidth": 0,
              "ticks": ""
             }
            },
            "type": "scattergeo"
           }
          ],
          "scattergl": [
           {
            "marker": {
             "colorbar": {
              "outlinewidth": 0,
              "ticks": ""
             }
            },
            "type": "scattergl"
           }
          ],
          "scattermapbox": [
           {
            "marker": {
             "colorbar": {
              "outlinewidth": 0,
              "ticks": ""
             }
            },
            "type": "scattermapbox"
           }
          ],
          "scatterpolar": [
           {
            "marker": {
             "colorbar": {
              "outlinewidth": 0,
              "ticks": ""
             }
            },
            "type": "scatterpolar"
           }
          ],
          "scatterpolargl": [
           {
            "marker": {
             "colorbar": {
              "outlinewidth": 0,
              "ticks": ""
             }
            },
            "type": "scatterpolargl"
           }
          ],
          "scatterternary": [
           {
            "marker": {
             "colorbar": {
              "outlinewidth": 0,
              "ticks": ""
             }
            },
            "type": "scatterternary"
           }
          ],
          "surface": [
           {
            "colorbar": {
             "outlinewidth": 0,
             "ticks": ""
            },
            "colorscale": [
             [
              0,
              "#0d0887"
             ],
             [
              0.1111111111111111,
              "#46039f"
             ],
             [
              0.2222222222222222,
              "#7201a8"
             ],
             [
              0.3333333333333333,
              "#9c179e"
             ],
             [
              0.4444444444444444,
              "#bd3786"
             ],
             [
              0.5555555555555556,
              "#d8576b"
             ],
             [
              0.6666666666666666,
              "#ed7953"
             ],
             [
              0.7777777777777778,
              "#fb9f3a"
             ],
             [
              0.8888888888888888,
              "#fdca26"
             ],
             [
              1,
              "#f0f921"
             ]
            ],
            "type": "surface"
           }
          ],
          "table": [
           {
            "cells": {
             "fill": {
              "color": "#EBF0F8"
             },
             "line": {
              "color": "white"
             }
            },
            "header": {
             "fill": {
              "color": "#C8D4E3"
             },
             "line": {
              "color": "white"
             }
            },
            "type": "table"
           }
          ]
         },
         "layout": {
          "annotationdefaults": {
           "arrowcolor": "#2a3f5f",
           "arrowhead": 0,
           "arrowwidth": 1
          },
          "autotypenumbers": "strict",
          "coloraxis": {
           "colorbar": {
            "outlinewidth": 0,
            "ticks": ""
           }
          },
          "colorscale": {
           "diverging": [
            [
             0,
             "#8e0152"
            ],
            [
             0.1,
             "#c51b7d"
            ],
            [
             0.2,
             "#de77ae"
            ],
            [
             0.3,
             "#f1b6da"
            ],
            [
             0.4,
             "#fde0ef"
            ],
            [
             0.5,
             "#f7f7f7"
            ],
            [
             0.6,
             "#e6f5d0"
            ],
            [
             0.7,
             "#b8e186"
            ],
            [
             0.8,
             "#7fbc41"
            ],
            [
             0.9,
             "#4d9221"
            ],
            [
             1,
             "#276419"
            ]
           ],
           "sequential": [
            [
             0,
             "#0d0887"
            ],
            [
             0.1111111111111111,
             "#46039f"
            ],
            [
             0.2222222222222222,
             "#7201a8"
            ],
            [
             0.3333333333333333,
             "#9c179e"
            ],
            [
             0.4444444444444444,
             "#bd3786"
            ],
            [
             0.5555555555555556,
             "#d8576b"
            ],
            [
             0.6666666666666666,
             "#ed7953"
            ],
            [
             0.7777777777777778,
             "#fb9f3a"
            ],
            [
             0.8888888888888888,
             "#fdca26"
            ],
            [
             1,
             "#f0f921"
            ]
           ],
           "sequentialminus": [
            [
             0,
             "#0d0887"
            ],
            [
             0.1111111111111111,
             "#46039f"
            ],
            [
             0.2222222222222222,
             "#7201a8"
            ],
            [
             0.3333333333333333,
             "#9c179e"
            ],
            [
             0.4444444444444444,
             "#bd3786"
            ],
            [
             0.5555555555555556,
             "#d8576b"
            ],
            [
             0.6666666666666666,
             "#ed7953"
            ],
            [
             0.7777777777777778,
             "#fb9f3a"
            ],
            [
             0.8888888888888888,
             "#fdca26"
            ],
            [
             1,
             "#f0f921"
            ]
           ]
          },
          "colorway": [
           "#636efa",
           "#EF553B",
           "#00cc96",
           "#ab63fa",
           "#FFA15A",
           "#19d3f3",
           "#FF6692",
           "#B6E880",
           "#FF97FF",
           "#FECB52"
          ],
          "font": {
           "color": "#2a3f5f"
          },
          "geo": {
           "bgcolor": "white",
           "lakecolor": "white",
           "landcolor": "#E5ECF6",
           "showlakes": true,
           "showland": true,
           "subunitcolor": "white"
          },
          "hoverlabel": {
           "align": "left"
          },
          "hovermode": "closest",
          "mapbox": {
           "style": "light"
          },
          "paper_bgcolor": "white",
          "plot_bgcolor": "#E5ECF6",
          "polar": {
           "angularaxis": {
            "gridcolor": "white",
            "linecolor": "white",
            "ticks": ""
           },
           "bgcolor": "#E5ECF6",
           "radialaxis": {
            "gridcolor": "white",
            "linecolor": "white",
            "ticks": ""
           }
          },
          "scene": {
           "xaxis": {
            "backgroundcolor": "#E5ECF6",
            "gridcolor": "white",
            "gridwidth": 2,
            "linecolor": "white",
            "showbackground": true,
            "ticks": "",
            "zerolinecolor": "white"
           },
           "yaxis": {
            "backgroundcolor": "#E5ECF6",
            "gridcolor": "white",
            "gridwidth": 2,
            "linecolor": "white",
            "showbackground": true,
            "ticks": "",
            "zerolinecolor": "white"
           },
           "zaxis": {
            "backgroundcolor": "#E5ECF6",
            "gridcolor": "white",
            "gridwidth": 2,
            "linecolor": "white",
            "showbackground": true,
            "ticks": "",
            "zerolinecolor": "white"
           }
          },
          "shapedefaults": {
           "line": {
            "color": "#2a3f5f"
           }
          },
          "ternary": {
           "aaxis": {
            "gridcolor": "white",
            "linecolor": "white",
            "ticks": ""
           },
           "baxis": {
            "gridcolor": "white",
            "linecolor": "white",
            "ticks": ""
           },
           "bgcolor": "#E5ECF6",
           "caxis": {
            "gridcolor": "white",
            "linecolor": "white",
            "ticks": ""
           }
          },
          "title": {
           "x": 0.05
          },
          "xaxis": {
           "automargin": true,
           "gridcolor": "white",
           "linecolor": "white",
           "ticks": "",
           "title": {
            "standoff": 15
           },
           "zerolinecolor": "white",
           "zerolinewidth": 2
          },
          "yaxis": {
           "automargin": true,
           "gridcolor": "white",
           "linecolor": "white",
           "ticks": "",
           "title": {
            "standoff": 15
           },
           "zerolinecolor": "white",
           "zerolinewidth": 2
          }
         }
        },
        "title": {
         "text": "World Rank & Research differentiated by location"
        },
        "xaxis": {
         "anchor": "y",
         "domain": [
          0,
          1
         ],
         "title": {
          "text": "Final_Rank"
         }
        },
        "yaxis": {
         "anchor": "x",
         "domain": [
          0,
          1
         ],
         "title": {
          "text": "scores_research"
         }
        }
       }
      }
     },
     "metadata": {},
     "output_type": "display_data"
    }
   ],
   "source": [
    "chart2= px.scatter(top_500_unis, x='Final_Rank', y='scores_research', color='location', title='World Rank & Research differentiated by location')\n",
    "chart2.show()"
   ]
  },
  {
   "cell_type": "code",
   "execution_count": 29,
   "metadata": {},
   "outputs": [],
   "source": [
    "df_bd_top7 = df_bd.head(7)"
   ]
  },
  {
   "cell_type": "code",
   "execution_count": 30,
   "metadata": {},
   "outputs": [
    {
     "data": {
      "application/vnd.plotly.v1+json": {
       "config": {
        "plotlyServerURL": "https://plot.ly"
       },
       "data": [
        {
         "alignmentgroup": "True",
         "customdata": [
          [
           14.8,
           12.3,
           71.1
          ],
          [
           17.5,
           10,
           68.8
          ],
          [
           24.1,
           8.9,
           71.9
          ],
          [
           12.9,
           10,
           76.1
          ],
          [
           29.5,
           9.9,
           45.2
          ],
          [
           21.7,
           15.8,
           50.7
          ],
          [
           15.9,
           9.3,
           59.3
          ]
         ],
         "hovertemplate": "name=%{x}<br>Total_Score=%{marker.color}<br>scores_teaching=%{customdata[0]}<br>scores_research=%{customdata[1]}<br>scores_citations=%{customdata[2]}<extra></extra>",
         "legendgroup": "",
         "marker": {
          "color": [
           82.7875,
           81.14,
           86.01500000000001,
           86.6125,
           61.2975,
           65.065,
           70.27
          ],
          "coloraxis": "coloraxis",
          "pattern": {
           "shape": ""
          }
         },
         "name": "",
         "offsetgroup": "",
         "orientation": "v",
         "showlegend": false,
         "textposition": "auto",
         "type": "bar",
         "x": [
          "BRAC University",
          "University of Dhaka",
          "Jahangirnagar University",
          "North South University",
          "Bangladesh Agricultural University (BAU)",
          "Bangladesh University of Engineering and Technology",
          "University of Rajshahi"
         ],
         "xaxis": "x",
         "y": [
          82.7875,
          81.14,
          86.01500000000001,
          86.6125,
          61.2975,
          65.065,
          70.27
         ],
         "yaxis": "y"
        }
       ],
       "layout": {
        "barmode": "relative",
        "coloraxis": {
         "colorbar": {
          "title": {
           "text": "Total_Score"
          }
         },
         "colorscale": [
          [
           0,
           "#0d0887"
          ],
          [
           0.1111111111111111,
           "#46039f"
          ],
          [
           0.2222222222222222,
           "#7201a8"
          ],
          [
           0.3333333333333333,
           "#9c179e"
          ],
          [
           0.4444444444444444,
           "#bd3786"
          ],
          [
           0.5555555555555556,
           "#d8576b"
          ],
          [
           0.6666666666666666,
           "#ed7953"
          ],
          [
           0.7777777777777778,
           "#fb9f3a"
          ],
          [
           0.8888888888888888,
           "#fdca26"
          ],
          [
           1,
           "#f0f921"
          ]
         ]
        },
        "legend": {
         "tracegroupgap": 0
        },
        "margin": {
         "t": 60
        },
        "template": {
         "data": {
          "bar": [
           {
            "error_x": {
             "color": "#2a3f5f"
            },
            "error_y": {
             "color": "#2a3f5f"
            },
            "marker": {
             "line": {
              "color": "#E5ECF6",
              "width": 0.5
             },
             "pattern": {
              "fillmode": "overlay",
              "size": 10,
              "solidity": 0.2
             }
            },
            "type": "bar"
           }
          ],
          "barpolar": [
           {
            "marker": {
             "line": {
              "color": "#E5ECF6",
              "width": 0.5
             },
             "pattern": {
              "fillmode": "overlay",
              "size": 10,
              "solidity": 0.2
             }
            },
            "type": "barpolar"
           }
          ],
          "carpet": [
           {
            "aaxis": {
             "endlinecolor": "#2a3f5f",
             "gridcolor": "white",
             "linecolor": "white",
             "minorgridcolor": "white",
             "startlinecolor": "#2a3f5f"
            },
            "baxis": {
             "endlinecolor": "#2a3f5f",
             "gridcolor": "white",
             "linecolor": "white",
             "minorgridcolor": "white",
             "startlinecolor": "#2a3f5f"
            },
            "type": "carpet"
           }
          ],
          "choropleth": [
           {
            "colorbar": {
             "outlinewidth": 0,
             "ticks": ""
            },
            "type": "choropleth"
           }
          ],
          "contour": [
           {
            "colorbar": {
             "outlinewidth": 0,
             "ticks": ""
            },
            "colorscale": [
             [
              0,
              "#0d0887"
             ],
             [
              0.1111111111111111,
              "#46039f"
             ],
             [
              0.2222222222222222,
              "#7201a8"
             ],
             [
              0.3333333333333333,
              "#9c179e"
             ],
             [
              0.4444444444444444,
              "#bd3786"
             ],
             [
              0.5555555555555556,
              "#d8576b"
             ],
             [
              0.6666666666666666,
              "#ed7953"
             ],
             [
              0.7777777777777778,
              "#fb9f3a"
             ],
             [
              0.8888888888888888,
              "#fdca26"
             ],
             [
              1,
              "#f0f921"
             ]
            ],
            "type": "contour"
           }
          ],
          "contourcarpet": [
           {
            "colorbar": {
             "outlinewidth": 0,
             "ticks": ""
            },
            "type": "contourcarpet"
           }
          ],
          "heatmap": [
           {
            "colorbar": {
             "outlinewidth": 0,
             "ticks": ""
            },
            "colorscale": [
             [
              0,
              "#0d0887"
             ],
             [
              0.1111111111111111,
              "#46039f"
             ],
             [
              0.2222222222222222,
              "#7201a8"
             ],
             [
              0.3333333333333333,
              "#9c179e"
             ],
             [
              0.4444444444444444,
              "#bd3786"
             ],
             [
              0.5555555555555556,
              "#d8576b"
             ],
             [
              0.6666666666666666,
              "#ed7953"
             ],
             [
              0.7777777777777778,
              "#fb9f3a"
             ],
             [
              0.8888888888888888,
              "#fdca26"
             ],
             [
              1,
              "#f0f921"
             ]
            ],
            "type": "heatmap"
           }
          ],
          "heatmapgl": [
           {
            "colorbar": {
             "outlinewidth": 0,
             "ticks": ""
            },
            "colorscale": [
             [
              0,
              "#0d0887"
             ],
             [
              0.1111111111111111,
              "#46039f"
             ],
             [
              0.2222222222222222,
              "#7201a8"
             ],
             [
              0.3333333333333333,
              "#9c179e"
             ],
             [
              0.4444444444444444,
              "#bd3786"
             ],
             [
              0.5555555555555556,
              "#d8576b"
             ],
             [
              0.6666666666666666,
              "#ed7953"
             ],
             [
              0.7777777777777778,
              "#fb9f3a"
             ],
             [
              0.8888888888888888,
              "#fdca26"
             ],
             [
              1,
              "#f0f921"
             ]
            ],
            "type": "heatmapgl"
           }
          ],
          "histogram": [
           {
            "marker": {
             "pattern": {
              "fillmode": "overlay",
              "size": 10,
              "solidity": 0.2
             }
            },
            "type": "histogram"
           }
          ],
          "histogram2d": [
           {
            "colorbar": {
             "outlinewidth": 0,
             "ticks": ""
            },
            "colorscale": [
             [
              0,
              "#0d0887"
             ],
             [
              0.1111111111111111,
              "#46039f"
             ],
             [
              0.2222222222222222,
              "#7201a8"
             ],
             [
              0.3333333333333333,
              "#9c179e"
             ],
             [
              0.4444444444444444,
              "#bd3786"
             ],
             [
              0.5555555555555556,
              "#d8576b"
             ],
             [
              0.6666666666666666,
              "#ed7953"
             ],
             [
              0.7777777777777778,
              "#fb9f3a"
             ],
             [
              0.8888888888888888,
              "#fdca26"
             ],
             [
              1,
              "#f0f921"
             ]
            ],
            "type": "histogram2d"
           }
          ],
          "histogram2dcontour": [
           {
            "colorbar": {
             "outlinewidth": 0,
             "ticks": ""
            },
            "colorscale": [
             [
              0,
              "#0d0887"
             ],
             [
              0.1111111111111111,
              "#46039f"
             ],
             [
              0.2222222222222222,
              "#7201a8"
             ],
             [
              0.3333333333333333,
              "#9c179e"
             ],
             [
              0.4444444444444444,
              "#bd3786"
             ],
             [
              0.5555555555555556,
              "#d8576b"
             ],
             [
              0.6666666666666666,
              "#ed7953"
             ],
             [
              0.7777777777777778,
              "#fb9f3a"
             ],
             [
              0.8888888888888888,
              "#fdca26"
             ],
             [
              1,
              "#f0f921"
             ]
            ],
            "type": "histogram2dcontour"
           }
          ],
          "mesh3d": [
           {
            "colorbar": {
             "outlinewidth": 0,
             "ticks": ""
            },
            "type": "mesh3d"
           }
          ],
          "parcoords": [
           {
            "line": {
             "colorbar": {
              "outlinewidth": 0,
              "ticks": ""
             }
            },
            "type": "parcoords"
           }
          ],
          "pie": [
           {
            "automargin": true,
            "type": "pie"
           }
          ],
          "scatter": [
           {
            "fillpattern": {
             "fillmode": "overlay",
             "size": 10,
             "solidity": 0.2
            },
            "type": "scatter"
           }
          ],
          "scatter3d": [
           {
            "line": {
             "colorbar": {
              "outlinewidth": 0,
              "ticks": ""
             }
            },
            "marker": {
             "colorbar": {
              "outlinewidth": 0,
              "ticks": ""
             }
            },
            "type": "scatter3d"
           }
          ],
          "scattercarpet": [
           {
            "marker": {
             "colorbar": {
              "outlinewidth": 0,
              "ticks": ""
             }
            },
            "type": "scattercarpet"
           }
          ],
          "scattergeo": [
           {
            "marker": {
             "colorbar": {
              "outlinewidth": 0,
              "ticks": ""
             }
            },
            "type": "scattergeo"
           }
          ],
          "scattergl": [
           {
            "marker": {
             "colorbar": {
              "outlinewidth": 0,
              "ticks": ""
             }
            },
            "type": "scattergl"
           }
          ],
          "scattermapbox": [
           {
            "marker": {
             "colorbar": {
              "outlinewidth": 0,
              "ticks": ""
             }
            },
            "type": "scattermapbox"
           }
          ],
          "scatterpolar": [
           {
            "marker": {
             "colorbar": {
              "outlinewidth": 0,
              "ticks": ""
             }
            },
            "type": "scatterpolar"
           }
          ],
          "scatterpolargl": [
           {
            "marker": {
             "colorbar": {
              "outlinewidth": 0,
              "ticks": ""
             }
            },
            "type": "scatterpolargl"
           }
          ],
          "scatterternary": [
           {
            "marker": {
             "colorbar": {
              "outlinewidth": 0,
              "ticks": ""
             }
            },
            "type": "scatterternary"
           }
          ],
          "surface": [
           {
            "colorbar": {
             "outlinewidth": 0,
             "ticks": ""
            },
            "colorscale": [
             [
              0,
              "#0d0887"
             ],
             [
              0.1111111111111111,
              "#46039f"
             ],
             [
              0.2222222222222222,
              "#7201a8"
             ],
             [
              0.3333333333333333,
              "#9c179e"
             ],
             [
              0.4444444444444444,
              "#bd3786"
             ],
             [
              0.5555555555555556,
              "#d8576b"
             ],
             [
              0.6666666666666666,
              "#ed7953"
             ],
             [
              0.7777777777777778,
              "#fb9f3a"
             ],
             [
              0.8888888888888888,
              "#fdca26"
             ],
             [
              1,
              "#f0f921"
             ]
            ],
            "type": "surface"
           }
          ],
          "table": [
           {
            "cells": {
             "fill": {
              "color": "#EBF0F8"
             },
             "line": {
              "color": "white"
             }
            },
            "header": {
             "fill": {
              "color": "#C8D4E3"
             },
             "line": {
              "color": "white"
             }
            },
            "type": "table"
           }
          ]
         },
         "layout": {
          "annotationdefaults": {
           "arrowcolor": "#2a3f5f",
           "arrowhead": 0,
           "arrowwidth": 1
          },
          "autotypenumbers": "strict",
          "coloraxis": {
           "colorbar": {
            "outlinewidth": 0,
            "ticks": ""
           }
          },
          "colorscale": {
           "diverging": [
            [
             0,
             "#8e0152"
            ],
            [
             0.1,
             "#c51b7d"
            ],
            [
             0.2,
             "#de77ae"
            ],
            [
             0.3,
             "#f1b6da"
            ],
            [
             0.4,
             "#fde0ef"
            ],
            [
             0.5,
             "#f7f7f7"
            ],
            [
             0.6,
             "#e6f5d0"
            ],
            [
             0.7,
             "#b8e186"
            ],
            [
             0.8,
             "#7fbc41"
            ],
            [
             0.9,
             "#4d9221"
            ],
            [
             1,
             "#276419"
            ]
           ],
           "sequential": [
            [
             0,
             "#0d0887"
            ],
            [
             0.1111111111111111,
             "#46039f"
            ],
            [
             0.2222222222222222,
             "#7201a8"
            ],
            [
             0.3333333333333333,
             "#9c179e"
            ],
            [
             0.4444444444444444,
             "#bd3786"
            ],
            [
             0.5555555555555556,
             "#d8576b"
            ],
            [
             0.6666666666666666,
             "#ed7953"
            ],
            [
             0.7777777777777778,
             "#fb9f3a"
            ],
            [
             0.8888888888888888,
             "#fdca26"
            ],
            [
             1,
             "#f0f921"
            ]
           ],
           "sequentialminus": [
            [
             0,
             "#0d0887"
            ],
            [
             0.1111111111111111,
             "#46039f"
            ],
            [
             0.2222222222222222,
             "#7201a8"
            ],
            [
             0.3333333333333333,
             "#9c179e"
            ],
            [
             0.4444444444444444,
             "#bd3786"
            ],
            [
             0.5555555555555556,
             "#d8576b"
            ],
            [
             0.6666666666666666,
             "#ed7953"
            ],
            [
             0.7777777777777778,
             "#fb9f3a"
            ],
            [
             0.8888888888888888,
             "#fdca26"
            ],
            [
             1,
             "#f0f921"
            ]
           ]
          },
          "colorway": [
           "#636efa",
           "#EF553B",
           "#00cc96",
           "#ab63fa",
           "#FFA15A",
           "#19d3f3",
           "#FF6692",
           "#B6E880",
           "#FF97FF",
           "#FECB52"
          ],
          "font": {
           "color": "#2a3f5f"
          },
          "geo": {
           "bgcolor": "white",
           "lakecolor": "white",
           "landcolor": "#E5ECF6",
           "showlakes": true,
           "showland": true,
           "subunitcolor": "white"
          },
          "hoverlabel": {
           "align": "left"
          },
          "hovermode": "closest",
          "mapbox": {
           "style": "light"
          },
          "paper_bgcolor": "white",
          "plot_bgcolor": "#E5ECF6",
          "polar": {
           "angularaxis": {
            "gridcolor": "white",
            "linecolor": "white",
            "ticks": ""
           },
           "bgcolor": "#E5ECF6",
           "radialaxis": {
            "gridcolor": "white",
            "linecolor": "white",
            "ticks": ""
           }
          },
          "scene": {
           "xaxis": {
            "backgroundcolor": "#E5ECF6",
            "gridcolor": "white",
            "gridwidth": 2,
            "linecolor": "white",
            "showbackground": true,
            "ticks": "",
            "zerolinecolor": "white"
           },
           "yaxis": {
            "backgroundcolor": "#E5ECF6",
            "gridcolor": "white",
            "gridwidth": 2,
            "linecolor": "white",
            "showbackground": true,
            "ticks": "",
            "zerolinecolor": "white"
           },
           "zaxis": {
            "backgroundcolor": "#E5ECF6",
            "gridcolor": "white",
            "gridwidth": 2,
            "linecolor": "white",
            "showbackground": true,
            "ticks": "",
            "zerolinecolor": "white"
           }
          },
          "shapedefaults": {
           "line": {
            "color": "#2a3f5f"
           }
          },
          "ternary": {
           "aaxis": {
            "gridcolor": "white",
            "linecolor": "white",
            "ticks": ""
           },
           "baxis": {
            "gridcolor": "white",
            "linecolor": "white",
            "ticks": ""
           },
           "bgcolor": "#E5ECF6",
           "caxis": {
            "gridcolor": "white",
            "linecolor": "white",
            "ticks": ""
           }
          },
          "title": {
           "x": 0.05
          },
          "xaxis": {
           "automargin": true,
           "gridcolor": "white",
           "linecolor": "white",
           "ticks": "",
           "title": {
            "standoff": 15
           },
           "zerolinecolor": "white",
           "zerolinewidth": 2
          },
          "yaxis": {
           "automargin": true,
           "gridcolor": "white",
           "linecolor": "white",
           "ticks": "",
           "title": {
            "standoff": 15
           },
           "zerolinecolor": "white",
           "zerolinewidth": 2
          }
         }
        },
        "xaxis": {
         "anchor": "y",
         "domain": [
          0,
          1
         ],
         "title": {
          "text": "name"
         }
        },
        "yaxis": {
         "anchor": "x",
         "domain": [
          0,
          1
         ],
         "title": {
          "text": "Total_Score"
         }
        }
       }
      }
     },
     "metadata": {},
     "output_type": "display_data"
    }
   ],
   "source": [
    "fig = px.bar(df_bd_top7, x='name', y='Total_Score', hover_data=['scores_teaching', 'scores_research', 'scores_citations'], color='Total_Score')\n",
    "fig.show()"
   ]
  }
 ],
 "metadata": {
  "kernelspec": {
   "display_name": "Python 3",
   "language": "python",
   "name": "python3"
  },
  "language_info": {
   "codemirror_mode": {
    "name": "ipython",
    "version": 3
   },
   "file_extension": ".py",
   "mimetype": "text/x-python",
   "name": "python",
   "nbconvert_exporter": "python",
   "pygments_lexer": "ipython3",
   "version": "3.12.6"
  }
 },
 "nbformat": 4,
 "nbformat_minor": 2
}
